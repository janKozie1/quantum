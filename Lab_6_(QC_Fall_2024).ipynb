{
  "cells": [
    {
      "metadata": {
        "id": "jZFapf2bbXEW"
      },
      "cell_type": "markdown",
      "source": [
        "# Tensor Products of Matrices"
      ]
    },
    {
      "metadata": {
        "id": "TsAhAnOUbXEd"
      },
      "cell_type": "markdown",
      "source": [
        "## Imports\n",
        "\n",
        "As usual, we will need NumPy. So, let's import it now. "
      ]
    },
    {
      "metadata": {
        "trusted": false,
        "id": "3u4g1GW2bXEf"
      },
      "cell_type": "code",
      "source": [
        "import numpy as np"
      ],
      "execution_count": null,
      "outputs": []
    },
    {
      "metadata": {
        "id": "lNENo1TLbXEh"
      },
      "cell_type": "markdown",
      "source": [
        "In this section we will discuss how to take tensor products of matrices in order to later build quantum gates that operate on many qubits at once. Understanding the basics of tensor products of matrices is fundamental to understanding quantum logic gates and quantum circuits. For the tensor product of two $2 \\times 2$ matrices, the general rule is as follows:"
      ]
    },
    {
      "metadata": {
        "id": "B_cYtTkYbXEi"
      },
      "cell_type": "markdown",
      "source": [
        "\\begin{align}\n",
        "\\begin{pmatrix}\n",
        "a & b \\\\\n",
        "c & d\n",
        "\\end{pmatrix} \\otimes \n",
        "\\begin{pmatrix}\n",
        "x & y \\\\\n",
        "z & w\n",
        "\\end{pmatrix} = \n",
        "\\begin{pmatrix}\n",
        "a \\begin{pmatrix}\n",
        "x & y \\\\\n",
        "z & w\n",
        "\\end{pmatrix} & b \\begin{pmatrix}\n",
        "x & y \\\\\n",
        "z & w\n",
        "\\end{pmatrix} \\\\\n",
        "c \\begin{pmatrix}\n",
        "x & y \\\\\n",
        "z & w\n",
        "\\end{pmatrix} & d \\begin{pmatrix}\n",
        "x & y \\\\\n",
        "z & w\n",
        "\\end{pmatrix}\n",
        "\\end{pmatrix} = \n",
        "\\begin{pmatrix}\n",
        "ax & ay & bx & by \\\\\n",
        "az & aw & bz & bw \\\\\n",
        "cx & cy & dx & dy \\\\\n",
        "cz & cw & dz & dw\n",
        "\\end{pmatrix}\n",
        "\\end{align}"
      ]
    },
    {
      "metadata": {
        "id": "dASnCOIZbXEk"
      },
      "cell_type": "markdown",
      "source": [
        "Here is a basic numerical example:\n",
        "\n",
        "\\begin{align}\n",
        "\\begin{pmatrix}\n",
        "2 & 3 \\\\\n",
        "6 & 1\n",
        "\\end{pmatrix} \\otimes\n",
        "\\begin{pmatrix}\n",
        "7 & 10 \\\\\n",
        "9 & 4\n",
        "\\end{pmatrix} = \n",
        "\\begin{pmatrix}\n",
        "2 \\begin{pmatrix}\n",
        "7 & 10 \\\\\n",
        "9 & 4\n",
        "\\end{pmatrix}& 3\\begin{pmatrix}\n",
        "7 & 10 \\\\\n",
        "9 & 4\n",
        "\\end{pmatrix} \\\\\n",
        "6\\begin{pmatrix}\n",
        "7 & 10 \\\\\n",
        "9 & 4\n",
        "\\end{pmatrix} & 1\\begin{pmatrix}\n",
        "7 & 10 \\\\\n",
        "9 & 4\n",
        "\\end{pmatrix}\n",
        "\\end{pmatrix} = \n",
        "\\begin{pmatrix}\n",
        "14 & 20 & 21 & 30 \\\\\n",
        "18 & 8 & 27 & 12 \\\\\n",
        "42 & 60 & 7 & 10 \\\\\n",
        "54 & 24 & 9 & 4\n",
        "\\end{pmatrix}\n",
        "\\end{align}"
      ]
    },
    {
      "metadata": {
        "id": "ufSiD2DkbXEl"
      },
      "cell_type": "markdown",
      "source": [
        "We can again use the 'np.kron()' function to perform this computation in Python, just as we did for qubit state vectors.\n",
        "\n",
        "> Indented block\n",
        "\n"
      ]
    },
    {
      "metadata": {
        "trusted": false,
        "id": "j42j7yy7bXEm",
        "outputId": "83717c2b-1daf-4b82-d9cf-320a6dff56c2"
      },
      "cell_type": "code",
      "source": [
        "A = np.matrix([[2, 3],\n",
        "               [6, 1]])\n",
        "\n",
        "B = np.matrix([[7, 10], \n",
        "               [9, 4]])\n",
        "\n",
        "np.kron(A,B)"
      ],
      "execution_count": null,
      "outputs": [
        {
          "data": {
            "text/plain": "matrix([[14, 20, 21, 30],\n        [18,  8, 27, 12],\n        [42, 60,  7, 10],\n        [54, 24,  9,  4]])"
          },
          "execution_count": 2,
          "metadata": {},
          "output_type": "execute_result"
        }
      ]
    },
    {
      "metadata": {
        "id": "z6ilLEhBbXEo"
      },
      "cell_type": "markdown",
      "source": [
        "In quantum computing, if we have basis states such as\n",
        "\n",
        "\\begin{align}\n",
        "|010\\rangle &= |0\\rangle \\otimes |1\\rangle \\otimes |0\\rangle \\\\\n",
        "&= \\begin{pmatrix}\n",
        "1\\\\0\n",
        "\\end{pmatrix} \\otimes \n",
        "\\begin{pmatrix}\n",
        "0\\\\1\n",
        "\\end{pmatrix} \\otimes \n",
        "\\begin{pmatrix}\n",
        "1\\\\0\n",
        "\\end{pmatrix} \\\\\n",
        "&= \\begin{pmatrix}\n",
        "0\\\\0\\\\1\\\\0\\\\0\\\\0\\\\0\\\\0\n",
        "\\end{pmatrix}\n",
        "\\end{align}\n",
        "\n",
        "we can operate on them using tensor product of operators. In particular, to operate on a three qubit basis state such at this, we need the tensor product of three $2 \\times 2$ matrix. For example, with the following four operators:\n",
        "\n",
        "\\begin{align}\n",
        "I = \\begin{pmatrix} 1&0 \\\\ 0&1 \\end{pmatrix}, \\quad\n",
        "X = \\begin{pmatrix} 0&1 \\\\ 1&0 \\end{pmatrix}, \\quad\n",
        "Y = \\begin{pmatrix} 0&i \\\\ -i&0 \\end{pmatrix}, \\quad\n",
        "Z = \\begin{pmatrix} 1&0 \\\\ 0&-1 \\end{pmatrix}, \\quad\n",
        "H = \\frac{1}{\\sqrt{2}} \\begin{pmatrix} 1&1 \\\\ 1&-1 \\end{pmatrix}\n",
        "\\end{align}\n",
        "\n",
        "We can form tensor products of matrices (gates) such as $H \\otimes X \\otimes I$ and $Z \\otimes Z \\otimes H$, and any other three matrix combination you might dream up. Let's define a basis state $|01\\rangle$ and compute a few operators that will operate on this basis state:"
      ]
    },
    {
      "metadata": {
        "trusted": false,
        "id": "l7dbr4fnbXEp",
        "outputId": "aa6e1d1c-7e3c-4606-a4a9-e72c681a9bba"
      },
      "cell_type": "code",
      "source": [
        "#Define the basis state |01>\n",
        "u = np.matrix([[1],\n",
        "               [0]])\n",
        "\n",
        "d = np.matrix([[0],\n",
        "               [1]])\n",
        "\n",
        "ud = np.kron(u,d)\n",
        "\n",
        "print(ud)"
      ],
      "execution_count": null,
      "outputs": [
        {
          "name": "stdout",
          "output_type": "stream",
          "text": "[[0]\n [1]\n [0]\n [0]]\n"
        }
      ]
    },
    {
      "metadata": {
        "trusted": false,
        "id": "au9xPPrvbXEq"
      },
      "cell_type": "code",
      "source": [
        "# Define the matrices X, Y, Z, and H\n",
        "X = np.matrix([[0, 1],\n",
        "               [1, 0]])\n",
        "\n",
        "Y = np.matrix([[0, -1j], \n",
        "               [1j, 0]])\n",
        "\n",
        "Z = np.matrix([[1, 0],\n",
        "               [0, -1]])\n",
        "\n",
        "H = (1/np.sqrt(2))*np.matrix([[1, 1], \n",
        "                              [1, -1]])"
      ],
      "execution_count": null,
      "outputs": []
    },
    {
      "metadata": {
        "id": "xmRZl9hibXEr"
      },
      "cell_type": "markdown",
      "source": [
        "Now let's compute the following four tensor products:\n",
        "\n",
        "\\begin{align}\n",
        "X \\otimes Y, \\quad X \\otimes Z, \\quad H \\otimes H\n",
        "\\end{align}"
      ]
    },
    {
      "metadata": {
        "trusted": false,
        "id": "fz7SKQJZbXEs",
        "outputId": "079867d5-a873-4960-b926-bcd145f944a3"
      },
      "cell_type": "code",
      "source": [
        "print(np.kron(X, Y))"
      ],
      "execution_count": null,
      "outputs": [
        {
          "name": "stdout",
          "output_type": "stream",
          "text": "[[0.+0.j 0.-0.j 0.+0.j 0.-1.j]\n [0.+0.j 0.+0.j 0.+1.j 0.+0.j]\n [0.+0.j 0.-1.j 0.+0.j 0.-0.j]\n [0.+1.j 0.+0.j 0.+0.j 0.+0.j]]\n"
        }
      ]
    },
    {
      "metadata": {
        "trusted": false,
        "id": "EYILvF3NbXEs",
        "outputId": "8872c0cd-7460-45d0-eb61-6d0e24a2022a"
      },
      "cell_type": "code",
      "source": [
        "print(np.kron(X, Z))"
      ],
      "execution_count": null,
      "outputs": [
        {
          "name": "stdout",
          "output_type": "stream",
          "text": "[[ 0  0  1  0]\n [ 0  0  0 -1]\n [ 1  0  0  0]\n [ 0 -1  0  0]]\n"
        }
      ]
    },
    {
      "metadata": {
        "trusted": false,
        "id": "pw1LWRF1bXEt",
        "outputId": "7a799e82-12bc-4d80-ad29-bf4d7edc77f1"
      },
      "cell_type": "code",
      "source": [
        "print(np.kron(H, H))"
      ],
      "execution_count": null,
      "outputs": [
        {
          "name": "stdout",
          "output_type": "stream",
          "text": "[[ 0.5  0.5  0.5  0.5]\n [ 0.5 -0.5  0.5 -0.5]\n [ 0.5  0.5 -0.5 -0.5]\n [ 0.5 -0.5 -0.5  0.5]]\n"
        }
      ]
    },
    {
      "metadata": {
        "id": "66fWu_ZabXEt"
      },
      "cell_type": "markdown",
      "source": [
        "Now, we can compute the action of these matrices on $|01\\rangle$ as:\n",
        "\n",
        "\\begin{align}\n",
        "(X \\otimes Y)(|01\\rangle) = (X \\otimes Y)(|0\\rangle \\otimes |1\\rangle) = X|0\\rangle \\otimes Y|1\\rangle \n",
        "\\end{align}\n",
        "\n",
        "\\begin{align}\n",
        "(X \\otimes Z)(|01\\rangle) = (X \\otimes Z)(|0\\rangle \\otimes |1\\rangle) = X|0\\rangle \\otimes Z|1\\rangle \n",
        "\\end{align}\n",
        "\n",
        "\\begin{align}\n",
        "(H \\otimes H)(|01\\rangle) = (H \\otimes H)(|0\\rangle \\otimes |1\\rangle) = H|0\\rangle \\otimes H|1\\rangle \n",
        "\\end{align}"
      ]
    },
    {
      "metadata": {
        "trusted": false,
        "id": "whCg0UvYbXEu"
      },
      "cell_type": "code",
      "source": [
        "XY = np.kron(X, Y)\n",
        "XZ = np.kron(X, Z)\n",
        "HH = np.kron(H, H)"
      ],
      "execution_count": null,
      "outputs": []
    },
    {
      "metadata": {
        "trusted": false,
        "id": "WtD53IejbXEu",
        "outputId": "5073a502-de13-4929-ff31-d3c9def93e91"
      },
      "cell_type": "code",
      "source": [
        "print(XY * ud)"
      ],
      "execution_count": null,
      "outputs": [
        {
          "name": "stdout",
          "output_type": "stream",
          "text": "[[0.+0.j]\n [0.+0.j]\n [0.-1.j]\n [0.+0.j]]\n"
        }
      ]
    },
    {
      "metadata": {
        "trusted": false,
        "id": "YoBsFAw2bXEv",
        "outputId": "6456fd97-3e8a-4df3-b19a-bb8c72046147"
      },
      "cell_type": "code",
      "source": [
        "print(XZ * ud)"
      ],
      "execution_count": null,
      "outputs": [
        {
          "name": "stdout",
          "output_type": "stream",
          "text": "[[ 0]\n [ 0]\n [ 0]\n [-1]]\n"
        }
      ]
    },
    {
      "metadata": {
        "trusted": false,
        "id": "xWZm59AibXEv",
        "outputId": "6a4e191a-79df-4868-d255-1ca5f12fad6b"
      },
      "cell_type": "code",
      "source": [
        "print(HH * ud)"
      ],
      "execution_count": null,
      "outputs": [
        {
          "name": "stdout",
          "output_type": "stream",
          "text": "[[ 0.5]\n [-0.5]\n [ 0.5]\n [-0.5]]\n"
        }
      ]
    },
    {
      "metadata": {
        "id": "dh5hTNwzbXEw"
      },
      "cell_type": "markdown",
      "source": [
        "## Exercises\n",
        "\n",
        "1. Compute the following tensor product by hand:\n",
        "\n",
        "\\begin{align}\n",
        "\\begin{pmatrix}\n",
        "11 & 2 \\\\\n",
        "3 & 5\n",
        "\\end{pmatrix} \\otimes\n",
        "\\begin{pmatrix}\n",
        "7 & 8 \\\\ \n",
        "0 & 1\n",
        "\\end{pmatrix}\n",
        "\\end{align}"
      ]
    },
    {
      "metadata": {
        "id": "aM1LGDrLbXEw"
      },
      "cell_type": "markdown",
      "source": [
        "#### Compute the following tensor products by hand:\n",
        "\n",
        "2. $X \\otimes X$\n",
        "3. $Z \\otimes Y$\n",
        "4. $H \\otimes X$"
      ]
    },
    {
      "metadata": {
        "id": "05crhBQ4bXEx"
      },
      "cell_type": "markdown",
      "source": [
        "#### Write Python code to compute the tensor products:\n",
        "\n",
        "5. $X \\otimes X$\n",
        "6. $Z \\otimes Y$\n",
        "7. $H \\otimes X$\n",
        "8. $H \\otimes H$"
      ]
    },
    {
      "metadata": {
        "id": "hMqvXgdUbXEx"
      },
      "cell_type": "markdown",
      "source": [
        "9. Write Python code to verify that $(H \\otimes H) \\otimes H = H \\otimes (H \\otimes H)$. "
      ]
    },
    {
      "metadata": {
        "id": "Uo66N2bjbXEx"
      },
      "cell_type": "markdown",
      "source": [
        "#### Use the following code defining the basis state $|010 \\rangle $ and the relevant tensor products to compute the following: \n",
        "\n",
        "10. $(X \\otimes X \\otimes Y)|010 \\rangle$\n",
        "11. $(X \\otimes Z \\otimes H)|010 \\rangle$\n",
        "12. $(H \\otimes H \\otimes H)|010 \\rangle$"
      ]
    },
    {
      "metadata": {
        "trusted": false,
        "id": "01RLqhtrbXEx"
      },
      "cell_type": "code",
      "source": [
        "# Define the matrices X, Y, Z, and H:\n",
        "X = np.matrix([[0, 1],\n",
        "               [1, 0]])\n",
        "\n",
        "Y = np.matrix([[0, -1j], \n",
        "               [1j, 0]])\n",
        "\n",
        "Z = np.matrix([[1, 0],\n",
        "               [0, -1]])\n",
        "\n",
        "H = (1/np.sqrt(2))*np.matrix([[1, 1], \n",
        "                              [1, -1]])\n",
        "\n",
        "# Define the following tensor products:\n",
        "XY = np.kron(X, Y)\n",
        "XZ = np.kron(X, Z)\n",
        "HH = np.kron(H, H)\n",
        "\n",
        "# Define the following additional tensor products:\n",
        "XXY = np.kron(X, XY)\n",
        "XZH = np.kron(XZ, H)\n",
        "HHH = np.kron(HH, H)\n",
        "\n",
        "# spin-up and spin-down\n",
        "u = np.matrix([[1],\n",
        "               [0]])\n",
        "\n",
        "d = np.matrix([[0],\n",
        "               [1]])\n",
        "\n",
        "# Define the basis state |01\n",
        "ud = np.kron(u,d)\n",
        "\n",
        "# Define the basis state |010>:\n",
        "udu = np.kron(ud, u)"
      ],
      "execution_count": null,
      "outputs": []
    },
    {
      "metadata": {
        "trusted": false,
        "id": "7iUbihsYbXEy"
      },
      "cell_type": "code",
      "source": [],
      "execution_count": null,
      "outputs": []
    }
  ],
  "metadata": {
    "kernelspec": {
      "name": "python3",
      "display_name": "Python 3 (ipykernel)",
      "language": "python"
    },
    "language_info": {
      "name": "python",
      "version": "3.10.9",
      "mimetype": "text/x-python",
      "codemirror_mode": {
        "name": "ipython",
        "version": 3
      },
      "pygments_lexer": "ipython3",
      "nbconvert_exporter": "python",
      "file_extension": ".py"
    },
    "colab": {
      "provenance": []
    }
  },
  "nbformat": 4,
  "nbformat_minor": 0
}