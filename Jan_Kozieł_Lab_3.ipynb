{
  "cells": [
    {
      "cell_type": "markdown",
      "source": [
        "# Inner Products and Norms of Vectors\n",
        "\n",
        "  ## Importing NumPy\n",
        "    As usual, we will need to import NumPy\n"
      ],
      "metadata": {
        "id": "d8C5j0qY8Vvf"
      }
    },
    {
      "cell_type": "code",
      "source": [
        "import numpy as np"
      ],
      "outputs": [],
      "execution_count": 1,
      "metadata": {
        "id": "Lre8jEZkAVa8"
      }
    },
    {
      "cell_type": "markdown",
      "source": [
        "  ## Introduction\n  The most important vectors we will encounter will be $2$-dimensional complex vector which are of length $1$. In this section we will define the **inner product** of two vectors, and the **norm** (length) of a vector which is derived from the inner product of the vector with itself. The vectors of length $1$ are sometimes referred to as **unit vectors**. We will discuss complex unit vectors in $2$-dimensional space $\\mathbb{C}^2$ and how they relate to qubits. This will lead to a discussion of the **Bloch sphere** which will be a useful way of understanding qubits and how quantum gates act on them.\n    \n  ### Inner Products\n    \n  **Inner Products** are a more general case of the **dot-product**, but for most of our purposes, they can be thought of as the same thing. The most basic case of an inner product and the one we will use the most often can be thought of as the product of a row vector and a column vector of the same dimension:\n\n  \\begin{align} ⟨A| = \\begin{pmatrix}\n  a_1, a_2, ⋯, a_n\n  \\end{pmatrix}, \\quad \\quad\n  |B⟩ = \\begin{pmatrix}\n  b_1 \\\\ b_2 \\\\ \\vdots \\\\ b_n\n  \\end{pmatrix} \\end{align}\n\n  Taking the inner product of ⟨A| and |B⟩ gives the following:\n\n\\begin{align} ⟨A|B⟩ &=\n\\begin{pmatrix}\na_1,& a_2,& ⋯, &a_n\n\\end{pmatrix}\n\\begin{pmatrix}\nb_1 \\\\ b_2 \\\\ \\vdots \\\\ b_n\n\\end{pmatrix}\n&=\na_1b_1 + a_2b_2 + ⋯ + a_nb_n\n&= ∑ a_ib_i\n\\end{align}\n   \n  As a basic example, take the inner product of the following $2$-dimensional vectors,\n\\begin{align} ⟨A| = \\begin{pmatrix}\n3i, & 2\n\\end{pmatrix}, |B⟩= \\begin{pmatrix}\n5+2i \\\\ 1-i\n\\end{pmatrix} \\end{align}\n\n  as follows:\n\n\\begin{align}⟨A|B⟩ = \\begin{pmatrix}\n3i, & 2\n\\end{pmatrix}\n\\begin{pmatrix}\n5+2i \\\\ 1-i\n\\end{pmatrix} &=\n3i(5+2i) + 2(1-i)\\\\\n&= 15i-6+2-2i\\\\\n&= -4+13i\n\\end{align}\n    \n  In order to define a complex vector so that we can take its conjugate transpose, also called the **Hermitian conjugate**, we must define it as a **matrix**. So, suppose we have the following column vector (ket-vector):\n\n\n\\begin{align}\n|A⟩ = \\begin{pmatrix} 1-i \\\\ 3 \\\\ 2i \\\\ 5+i \\end{pmatrix}\n\\end{align}\n    \n  \n  Then of course its **Hermitian conjugate** would be the bra-vector\\n\",\n    \n\\begin{align}\n⟨A| = \\begin{pmatrix}1+i, 3, -2i, 5-i \\end{pmatrix}\n\\end{align}\n    \n    \n  Now, in Python, we must remember to use \"$j$\" instead of \"$i$\" for the imaginary unit and we must define the $4 × 1$-matrix:\"\n"
      ],
      "metadata": {
        "id": "bT-3Lo3hASqR"
      }
    },
    {
      "cell_type": "code",
      "source": [
        "    # Define the 4x1 matrix version of a column vector (instead of using the np.array() version):\n",
        "A = np.matrix([[1-1j],\n",
        "                [3],\n",
        "                [2j],\n",
        "                [5+1j]])\n",
        "\n",
        "# Compute the Hermitian Conjugate:\n",
        "A.H"
      ],
      "outputs": [
        {
          "output_type": "execute_result",
          "execution_count": 4,
          "data": {
            "text/plain": "matrix([[1.+1.j, 3.-0.j, 0.-2.j, 5.-1.j]])"
          },
          "metadata": {}
        }
      ],
      "execution_count": 4,
      "metadata": {
        "colab": {
          "base_uri": "https://localhost:8080/"
        },
        "id": "hTzwfxVqA4Hw",
        "outputId": "fc6b1ea0-df34-4946-faf0-1b1e10f34c50"
      }
    },
    {
      "cell_type": "markdown",
      "source": [
        " Now, to compute the inner product $⟨A|A⟩$ we can simple multiply the two matrix versions just computed:"
      ],
      "metadata": {
        "id": "2v3jpoosFXDL"
      }
    },
    {
      "cell_type": "code",
      "source": [
        "np.dot(A.H, A)"
      ],
      "outputs": [
        {
          "output_type": "execute_result",
          "execution_count": 5,
          "data": {
            "text/plain": "matrix([[41.+0.j]])"
          },
          "metadata": {}
        }
      ],
      "execution_count": 5,
      "metadata": {
        "colab": {
          "base_uri": "https://localhost:8080/"
        },
        "id": "do2GdPQJFdOu",
        "outputId": "9bd27003-0e07-4b6c-a08c-55b9588598d2"
      }
    },
    {
      "cell_type": "markdown",
      "source": [
        "  Let's define another $4$-dimensional complex row vector $⟨B|$:\n",
        "    \n",
        "\\begin{align}\n",
        "⟨B| = \\begin{pmatrix}\n",
        "-3i, 2+2i, -6i, -7\n",
        "\\end{pmatrix}\n",
        "\\end{align}\n",
        "    \n",
        "  \n",
        "  Once we have defined this bra-vector, We can compute the following inner products:\n",
        "\n",
        "\\begin{align}\n",
        "⟨B|A⟩,  ⟨B|B⟩, ⟨A|B ⟩.\n",
        "\\end{align}\n",
        "\n",
        "Task 1: write the code in Python to calculate the above inner products.\n"
      ],
      "metadata": {
        "id": "Ql53nbQ9FmV8"
      }
    },
    {
      "cell_type": "code",
      "source": [
        "# Define B as a 1x4 matrix\n",
        "B = np.matrix([-3j, 2+2j, -6j, -7])\n",
        "#Compute the Hermitian Conjugate of B, which is a ket-vector\n",
        "B.H"
      ],
      "outputs": [
        {
          "output_type": "execute_result",
          "execution_count": 8,
          "data": {
            "text/plain": "matrix([[-0.+3.j],\n        [ 2.-2.j],\n        [-0.+6.j],\n        [-7.-0.j]])"
          },
          "metadata": {}
        }
      ],
      "execution_count": 8,
      "metadata": {
        "colab": {
          "base_uri": "https://localhost:8080/"
        },
        "id": "JoIn8SFJGRD4",
        "outputId": "b25e8029-6d9d-4f87-d858-95f65aa7de93"
      }
    },
    {
      "cell_type": "code",
      "source": [
        "# Compute <B|A>\n",
        "### TO DO ###\n",
        "np.dot(B, A)"
      ],
      "outputs": [
        {
          "output_type": "execute_result",
          "execution_count": 9,
          "data": {
            "text/plain": "matrix([[-20.-4.j]])"
          },
          "metadata": {}
        }
      ],
      "execution_count": 9,
      "metadata": {
        "colab": {
          "base_uri": "https://localhost:8080/"
        },
        "id": "0M0n6HjHGjrK",
        "outputId": "d7604938-98f2-4b5c-8434-b47c0c06eb2f"
      }
    },
    {
      "cell_type": "code",
      "source": [
        "# Compute <B|B>\n",
        "### TO DO ###\n",
        "print(np.dot(B, B.H))"
      ],
      "outputs": [
        {
          "output_type": "stream",
          "name": "stdout",
          "text": "[[102.+0.j]]\n"
        }
      ],
      "execution_count": 10,
      "metadata": {
        "id": "B6t5kM76Gvyl"
      }
    },
    {
      "cell_type": "code",
      "source": [
        "# Compute <A|B>\n",
        "### TO DO ###\n",
        "print(np.dot(A.H, B.H))\n"
      ],
      "outputs": [
        {
          "output_type": "stream",
          "name": "stdout",
          "text": "[[-20.+4.j]]\n"
        }
      ],
      "execution_count": 11,
      "metadata": {
        "id": "e0fNk0JFG6Cv"
      }
    },
    {
      "cell_type": "markdown",
      "source": [
        "\n",
        "  There is a different kind of product on two vectors which we will cover later called the **[outer product](https://en.wikipedia.org/wiki/Outer_product)**. The outer product is a specific case of the tensor product and is written in this case by $ |A⟩⟨A|$. It is important to make this distinction now and note that the two **are not the same**. The **inner product** always yields a number, which can be complex valued if the two vectors are complex valued. The **outer product** in general gives a **matrix**.\n",
        "\n"
      ],
      "metadata": {
        "id": "A_DLcjP2Axi_"
      }
    },
    {
      "cell_type": "code",
      "source": [
        "np.dot(A, A.H)"
      ],
      "outputs": [
        {
          "output_type": "execute_result",
          "execution_count": 9,
          "data": {
            "text/plain": "matrix([[ 2. +0.j,  3. -3.j, -2. -2.j,  4. -6.j],\n        [ 3. +3.j,  9. +0.j,  0. -6.j, 15. -3.j],\n        [-2. +2.j,  0. +6.j,  4. +0.j,  2.+10.j],\n        [ 4. +6.j, 15. +3.j,  2.-10.j, 26. +0.j]])"
          },
          "metadata": {}
        }
      ],
      "execution_count": 9,
      "metadata": {
        "colab": {
          "base_uri": "https://localhost:8080/"
        },
        "id": "uf1p37B1HOiU",
        "outputId": "d92886f4-7ede-4f82-895c-09237feddbf6"
      }
    },
    {
      "cell_type": "markdown",
      "source": [
        "\n  For the more adventurous readers who understand how to multiply matrices, and to prepare for future computations where matrices are involved, we will compute a more general \\\"inner product\\\". If this does not make any sense to you and matrix multiplication is a foreign concept, we will discuss matrix multiplication in this chapter as a refresher, but now might be a good time to refresh your memory on how to multiply matrices if it is unfamiliar. When we discuss \\\\emph{measurements} and \\\\emph{expectation values} we will need to consider the case when there is a matrix in between the bra- and ket-vector. Take for example the Pauli-Z matrix, which we will discuss more later on:\n\n\\begin{align} Z = \\begin{pmatrix}\n1 & 0 \\\\\n0 & -1\n\\end{pmatrix} \\end{align}\n    \n  Now take the following bra-vector and ket-vector\\n\",\n\n\\begin{align} ⟨A|= \\begin{pmatrix}\ni/\\sqrt{2}, & -i/\\sqrt{2}\n\\end{pmatrix},    |A⟩ = \\begin{pmatrix}\n-i/\\sqrt{2} \\\\ i/\\sqrt{2}\n\\end{pmatrix} \\end{align}\n\n  Now, we can compute the following variation on the inner product\\n\",\n\n\\begin{align}\n⟨A|Z|A⟩=\\begin{pmatrix}\ni/\\sqrt{2}, & -i/\\sqrt{2}\n\\end{pmatrix}\n\\begin{pmatrix}\n1 & 0 \\\\\n0 & -1\n\\end{pmatrix}\n\\begin{pmatrix}\n-i/\\sqrt{2} \\\\ i/\\sqrt{2}\n\\end{pmatrix} \\\\\n= \\begin{pmatrix}\ni/\\sqrt{2}, & -i/\\sqrt{2}\n\\end{pmatrix}\n\\begin{pmatrix}\n-i/\\sqrt{2} \\\\ -i/\\sqrt{2}\n\\end{pmatrix} \\\\\n= 1/2 - 1/2 \\\\\n= 0\n\\end{align}\n\n    \n  We will encounter such calculations many more times when we discuss measurements and expectations. If this is a little confusing, it is not important to worry too much about it just yet. We will cover matrix multiplication shortly, and later we will discuss measurements and expectation values, at which point we should be comfortable computing more general version of this strange \\\"inner product\\\".\n\n   ## Exercises\n  \n  1. Compute the  following inner product by hand:\n        \n\\begin{align}\\begin{pmatrix}2, & 3i\\end{pmatrix}\\begin{pmatrix}1+i \\\\ 4\\end{pmatrix}\\end{align}\n        \n  2. Write Python code to compute the previous inner product.\n  3. Compute the following inner product by hand:\n\\begin{align}\n\\begin{pmatrix}3i, & 1+2i, & 4, & 2i\\end{pmatrix}\n\\begin{pmatrix}5 \\\\ 1-2i \\\\ -3 \\\\ -i/2\\end{pmatrix}\n\\end{align}\n\n  4. Write Python code to compute the previous inner product.\n  5. For the more adventurous who understand how to multiply matrices, and to prepare for future computations where matrices are involved, compute the following more general \\\"inner product\\\":\n\n\\begin{align}\n\\begin{pmatrix}1/\\sqrt{2}, & -1/\\sqrt{2} \\end{pmatrix}\n\\begin{pmatrix} 1&0\\\\\\\\0&-1 \\end{pmatrix}\n\\begin{pmatrix}1/\\sqrt{2} \\\\ -1/\\sqrt{2} \\end{pmatrix}\n\\end{align}\n"
      ],
      "metadata": {
        "id": "C7lh0I0sHMbD"
      }
    },
    {
      "cell_type": "markdown",
      "source": [
        "2 * (1 + i) + 3i * (4) = 2 + 2i + 12i = 2 + 14i"
      ],
      "metadata": {}
    },
    {
      "cell_type": "code",
      "source": [
        "# 2\n",
        "\n",
        "A_2 = np.array([2-0j, 0+3j])\n",
        "B_2 = np.array([[1+1j],\n",
        "                [4]])\n",
        "\n",
        "print(np.dot(A_2, B_2))\n"
      ],
      "outputs": [
        {
          "output_type": "stream",
          "name": "stdout",
          "text": "[2.+14.j]\n"
        }
      ],
      "execution_count": 13,
      "metadata": {}
    },
    {
      "cell_type": "markdown",
      "source": [
        "3i * 5 + (1 + 2i) * (1 - 2i) + 4 * (-3) + 2i * (-i/2) = 15i + 1 -2i + 2i +4 -12 + 1 = 1 + 15i - 8 + 1 = -6 + 15i"
      ],
      "metadata": {}
    },
    {
      "cell_type": "code",
      "source": [
        "# 4\n",
        "import math\n",
        "\n",
        "\n",
        "A_4 = np.array([0+3j, 1+2j, 4, 0+2j])\n",
        "B_4 = np.array([[5],\n",
        "                [1-2j],\n",
        "                [-3+0j],\n",
        "                [0-0.5j],])\n",
        "\n",
        "print(np.dot(A_4, B_4))\n",
        "\n"
      ],
      "outputs": [
        {
          "output_type": "stream",
          "name": "stdout",
          "text": "[-6.+15.j]\n"
        }
      ],
      "execution_count": 16,
      "metadata": {}
    },
    {
      "cell_type": "code",
      "source": [
        "# 5\n",
        "sqrt2 = math.sqrt(2)\n",
        "A_5 = np.array([1/sqrt2, -1*(1/sqrt2)])\n",
        "B_5 = np.array([[1, 0],\n",
        "                [0, -1]])\n",
        "\n",
        "C_5 = np.array([[1/sqrt2],\n",
        "                [-1*(1/sqrt2)]])\n",
        "\n",
        "print(np.dot(np.dot(A_5, B_5), C_5))"
      ],
      "outputs": [
        {
          "output_type": "stream",
          "name": "stdout",
          "text": "[0.]\n"
        }
      ],
      "execution_count": 17,
      "metadata": {}
    }
  ],
  "metadata": {
    "colab": {
      "provenance": []
    },
    "kernelspec": {
      "display_name": "Python 3",
      "name": "python3"
    },
    "language_info": {
      "codemirror_mode": {
        "name": "ipython",
        "version": 3
      },
      "file_extension": ".py",
      "mimetype": "text/x-python",
      "name": "python",
      "nbconvert_exporter": "python",
      "pygments_lexer": "ipython3",
      "version": "3.9.6"
    },
    "nteract": {
      "version": "nteract-front-end@1.0.0"
    }
  },
  "nbformat": 4,
  "nbformat_minor": 0
}