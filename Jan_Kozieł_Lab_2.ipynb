{
  "cells": [
    {
      "cell_type": "markdown",
      "source": [
        "# Importing NumPy\n",
        "\n",
        "We will primarily use NumPy for arithmetic with complex numbers as well as for linear algebra. \n",
        "\n",
        "To import NumPy we type the following code:"
      ],
      "metadata": {
        "id": "YAuxwDb2zAOM"
      }
    },
    {
      "cell_type": "code",
      "source": [
        "import numpy as np"
      ],
      "outputs": [],
      "execution_count": null,
      "metadata": {
        "id": "oCKB-RdCzCKN"
      }
    },
    {
      "cell_type": "markdown",
      "source": [
        "Arithmetic of Complex Numbers\n",
        "\n",
        "In Python the imaginary unit $i$ is instead represented as $j$, and must always be written with a coefficient. So in Python, we must write $1j$ instead of $j$, and $-1j$ instead of just $-j$. Let's check that $j^2=-1$."
      ],
      "metadata": {
        "id": "azGAXJguvcpu"
      }
    },
    {
      "cell_type": "code",
      "source": [
        "(-1j)*(-1j)"
      ],
      "outputs": [
        {
          "output_type": "execute_result",
          "execution_count": 1,
          "data": {
            "text/plain": "(-1+0j)"
          },
          "metadata": {}
        }
      ],
      "execution_count": 1,
      "metadata": {
        "colab": {
          "base_uri": "https://localhost:8080/"
        },
        "id": "MeVnmjpwwD_K",
        "outputId": "e871d403-da95-4a7a-bfe9-33afc62f75d1"
      }
    },
    {
      "cell_type": "markdown",
      "source": [
        "As we can see, the output is:\n",
        "\n",
        "$-1 + 0j = -1.$\n",
        "\n",
        "\n",
        "Now, let's define two complex numbers\n",
        "\n",
        "$z = 3 + 2j$\n",
        "\n",
        "$w = -2 -5j$"
      ],
      "metadata": {
        "id": "Aav-zgijwOdk"
      }
    },
    {
      "cell_type": "code",
      "source": [
        "z = 3 + 2j\n",
        "w = -2 - 5j"
      ],
      "outputs": [],
      "execution_count": 2,
      "metadata": {
        "id": "rApU77RMwMt-"
      }
    },
    {
      "cell_type": "markdown",
      "source": [
        "If we wanted to print $z$ and $w$, we could simply type them into a Jupyter cell as follows (followed by shift+enter):"
      ],
      "metadata": {
        "id": "F53uOqLDwpLW"
      }
    },
    {
      "cell_type": "code",
      "source": [
        "z"
      ],
      "outputs": [
        {
          "output_type": "execute_result",
          "execution_count": 3,
          "data": {
            "text/plain": "(3+2j)"
          },
          "metadata": {}
        }
      ],
      "execution_count": 3,
      "metadata": {
        "id": "msk2-VUtwu83"
      }
    },
    {
      "cell_type": "code",
      "source": [
        "w"
      ],
      "outputs": [
        {
          "output_type": "execute_result",
          "execution_count": 4,
          "data": {
            "text/plain": "(-2-5j)"
          },
          "metadata": {}
        }
      ],
      "execution_count": 4,
      "metadata": {
        "id": "SD5-Qb76wv9C"
      }
    },
    {
      "cell_type": "markdown",
      "source": [
        "We could also type the print() command (followed by shift+enter):"
      ],
      "metadata": {
        "id": "GbjDrfPuwy7J"
      }
    },
    {
      "cell_type": "code",
      "source": [
        "print(z)"
      ],
      "outputs": [
        {
          "output_type": "stream",
          "name": "stdout",
          "text": "(3+2j)\n"
        }
      ],
      "execution_count": 5,
      "metadata": {
        "id": "IfewAyOYw20S"
      }
    },
    {
      "cell_type": "code",
      "source": [
        "print(w)"
      ],
      "outputs": [
        {
          "output_type": "stream",
          "name": "stdout",
          "text": "(-2-5j)\n"
        }
      ],
      "execution_count": 6,
      "metadata": {
        "id": "kJoNALk4w4kU"
      }
    },
    {
      "cell_type": "markdown",
      "source": [
        "If we wanted to label what we are printing we can do the following:"
      ],
      "metadata": {
        "id": "EBxyZaJww7VR"
      }
    },
    {
      "cell_type": "code",
      "source": [
        "print(\"z=\", z)"
      ],
      "outputs": [
        {
          "output_type": "stream",
          "name": "stdout",
          "text": "z= (3+2j)\n"
        }
      ],
      "execution_count": 7,
      "metadata": {
        "id": "3JFoXslDw9RE"
      }
    },
    {
      "cell_type": "code",
      "source": [
        "print(\"the complex number w is:\", w)"
      ],
      "outputs": [
        {
          "output_type": "stream",
          "name": "stdout",
          "text": "the complex number w is: (-2-5j)\n"
        }
      ],
      "execution_count": 8,
      "metadata": {
        "id": "upmCOmUpxAeO"
      }
    },
    {
      "cell_type": "markdown",
      "source": [
        "the complex number $w$ is: $(-2-5j)$\n",
        "\n",
        "We can print the real and imaginary parts of complex numbers as follows for $z = 3+2i$:"
      ],
      "metadata": {
        "id": "6DXqDW7qxDHH"
      }
    },
    {
      "cell_type": "code",
      "source": [
        "print('z=', z)\n",
        "print('Real(z)=', np.real(z))\n",
        "print('Imag(Z)=', np.imag(z))"
      ],
      "outputs": [
        {
          "output_type": "stream",
          "name": "stdout",
          "text": "z= (3+2j)\nReal(z)= 3.0\nImag(Z)= 2.0\n"
        }
      ],
      "execution_count": 11,
      "metadata": {
        "id": "54UKAw4-xQSA"
      }
    },
    {
      "cell_type": "code",
      "source": [
        "print('w=', w)\n",
        "print('Real(w)=', np.real(w))\n",
        "print('Imag(w)=', np.imag(w))"
      ],
      "outputs": [
        {
          "output_type": "stream",
          "name": "stdout",
          "text": "w= (-2-5j)\nReal(w)= -2.0\nImag(w)= -5.0\n"
        }
      ],
      "execution_count": 13,
      "metadata": {
        "id": "FsGyIkFZxSBa"
      }
    },
    {
      "cell_type": "markdown",
      "source": [
        "Complex Conjugates\n",
        "\n",
        "We can compute the $\\bf{complex}$ $\\bf{conjugates}$ $z^*$ and $w^*$, which just negates the imaginary part of the complex numbers as follows:"
      ],
      "metadata": {
        "id": "R9TlDyWZxU5r"
      }
    },
    {
      "cell_type": "code",
      "source": [
        "np.conj(z)"
      ],
      "outputs": [
        {
          "output_type": "execute_result",
          "execution_count": 12,
          "data": {
            "text/plain": "np.complex128(3-2j)"
          },
          "metadata": {}
        }
      ],
      "execution_count": 12,
      "metadata": {
        "id": "wZJCUyp6y4ir"
      }
    },
    {
      "cell_type": "code",
      "source": [
        "np.conj(w)"
      ],
      "outputs": [
        {
          "output_type": "execute_result",
          "execution_count": 14,
          "data": {
            "text/plain": "np.complex128(-2+5j)"
          },
          "metadata": {}
        }
      ],
      "execution_count": 14,
      "metadata": {
        "id": "pwwC-Duey6Hn"
      }
    },
    {
      "cell_type": "markdown",
      "source": [
        "As we can see, complex conjugation negates the imaginary part of the complex number."
      ],
      "metadata": {
        "id": "G-bontXIzIm0"
      }
    },
    {
      "cell_type": "markdown",
      "source": [
        "\n",
        "# **Norms/Absolute Values**\n",
        "\n",
        "We can compute the $\\bf{absolute}$ $\\bf{value}$ of the complex numbers:\n",
        "\n",
        "\n",
        "$\n",
        "\\|z\\|=\\sqrt{zz^*}=\\sqrt{{\\vert{z}\\vert}^2},\n",
        "\\|w\\|=\\sqrt{ww^*}=\\sqrt{{\\vert{w}\\vert}^2},\n",
        "$"
      ],
      "metadata": {
        "id": "UtCeEtTMzNRd"
      }
    },
    {
      "cell_type": "code",
      "source": [
        "print('||z||=', np.abs(z))"
      ],
      "outputs": [
        {
          "output_type": "stream",
          "name": "stdout",
          "text": "||z||= 3.6055512754639896\n"
        }
      ],
      "execution_count": 15,
      "metadata": {
        "id": "Md786sZr1I9V"
      }
    },
    {
      "cell_type": "code",
      "source": [
        "print('||w||=', np.abs(w))"
      ],
      "outputs": [
        {
          "output_type": "stream",
          "name": "stdout",
          "text": "||w||= 5.385164807134504\n"
        }
      ],
      "execution_count": 16,
      "metadata": {
        "id": "YctJVZ1t0VEH"
      }
    },
    {
      "cell_type": "markdown",
      "source": [
        "$||w||= 5.385164807134504$\n",
        "\n",
        "Now, there are many different arithmetic operations we can perform on complex numbers. Addition, subtraction, multiplication, and division are all defined for complex numbers and can be computer using NumPy. As an example, let's compute the following three values,\n",
        "\n",
        "\n",
        "*   z + w\n",
        "*   z - w\n",
        "*   w - z\n",
        "\n",
        "\n",
        "\n"
      ],
      "metadata": {
        "id": "VCIsSdpB1Vhc"
      }
    },
    {
      "cell_type": "code",
      "source": [
        "z+w"
      ],
      "outputs": [
        {
          "output_type": "execute_result",
          "execution_count": 17,
          "data": {
            "text/plain": "(1-3j)"
          },
          "metadata": {}
        }
      ],
      "execution_count": 17,
      "metadata": {
        "id": "qtdaCys51rrL"
      }
    },
    {
      "cell_type": "code",
      "source": [
        "z-w"
      ],
      "outputs": [
        {
          "output_type": "execute_result",
          "execution_count": 18,
          "data": {
            "text/plain": "(5+7j)"
          },
          "metadata": {}
        }
      ],
      "execution_count": 18,
      "metadata": {
        "id": "MCJd1dmP1sZB"
      }
    },
    {
      "cell_type": "code",
      "source": [
        "w-z"
      ],
      "outputs": [
        {
          "output_type": "execute_result",
          "execution_count": 19,
          "data": {
            "text/plain": "(-5-7j)"
          },
          "metadata": {}
        }
      ],
      "execution_count": 19,
      "metadata": {
        "id": "blHGbGQb1u1q"
      }
    },
    {
      "cell_type": "markdown",
      "source": [
        "Addition and subtraction of complex numbers is done componentwise, meaning the real parts and the complex parts are added or subtracted individually and do not effect each other. So, for example,\n",
        "\n",
        "$z + w = (3 + 2j) + (-2 - 5j) = (3 - 2) + (2 - 5) j = 1 - 3j$"
      ],
      "metadata": {
        "id": "wbR3Bkfh1w-O"
      }
    },
    {
      "cell_type": "markdown",
      "source": [
        "We can also multiply complex numbers and divide them as well. This is also handled by NumPy. Let's compute the following three values,\n",
        "\n",
        "\n",
        "\n",
        "*   $z.w$\n",
        "*   $\\frac{z}{w}$\n",
        "*   $\\frac{w}{z}$\n",
        "\n"
      ],
      "metadata": {
        "id": "tD8RbS1t2GCk"
      }
    },
    {
      "cell_type": "code",
      "source": [
        "z*w"
      ],
      "outputs": [
        {
          "output_type": "execute_result",
          "execution_count": 20,
          "data": {
            "text/plain": "(4-19j)"
          },
          "metadata": {}
        }
      ],
      "execution_count": 20,
      "metadata": {
        "id": "bDPpyLMa2W0j"
      }
    },
    {
      "cell_type": "code",
      "source": [
        "z/w"
      ],
      "outputs": [
        {
          "output_type": "execute_result",
          "execution_count": 21,
          "data": {
            "text/plain": "(-0.5517241379310345+0.37931034482758624j)"
          },
          "metadata": {}
        }
      ],
      "execution_count": 21,
      "metadata": {
        "id": "Mvi6jJ9q2Yf1"
      }
    },
    {
      "cell_type": "code",
      "source": [
        "w/z"
      ],
      "outputs": [
        {
          "output_type": "execute_result",
          "execution_count": 22,
          "data": {
            "text/plain": "(-1.2307692307692308-0.8461538461538463j)"
          },
          "metadata": {}
        }
      ],
      "execution_count": 22,
      "metadata": {
        "id": "p57K0xMK2Z1N"
      }
    },
    {
      "cell_type": "markdown",
      "source": [
        "\n",
        "# Vectors\n",
        "\n",
        "# Introduction\n",
        "\n",
        "Vectors will be fundamental in our study of quantum computing. The most basic unit of computation in a quantum computer is a *qubit*, which can be represented as a -dimensional complex vector of length one. So understanding vectors will be foundational and necessary for most of what we will be doing in this book. Vectors can be thought of in many ways, one of the most basic is simply as an array of numbers, which we will often represent as a column of numbers called **column vectors**, but in some cases we will also need **row vectors**:\n",
        "\n",
        "Column Vector: $\\begin{pmatrix}\n",
        "    a_1 \\\\\n",
        "    a_2 \\\\\n",
        "    \\vdots\\\\ \n",
        "    a_n\n",
        "  \\end{pmatrix}$, \n",
        "  \n",
        "  Row Vector: $\\begin{pmatrix} a_1, & a_2, & \\ldots, & a_n \\end{pmatrix}$\n"
      ],
      "metadata": {
        "id": "XyQPuvhs2qaV"
      }
    },
    {
      "cell_type": "markdown",
      "source": [
        "# Row Vectors, Column Vectors, and Bra-Ket Notation\n",
        "\n",
        "We can create a column vector and a row vector in Python:"
      ],
      "metadata": {
        "id": "EEsYPSDI6xHJ"
      }
    },
    {
      "cell_type": "code",
      "source": [
        "# Create a vector as a row\n",
        "row_vector = np.array([2-1j, 7j, -3])\n",
        "\n",
        "# Create a vector as a column\n",
        "column_vector = np.array([[2+1j],\n",
        "                          [-5],\n",
        "                          [2j]])"
      ],
      "outputs": [],
      "execution_count": null,
      "metadata": {
        "id": "8XtyATjj64Gd"
      }
    },
    {
      "cell_type": "markdown",
      "source": [
        "Row vectors in quantum mechanics are also called **bra-vectors**, and are denoted as follows:\n",
        "\n",
        "\n",
        "$⟨A|=\\begin{pmatrix} a_1, & a_2, & \\ldots, & a_n \\end{pmatrix}$"
      ],
      "metadata": {
        "id": "gmoUpmB266gA"
      }
    },
    {
      "cell_type": "markdown",
      "source": [
        "Column vectors are also called **ket-vectors** in quantum mechanics denoted as follows:\n",
        "\n",
        "$|B⟩=\\begin{pmatrix}\n",
        "    b_1 \\\\\n",
        "    b_2 \\\\\n",
        "    \\vdots\\\\ \n",
        "    b_n\n",
        "  \\end{pmatrix}$\n",
        "\n",
        "  In general, if we have a column vector, i.e. a ket-vector:\n",
        "\n",
        "  $|A⟩=\\begin{pmatrix}\n",
        "    a_1 \\\\\n",
        "    a_2 \\\\\n",
        "    \\vdots\\\\ \n",
        "    a_n\n",
        "  \\end{pmatrix}$\n",
        "\n",
        "  the corresponding bra-vector:\n",
        "\n",
        "  $⟨A|=\\begin{pmatrix} a_1^*, & a_2^*, & \\ldots, & a_n^* \\end{pmatrix}$\n",
        "\n",
        "\n",
        "  is the complex-conjugate transpose of the ket-vector , and vice-versa. As an example, if we have the following ket-vector:\n",
        "\n",
        "  $|A⟩=\\begin{pmatrix}\n",
        "    2+i \\\\\n",
        "    1-3i \\\\\n",
        "  \\end{pmatrix}$\n",
        "\n",
        "  then the corresponding bra-vector is:\n",
        "\n",
        "  $⟨A|=\\begin{pmatrix} 2-i, & 1+3i \\end{pmatrix}$"
      ],
      "metadata": {
        "id": "6fqosmtt7_-k"
      }
    },
    {
      "cell_type": "markdown",
      "source": [
        "The notation $⟨A|$ and $|A⟩$, for bra- and ket-vectors respectively, is a reference to *inner products* denoted by brackets and we will discuss it more in the next section when we define inner product. As another example, we might want to have a pair of $2$-dimensional complex column vectors (meaning the entries are complex numbers):\n",
        "\n",
        "$|A⟩=\\begin{pmatrix}\n",
        "    2-i \\\\\n",
        "    5 \\\\\n",
        "  \\end{pmatrix}$\n",
        "\n",
        "  $|B⟩=\\begin{pmatrix}\n",
        "    7 \\\\\n",
        "    3i \\\\\n",
        "  \\end{pmatrix}$\n",
        "\n",
        "  Remember, $i^2=-1$\n",
        " and so $i=\\sqrt{-1}$ is imaginary and complex numbers are always of the form . The corresponding bra-vectors would then be:\n",
        "\n",
        " $⟨A|=\\begin{pmatrix} 2+i, & 5 \\end{pmatrix}$\n",
        "\n",
        " $⟨B|=\\begin{pmatrix} 7, & -3i \\end{pmatrix}$"
      ],
      "metadata": {
        "id": "7p101X0e9LZd"
      }
    },
    {
      "cell_type": "markdown",
      "source": [
        "The $2$-dimensional vectors we have listed above are not quite the kind of vectors we will be using most often in quantum computing, but until we introduce the norm of a vector and explain what unit vectors are, let us focus on the basic operations we can perform on these vectors. We can always add two vector of the same dimension:\n",
        "\n",
        "$|A⟩ + |B⟩=\\begin{pmatrix}\n",
        "    2-i \\\\\n",
        "    5 \\\\\n",
        "  \\end{pmatrix}+ \\begin{pmatrix}\n",
        "    7 \\\\\n",
        "    3i \\\\\n",
        "  \\end{pmatrix} = \\begin{pmatrix}\n",
        "    (2-i)+7 \\\\\n",
        "    5 +3i \\\\\n",
        "  \\end{pmatrix} = \\begin{pmatrix}\n",
        "    9-i \\\\\n",
        "    5+3i \\\\\n",
        "  \\end{pmatrix}$\n",
        "\n",
        "  Task 1: add these two kets in Python:"
      ],
      "metadata": {
        "id": "3k6sVJ6u-P8r"
      }
    },
    {
      "cell_type": "code",
      "source": [
        "### TO DO ###\n",
        "\n",
        "ket_A = np.array([[2-1j], [5+0j]])\n",
        "ket_B = np.array([[7+0j], [0+3j]])\n",
        "\n",
        "res_ket = ket_A + ket_B\n",
        "print(res_ket)"
      ],
      "outputs": [
        {
          "output_type": "stream",
          "name": "stdout",
          "text": "[[9.-1.j]\n [5.+3.j]]\n"
        }
      ],
      "execution_count": 23,
      "metadata": {
        "id": "b87LqPop_Du7"
      }
    },
    {
      "cell_type": "markdown",
      "source": [
        "We can multiply bra-vectors and ket-vectors by scalars:\n",
        "\n",
        "$3|A⟩=3\\begin{pmatrix}\n",
        "    2-i \\\\\n",
        "    5 \\\\\n",
        "  \\end{pmatrix}=\\begin{pmatrix}\n",
        "    6-3i \\\\\n",
        "    15 \\\\\n",
        "  \\end{pmatrix}$"
      ],
      "metadata": {
        "id": "K6XqL4-I_GjZ"
      }
    },
    {
      "cell_type": "code",
      "source": [
        "print(3*ket_A)"
      ],
      "outputs": [
        {
          "output_type": "stream",
          "name": "stdout",
          "text": "[[ 6.-3.j]\n [15.+0.j]]\n"
        }
      ],
      "execution_count": 24,
      "metadata": {
        "id": "i7DalpKu_2ch"
      }
    },
    {
      "cell_type": "markdown",
      "source": [
        "Similarly for row vectors (bra-vectors):\n",
        "\n",
        "$5⟨B|=5\\begin{pmatrix} 7, & 3i \\end{pmatrix}=\\begin{pmatrix} 35, & 15i \\end{pmatrix}$"
      ],
      "metadata": {
        "id": "BAZxhvI5_4GT"
      }
    },
    {
      "cell_type": "code",
      "source": [
        "bra_B = np.array([[7, 3j]])\n",
        "print(5*bra_B)"
      ],
      "outputs": [
        {
          "output_type": "stream",
          "name": "stdout",
          "text": "[[35. +0.j  0.+15.j]]\n"
        }
      ],
      "execution_count": 25,
      "metadata": {
        "id": "B2tbs4hBAQD4"
      }
    },
    {
      "cell_type": "markdown",
      "source": [
        "**Exercises**\n",
        "\n",
        "\n",
        "\n",
        "\n",
        "1.   Define the following ket-vector as an array in Python:\n",
        "\n",
        "  $|$ψ$⟩=\\begin{pmatrix} 2, & 3i \\end{pmatrix}$\n",
        "2.   Define $|$ψ$⟩$ from the previous problem as a (column) matrix and compute its Hermitian conjugate.\n",
        "\n",
        "\n",
        "3.   Define two ket vectors (column vectors) in Python:\n",
        "\n",
        "$|A⟩=\\begin{pmatrix}\n",
        "    2 \\\\\n",
        "    5-5j \\\\\n",
        "  \\end{pmatrix}$, $|B⟩=\\begin{pmatrix}\n",
        "    2 + 3j \\\\\n",
        "    -3j \\\\\n",
        "  \\end{pmatrix}$\n",
        "4.   Compute $|A⟩ + |B⟩ $.\n",
        "\n",
        "5.   Compute $3|A⟩$.\n",
        "\n",
        "\n",
        "\n",
        "\n",
        "\n",
        "\n",
        "\n"
      ],
      "metadata": {
        "id": "p_BXsPEGhXOY"
      }
    },
    {
      "cell_type": "code",
      "source": [
        "# 1\n",
        "ket_1 = np.array([[2 + 0j], [0 + 3j]])"
      ],
      "outputs": [],
      "execution_count": 26,
      "metadata": {}
    },
    {
      "cell_type": "code",
      "source": [
        "# 2\n",
        "matrix_2 = np.matrix(ket_1)\n",
        "matrix_2.H"
      ],
      "outputs": [
        {
          "output_type": "execute_result",
          "execution_count": 29,
          "data": {
            "text/plain": "matrix([[2.-0.j, 0.-3.j]])"
          },
          "metadata": {}
        }
      ],
      "execution_count": 29,
      "metadata": {}
    },
    {
      "cell_type": "code",
      "source": [
        "# 3 \n",
        "ket_3_A = np.array([[2 + 0j], [5 - 5j]])\n",
        "ket_3_B = np.array([[2 + 3j], [0 - 3j]])"
      ],
      "outputs": [],
      "execution_count": 30,
      "metadata": {}
    },
    {
      "cell_type": "code",
      "source": [
        "# 4\n",
        "ket_3_A + ket_3_B"
      ],
      "outputs": [
        {
          "output_type": "execute_result",
          "execution_count": 31,
          "data": {
            "text/plain": "array([[4.+3.j],\n       [5.-8.j]])"
          },
          "metadata": {}
        }
      ],
      "execution_count": 31,
      "metadata": {}
    },
    {
      "cell_type": "code",
      "source": [
        "3 * ket_3_A"
      ],
      "outputs": [
        {
          "output_type": "execute_result",
          "execution_count": 32,
          "data": {
            "text/plain": "array([[ 6. +0.j],\n       [15.-15.j]])"
          },
          "metadata": {}
        }
      ],
      "execution_count": 32,
      "metadata": {}
    }
  ],
  "metadata": {
    "colab": {
      "provenance": []
    },
    "kernelspec": {
      "display_name": "Python 3",
      "name": "python3"
    },
    "language_info": {
      "codemirror_mode": {
        "name": "ipython",
        "version": 3
      },
      "file_extension": ".py",
      "mimetype": "text/x-python",
      "name": "python",
      "nbconvert_exporter": "python",
      "pygments_lexer": "ipython3",
      "version": "3.9.6"
    },
    "nteract": {
      "version": "nteract-front-end@1.0.0"
    }
  },
  "nbformat": 4,
  "nbformat_minor": 0
}