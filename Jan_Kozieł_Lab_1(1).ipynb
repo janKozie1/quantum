{
  "cells": [
    {
      "cell_type": "markdown",
      "source": [
        "\n",
        "**A fair coin**\n",
        "\n",
        "A coin has two sides: Heads and Tails.\n",
        "\n",
        "After flipping a coin, we get either Heads or Tails. We can represent these two different cases by a single bit:\n",
        "\n",
        "\n",
        "\n",
        "*   0 represents Heads\n",
        "*   1 represents Tails\n",
        "   \n",
        "\n",
        "\n",
        "\n",
        "**Flipping a fair coin**\n",
        "\n",
        "If our coin is fair, then the probabilities of getting Heads and Tails are equal:\n",
        "\n",
        "$p=\\frac{1}{2}=0.5.$\n",
        "\n",
        "Flipping a fair coin can be represented as an operator:\n",
        "\n",
        "\n",
        "\n",
        "*   $FairCoin(Heads)=\\frac{1}{2}Heads + \\frac{1}{2} Tails$\n",
        "*   $FairCoin(Tails)=\\frac{1}{2}Heads + \\frac{1}{2} Tails$\n"
      ],
      "metadata": {
        "id": "aaGzOcI1ISX4"
      }
    },
    {
      "cell_type": "markdown",
      "source": [
        "**Task 1: Simulating FairCoin in Python**\n",
        "\n",
        "Flip a fair coin 100 times. Calculate the total number of heads and tails, and then check the ratio of the number of heads and the number of tails.\n",
        "\n",
        "Do the same experiment 1000 times.\n",
        "\n",
        "Do the same experiment 10,000 times.\n",
        "\n",
        "Do the same experiment 100,000 times.\n",
        "\n",
        "Do your results get close to the ideal case (the numbers of heads and tails are equal)?\n"
      ],
      "metadata": {
        "id": "h8mnlasBJsw7"
      }
    },
    {
      "cell_type": "code",
      "source": [
        "from random import randrange\n",
        "\n",
        "def random_choice(odds_of_A):\n",
        "    upper_range = 1000\n",
        "    num = randrange(upper_range)\n",
        "\n",
        "    return num < (odds_of_A * upper_range)\n",
        "def flip_coin(n_times, odds_of_heads = 0.5):\n",
        "    acc = { \"heads\": 0, \"tails\": 0}\n",
        "\n",
        "    for i in range(0, n_times):\n",
        "        if random_choice(odds_of_heads):\n",
        "            acc[\"heads\"] += 1\n",
        "        else:\n",
        "            acc[\"tails\"] += 1\n",
        "\n",
        "    print(f\"Flipped coin (odds of heads = {odds_of_heads}) {n_times} times. Got {acc['heads']} heads and {acc['tails']} tails. Ratio of heads to tails: {'∞' if acc['tails'] == 0 else acc['heads'] / acc['tails']}\")\n",
        "\n",
        "for i in range(0, 6):\n",
        "    flip_coin(100 * pow(10, i))\n",
        "\n"
      ],
      "outputs": [
        {
          "output_type": "stream",
          "name": "stdout",
          "text": "Flipped coin (odds of heads = 0.5) 100 times. Got 44 heads and 56 tails. Ratio of heads to tails: 0.7857142857142857\nFlipped coin (odds of heads = 0.5) 1000 times. Got 487 heads and 513 tails. Ratio of heads to tails: 0.949317738791423\nFlipped coin (odds of heads = 0.5) 10000 times. Got 5003 heads and 4997 tails. Ratio of heads to tails: 1.0012007204322593\nFlipped coin (odds of heads = 0.5) 100000 times. Got 49860 heads and 50140 tails. Ratio of heads to tails: 0.994415636218588\nFlipped coin (odds of heads = 0.5) 1000000 times. Got 500197 heads and 499803 tails. Ratio of heads to tails: 1.0007883105943742\nFlipped coin (odds of heads = 0.5) 10000000 times. Got 4999839 heads and 5000161 tails. Ratio of heads to tails: 0.9999356020736132\n"
        }
      ],
      "execution_count": 27,
      "metadata": {
        "id": "ir1kWFuL0LRj"
      }
    },
    {
      "cell_type": "markdown",
      "source": [
        "In general, the larger amount of attempts, the closer the ratio gets to 1:1"
      ],
      "metadata": {}
    },
    {
      "cell_type": "markdown",
      "source": [
        "**Flipping a biased coin**\n",
        "\n",
        "Our coin may have a bias.\n",
        "\n",
        "For example, the probability of getting heads is greater than the probability of getting tails."
      ],
      "metadata": {
        "id": "QFNR83xh0MlC"
      }
    },
    {
      "cell_type": "markdown",
      "source": [
        "**Task 2: Simulating BiasedCoin in Python**\n",
        "\n",
        "\n",
        "Flip the following biased coin 100 times. Calculate the total numbers of heads and tails, and then check the ratio of the number of heads and the\n",
        "number of tails.\n",
        "\n",
        "Head probability: 0.6\n",
        "\n",
        "Tail probability: 0.4\n",
        "\n",
        "\n",
        "Do the same experiment 1000 times.\n",
        "\n",
        "Do the same experiment 10,000 times.\n",
        "\n",
        "Do the same experiment 100,000 times.\n",
        "\n",
        "Do your results get close to the ideal case $(\\frac{\\# of heads}{\\# of tails}=\\frac{0.6}{0.4}=1.50000000)$"
      ],
      "metadata": {
        "id": "smluarlF0YKM"
      }
    },
    {
      "cell_type": "code",
      "source": [
        "for i in range(0, 6):\n",
        "    flip_coin(100 * pow(10, i), odds_of_heads = 0.6)"
      ],
      "outputs": [
        {
          "output_type": "stream",
          "name": "stdout",
          "text": "Flipped coin (odds of heads = 0.6) 100 times. Got 64 heads and 36 tails. Ratio of heads to tails: 1.7777777777777777\nFlipped coin (odds of heads = 0.6) 1000 times. Got 594 heads and 406 tails. Ratio of heads to tails: 1.4630541871921183\nFlipped coin (odds of heads = 0.6) 10000 times. Got 5983 heads and 4017 tails. Ratio of heads to tails: 1.4894199651481206\nFlipped coin (odds of heads = 0.6) 100000 times. Got 59909 heads and 40091 tails. Ratio of heads to tails: 1.4943254096929486\nFlipped coin (odds of heads = 0.6) 1000000 times. Got 599444 heads and 400556 tails. Ratio of heads to tails: 1.496529823545272\nFlipped coin (odds of heads = 0.6) 10000000 times. Got 5997166 heads and 4002834 tails. Ratio of heads to tails: 1.4982300040421361\n"
        }
      ],
      "execution_count": 26,
      "metadata": {
        "id": "z1bjzqZZ1W1n"
      }
    },
    {
      "cell_type": "markdown",
      "source": [],
      "metadata": {}
    }
  ],
  "metadata": {
    "colab": {
      "provenance": []
    },
    "kernelspec": {
      "display_name": "Python 3",
      "name": "python3"
    },
    "language_info": {
      "codemirror_mode": {
        "name": "ipython",
        "version": 3
      },
      "file_extension": ".py",
      "mimetype": "text/x-python",
      "name": "python",
      "nbconvert_exporter": "python",
      "pygments_lexer": "ipython3",
      "version": "3.9.6"
    },
    "nteract": {
      "version": "nteract-front-end@1.0.0"
    }
  },
  "nbformat": 4,
  "nbformat_minor": 0
}