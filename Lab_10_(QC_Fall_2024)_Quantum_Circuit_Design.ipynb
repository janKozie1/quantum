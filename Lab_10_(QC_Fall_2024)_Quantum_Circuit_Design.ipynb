{
  "nbformat": 4,
  "nbformat_minor": 0,
  "metadata": {
    "colab": {
      "provenance": []
    },
    "kernelspec": {
      "name": "python3",
      "display_name": "Python 3"
    },
    "language_info": {
      "name": "python"
    }
  },
  "cells": [
    {
      "cell_type": "markdown",
      "metadata": {
        "id": "OAQhZ-wW_beL"
      },
      "source": [
        "# Quantum Circuit Design\n"
      ]
    },
    {
      "cell_type": "code",
      "execution_count": 14,
      "metadata": {
        "id": "yVADAVMg_beN"
      },
      "outputs": [],
      "source": [
        "\n",
        "!pip install Qiskit\n",
        "from qiskit import QuantumRegister, ClassicalRegister, QuantumCircuit\n",
        "\n",
        "q =  QuantumRegister(1,\"qreg\")\n",
        "c = ClassicalRegister(1,\"creg\")\n",
        "\n",
        "qc = QuantumCircuit(q,c)\n",
        "qc.x(q[0])\n",
        "qc.h(q[0])\n",
        "qc.measure(q[0],c[0])\n",
        "qc.draw()\n"
      ]
    },
    {
      "cell_type": "markdown",
      "metadata": {
        "id": "R-OEMMWR_beR"
      },
      "source": [
        "<h3>Execute the circuit</h3>\n"
      ]
    },
    {
      "cell_type": "code",
      "execution_count": 15,
      "metadata": {
        "id": "64oWp5h3_beR",
        "colab": {
          "base_uri": "https://localhost:8080/",
          "height": 35
        },
        "outputId": "bec328c8-33ca-4041-a2d3-853b11466585"
      },
      "outputs": [
        {
          "output_type": "execute_result",
          "data": {
            "text/plain": [
              "\"\\nOLD VERSION\\njob = execute(qc,Aer.get_backend('qasm_simulator'),shots=1024)\\n\""
            ],
            "application/vnd.google.colaboratory.intrinsic+json": {
              "type": "string"
            }
          },
          "metadata": {},
          "execution_count": 15
        }
      ],
      "source": [
        "#!pip install qiskit ipywidgets\n",
        "#!pip install qiskit-ibm-runtime\n",
        "\n",
        "!pip install qiskit-aer\n",
        "from qiskit_aer import Aer\n",
        "\n",
        "backend = Aer.get_backend('qasm_simulator')\n",
        "job = backend.run(qc)\n",
        "\n",
        "\n",
        "'''\n",
        "OLD VERSION\n",
        "job = execute(qc,Aer.get_backend('qasm_simulator'),shots=1024)\n",
        "'''\n",
        "\n",
        "# we can get the result of the outcome as follows\n",
        "counts = job.result().get_counts(qc)\n",
        "print(counts) # counts is a dictionary"
      ]
    },
    {
      "cell_type": "code",
      "execution_count": 16,
      "metadata": {
        "id": "M4NbL3Ss_beS"
      },
      "outputs": [],
      "source": [
        "\n",
        "from qiskit.visualization import plot_histogram\n",
        "plot_histogram(counts)"
      ]
    },
    {
      "cell_type": "markdown",
      "metadata": {
        "id": "F6Q59n7P_beS"
      },
      "source": [
        "<h3> Quantum assembly language </h3>\n"
      ]
    },
    {
      "cell_type": "code",
      "execution_count": 17,
      "metadata": {
        "id": "QHZ2uEm3_beT"
      },
      "outputs": [],
      "source": [
        "from qiskit import qasm3\n",
        "\n",
        "print(qasm3.dumps(qc.decompose()))"
      ]
    },
    {
      "cell_type": "markdown",
      "metadata": {
        "id": "K8_SGL_q_beT"
      },
      "source": [
        "<h3> Quantum circuits with more than one qubit</h3>\n",
        "\n"
      ]
    },
    {
      "cell_type": "code",
      "execution_count": 18,
      "metadata": {
        "id": "0zWDxCtD_beU"
      },
      "outputs": [],
      "source": [
        "#\n",
        "# A quantum circuit with four qubits\n",
        "\n",
        "from qiskit import QuantumRegister, ClassicalRegister, QuantumCircuit\n",
        "\n",
        "# define the quantum circuit with four qubits and bits\n",
        "\n",
        "#\n",
        "# your code\n",
        "#\n",
        "\n",
        "# Apply the x-gate to the first qubit twice\n",
        "#\n",
        "# your code\n",
        "#\n",
        "\n",
        "# apply the x-gate to the fourth qubit once\n",
        "#\n",
        "# your code\n",
        "#\n",
        "\n",
        "# apply the x-gate to the third qubit three times\n",
        "#\n",
        "# your code\n",
        "#\n",
        "\n",
        "# apply the x-gate to the second qubit four times\n",
        "#\n",
        "# your code\n",
        "#\n",
        "\n",
        "\n",
        "#qc.barrier()    ### only for visualization purpose\n",
        "\n",
        "# finally, measure the qubits.\n",
        "\n"
      ]
    },
    {
      "cell_type": "code",
      "execution_count": 19,
      "metadata": {
        "id": "mxJmtDqq_beU"
      },
      "outputs": [],
      "source": [
        "# Draw the circuit\n",
        "\n",
        "#\n",
        "# your code\n",
        "#\n"
      ]
    },
    {
      "cell_type": "markdown",
      "metadata": {
        "id": "_pzmIiCw_beV"
      },
      "source": [
        "Execute the circuit 100 times."
      ]
    },
    {
      "cell_type": "code",
      "source": [
        "#\n",
        "# your code\n",
        "#"
      ],
      "metadata": {
        "id": "xXJr1GWSE2kd"
      },
      "execution_count": 20,
      "outputs": []
    },
    {
      "cell_type": "markdown",
      "source": [
        "Task 2\n",
        "Implement one of the Bell states in qiskit."
      ],
      "metadata": {
        "id": "Dza12IX0573x"
      }
    },
    {
      "cell_type": "code",
      "source": [
        "#\n",
        "# your code\n",
        "#"
      ],
      "metadata": {
        "id": "TARpOIMq6BG8"
      },
      "execution_count": 21,
      "outputs": []
    },
    {
      "cell_type": "markdown",
      "source": [
        "Implement the following circuit in qiskit with two different type of inputs.\n",
        "\n",
        "\n",
        "*   First set the first three inputs to different basis states and in all of them set the last qubit to zero.\n",
        "*   Set the first two qubits to a Bell state and the third qubit to a superposition state and the fourth qubit to zero.\n",
        "\n",
        "\n",
        "\n",
        "![Adder.png](data:image/png;base64,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)"
      ],
      "metadata": {
        "id": "ojO_lkWe8qwC"
      }
    },
    {
      "cell_type": "code",
      "source": [
        "#\n",
        "# your code\n",
        "#\n"
      ],
      "metadata": {
        "id": "zGgmv7LoHklR"
      },
      "execution_count": 22,
      "outputs": []
    },
    {
      "cell_type": "markdown",
      "source": [
        "<h3> Run your quantum computations on real hardware </h3>\n"
      ],
      "metadata": {
        "id": "03I9OAi3-DK0"
      }
    },
    {
      "cell_type": "code",
      "source": [
        "!pip install qiskit-ibm-provider\n",
        "\n",
        "from qiskit_ibm_provider import IBMProvider\n",
        "\n",
        "IBMProvider.save_account(token='50c761015e571b02392f1d9e11e8c24c11f02debd492b2411c43825edf789e8d277b31cd6de6fbd2f53b79c1c81f4dc7f689bf431d335deba24f22cf47d420bb', overwrite=True)\n",
        "provider = IBMProvider()"
      ],
      "metadata": {
        "id": "e8_PazhQ-n4Q"
      },
      "execution_count": 23,
      "outputs": []
    },
    {
      "cell_type": "code",
      "source": [
        "backend_name = \"ibm_brisbane\"\n",
        "backend = provider.get_backend(backend_name)"
      ],
      "metadata": {
        "id": "IH71DxOw_Loz"
      },
      "execution_count": 24,
      "outputs": []
    },
    {
      "cell_type": "code",
      "source": [
        "from qiskit import transpile\n",
        "\n",
        "#qc_transpiled = transpile(qc, backend)\n",
        "#job = backend.run(qc_transpiled, shots=1000)\n",
        "job = backend.run(qc, shots=1000)"
      ],
      "metadata": {
        "id": "GwNljjnE-8DJ"
      },
      "execution_count": 25,
      "outputs": []
    },
    {
      "cell_type": "code",
      "source": [
        "#counts = job.result().get_counts()\n",
        "\n",
        "#plot_histogram(counts)"
      ],
      "metadata": {
        "id": "LaNWtNss_Dyv"
      },
      "execution_count": 26,
      "outputs": []
    }
  ]
}