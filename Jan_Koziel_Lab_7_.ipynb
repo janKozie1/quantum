{
  "cells": [
    {
      "cell_type": "markdown",
      "metadata": {
        "id": "o8kK2gazzhK9"
      },
      "source": [
        "$ \\newcommand{\\bra}[1]{\\langle #1|} $\n",
        "$ \\newcommand{\\ket}[1]{|#1\\rangle} $\n",
        "$ \\newcommand{\\braket}[2]{\\langle #1|#2\\rangle} $\n",
        "$ \\newcommand{\\dot}[2]{ #1 \\cdot #2} $\n",
        "$ \\newcommand{\\biginner}[2]{\\left\\langle #1,#2\\right\\rangle} $\n",
        "$ \\newcommand{\\mymatrix}[2]{\\left( \\begin{array}{#1} #2\\end{array} \\right)} $\n",
        "$ \\newcommand{\\myvector}[1]{\\mymatrix{c}{#1}} $\n",
        "$ \\newcommand{\\myrvector}[1]{\\mymatrix{r}{#1}} $\n",
        "$ \\newcommand{\\mypar}[1]{\\left( #1 \\right)} $\n",
        "$ \\newcommand{\\mybigpar}[1]{ \\Big( #1 \\Big)} $\n",
        "$ \\newcommand{\\sqrttwo}{\\frac{1}{\\sqrt{2}}} $\n",
        "$ \\newcommand{\\dsqrttwo}{\\dfrac{1}{\\sqrt{2}}} $\n",
        "$ \\newcommand{\\onehalf}{\\frac{1}{2}} $\n",
        "$ \\newcommand{\\donehalf}{\\dfrac{1}{2}} $\n",
        "$ \\newcommand{\\hadamard}{ \\mymatrix{rr}{ \\sqrttwo & \\sqrttwo \\\\ \\sqrttwo & -\\sqrttwo }} $\n",
        "$ \\newcommand{\\vzero}{\\myvector{1\\\\0}} $\n",
        "$ \\newcommand{\\vone}{\\myvector{0\\\\1}} $\n",
        "$ \\newcommand{\\stateplus}{\\myvector{ \\sqrttwo \\\\  \\sqrttwo } } $\n",
        "$ \\newcommand{\\stateminus}{ \\myrvector{ \\sqrttwo \\\\ -\\sqrttwo } } $\n",
        "$ \\newcommand{\\myarray}[2]{ \\begin{array}{#1}#2\\end{array}} $\n",
        "$ \\newcommand{\\X}{ \\mymatrix{cc}{0 & 1 \\\\ 1 & 0}  } $\n",
        "$ \\newcommand{\\I}{ \\mymatrix{rr}{1 & 0 \\\\ 0 & 1}  } $\n",
        "$ \\newcommand{\\Z}{ \\mymatrix{rr}{1 & 0 \\\\ 0 & -1}  } $\n",
        "$ \\newcommand{\\Htwo}{ \\mymatrix{rrrr}{ \\frac{1}{2} & \\frac{1}{2} & \\frac{1}{2} & \\frac{1}{2} \\\\ \\frac{1}{2} & -\\frac{1}{2} & \\frac{1}{2} & -\\frac{1}{2} \\\\ \\frac{1}{2} & \\frac{1}{2} & -\\frac{1}{2} & -\\frac{1}{2} \\\\ \\frac{1}{2} & -\\frac{1}{2} & -\\frac{1}{2} & \\frac{1}{2} } } $\n",
        "$ \\newcommand{\\CNOT}{ \\mymatrix{cccc}{1 & 0 & 0 & 0 \\\\ 0 & 1 & 0 & 0 \\\\ 0 & 0 & 0 & 1 \\\\ 0 & 0 & 1 & 0} } $\n",
        "$ \\newcommand{\\norm}[1]{ \\left\\lVert #1 \\right\\rVert } $\n",
        "$ \\newcommand{\\pstate}[1]{ \\lceil \\mspace{-1mu} #1 \\mspace{-1.5mu} \\rfloor } $\n",
        "$ \\newcommand{\\greenbit}[1] {\\mathbf{{\\color{green}#1}}} $\n",
        "$ \\newcommand{\\bluebit}[1] {\\mathbf{{\\color{blue}#1}}} $\n",
        "$ \\newcommand{\\redbit}[1] {\\mathbf{{\\color{red}#1}}} $\n",
        "$ \\newcommand{\\brownbit}[1] {\\mathbf{{\\color{brown}#1}}} $\n",
        "$ \\newcommand{\\blackbit}[1] {\\mathbf{{\\color{black}#1}}} $"
      ]
    },
    {
      "cell_type": "markdown",
      "metadata": {
        "id": "OQFuwbc437Wy"
      },
      "source": [
        "<font style=\"font-size:28px;\" align=\"left\"><b> Quantum State </b></font>\n",
        "<br>\n"
      ]
    },
    {
      "cell_type": "markdown",
      "metadata": {
        "id": "DzK0X4c4zhLD"
      },
      "source": [
        "_The overall probability must be 1 when we observe a quantum system._\n",
        "\n",
        "For example, the following vectors <u>cannot</u> be a valid quantum state:\n",
        "\n",
        "$$\n",
        "    \\myvector{ \\dfrac{1}{2} \\\\ \\dfrac{1}{2} }\n",
        "    \\mbox{ and }\n",
        "    \\myvector{ \\dfrac{\\sqrt{3}}{2} \\\\ \\dfrac{1}{\\sqrt{2}} }.\n",
        "$$\n",
        "\n",
        "For the first vector, the probabilities of observing the states $\\ket{0} $ and $ \\ket{1} $ are $ \\dfrac{1}{4} $.\n",
        "\n",
        "So, the overall probability of getting a result is $ \\dfrac{1}{4} + \\dfrac{1}{4} = \\dfrac{1}{2} $, which is less than 1.\n",
        "\n",
        "For the second vector, the probabilities of observing the states $\\ket{0} $ and $ \\ket{1} $ are respectively $ \\dfrac{3}{4} $ and $ \\dfrac{1}{2} $.\n",
        "\n",
        "So, the overall probability of getting a result is $ \\dfrac{3}{4} + \\dfrac{1}{2} = \\dfrac{5}{4} $, which is greater than 1."
      ]
    },
    {
      "cell_type": "markdown",
      "metadata": {
        "id": "hzHrrU3JzhLD"
      },
      "source": [
        "<font color=\"blue\"><b>The summation of amplitude squares must be 1 for a valid quantum state.</b></font>"
      ]
    },
    {
      "cell_type": "markdown",
      "metadata": {
        "id": "vwyWJuu8zhLE"
      },
      "source": [
        "<font color=\"blue\"><b>More formally, a quantum state can be represented by a vector having length 1, and vice versa.</b></font>\n",
        "\n",
        "<i>The summation of amplitude squares gives the square of the length of vector.\n",
        "\n",
        "But, this summation is 1, and its square root is also 1. So, we can use the term <u>length</u> in the definition.</i>"
      ]
    },
    {
      "cell_type": "markdown",
      "metadata": {
        "id": "cBBGwG7lzhLE"
      },
      "source": [
        "<i> <b>Technical notes:</b> We represent a quantum state as $ \\ket{u} $ instead of $ u $. Remember the relation between the length and dot product: $ \\norm{u} = \\sqrt{\\dot{u}{u}} $.\n",
        "    \n",
        "In quantum computation, we use inner product instead of dot product, which is defined on complex numbers. By using bra-ket notation, $ \\norm{ \\ket{u} } = \\sqrt{ \\braket{u}{u} } = 1 $, or equivalently $ \\braket{u}{u} = 1 $, where $ \\braket{u}{u} $ is a short form of $ \\bra{u}\\ket{u} $. For real-valued vectors, $ \\braket{v}{v} = \\dot{v}{v}  $.\n",
        "</i>"
      ]
    },
    {
      "cell_type": "markdown",
      "metadata": {
        "id": "obOezP37OyMu"
      },
      "source": [
        "###In this assignment, you will learn how to check if a given vector is a valid quantum state.\n",
        "\n",
        "####**Task 1. Checking if a Vector is Normalized**\n",
        "\n",
        "\n",
        "1. Write a Python function is_normalized(v) that takes a NumPy array representing a vector v as input and returns a Boolean value indicating if the vector is normalized. A vector is normalized if the sum of the squared absolute values of its elements is equal to 1.\n",
        "\n",
        "2. Test your function with the following vectors:\n",
        "\n",
        "a. [1/2, 1/2] <br>\n",
        "b. [1, 0, 0, 0] <br>\n",
        "c. [1, 1] <br>\n",
        "d. [-1/2, 1j/2] <br>\n",
        "e. [1, 2, 3] <br>\n",
        "\n",
        "3. Discuss your results. Which vectors are normalized and which are not? Why?"
      ]
    },
    {
      "cell_type": "code",
      "execution_count": 6,
      "metadata": {},
      "outputs": [
        {
          "name": "stdout",
          "output_type": "stream",
          "text": [
            "A = False\n",
            "B = True\n",
            "C = False\n",
            "D = False\n",
            "E = False\n"
          ]
        }
      ],
      "source": [
        "from functools import reduce\n",
        "import math\n",
        "\n",
        "def is_normalized(v):\n",
        "  return reduce(lambda acc, x: acc + (x ** 2), v, 0) == 1\n",
        "\n",
        "print(f\"A = {is_normalized([1/2, 1/2])}\")\n",
        "print(f\"B = {is_normalized([1, 0, 0, 0])}\")\n",
        "print(f\"C = {is_normalized([1, 1])}\")\n",
        "print(f\"D = {is_normalized([-1/2, 1j/2])}\")\n",
        "print(f\"E = {is_normalized([1, 2, 3])}\")"
      ]
    },
    {
      "cell_type": "markdown",
      "metadata": {
        "id": "5Gv_4Wp3PoWZ"
      },
      "source": [
        "####**Task 2: Checking if a Vector is a Column Vector**\n",
        "1. Write a Python function is_column_vector(v) that takes a NumPy array representing a vector v as input and returns a Boolean value indicating if the vector is a column vector. A vector is a column vector if it has a shape of (n, 1) or (n,), where n is the number of elements in the vector.\n",
        "\n",
        "2. Test your function with the following vectors:\n",
        "\n",
        "a. [1/2, 1/2] <br>\n",
        "b. [[1], [0], [0], [0]] <br>\n",
        "c. [1, 1] <br>\n",
        "d. [-1/2, 1j/2] <br>\n",
        "e. [1, 2, 3] <br>\n",
        "\n",
        "3. Discuss your results. Which vectors are column vectors and which are not? Why?"
      ]
    },
    {
      "cell_type": "code",
      "execution_count": 10,
      "metadata": {},
      "outputs": [
        {
          "name": "stdout",
          "output_type": "stream",
          "text": [
            "(2,)\n",
            "A = True\n",
            "(4, 1)\n",
            "B = True\n",
            "(2,)\n",
            "C = True\n",
            "(2,)\n",
            "D = True\n",
            "(3,)\n",
            "E = True\n"
          ]
        }
      ],
      "source": [
        "import numpy as np\n",
        "\n",
        "def is_column_vector(v):\n",
        "    if isinstance(v, np.ndarray):\n",
        "        return v.ndim == 1 or (v.ndim == 2 and v.shape[1] == 1)\n",
        "    return False\n",
        "\n",
        "\n",
        "print(f\"A = {is_column_vector(np.array([1/2, 1/2]))}\")\n",
        "print(f\"B = {is_column_vector(np.array([[1], [0], [0], [0]]))}\")\n",
        "print(f\"C = {is_column_vector(np.array([1,1]))}\")\n",
        "print(f\"D = {is_column_vector(np.array([-1/2, 1/2j]))}\")\n",
        "print(f\"E = {is_column_vector(np.array([1, 2, 3]))}\")"
      ]
    },
    {
      "cell_type": "markdown",
      "metadata": {
        "id": "3okVf-cyLpQb"
      },
      "source": [
        "###Import qiskit and other necessary libraries"
      ]
    },
    {
      "cell_type": "markdown",
      "metadata": {
        "id": "zE-lNh86ROXR"
      },
      "source": [
        "Check if state $$ vec = \\dfrac{1}{\\sqrt{2}}\\myvector{1 \\\\ 0  \\\\ i \\\\ 0 }$$\n",
        "is a valid quantum state.<br><br>\n",
        "Initialize a quantum state by vector $vec$ using $Statevector$ function in qiskit."
      ]
    },
    {
      "cell_type": "code",
      "execution_count": 24,
      "metadata": {
        "id": "5vR11WIJMF8I"
      },
      "outputs": [
        {
          "name": "stdout",
          "output_type": "stream",
          "text": [
            "(0.9999999999999998+0j)\n"
          ]
        }
      ],
      "source": [
        "# !pip3 install qiskit\n",
        "# !pip3 install qiskit-aer\n",
        "import qiskit\n",
        "from qiskit import QuantumRegister, ClassicalRegister, QuantumCircuit\n",
        "from qiskit.quantum_info import Statevector\n",
        "from qiskit_aer import Aer\n",
        "import numpy as np\n",
        "\n",
        "vec = Statevector([1, 0 , 1j, 0])/math.sqrt(2)\n",
        "print(np.vdot(vec, vec))"
      ]
    },
    {
      "cell_type": "markdown",
      "metadata": {},
      "source": [
        "code shows a slight numerical error due to precision, but if calculated manually, the vector does represent a valid quantum state |(1/√2)|^2 + |(i/√2)|^2 = 1/2 + 1/2 = 1\n",
        "\n"
      ]
    },
    {
      "cell_type": "markdown",
      "metadata": {
        "id": "ymAIr8jszhLF"
      },
      "source": [
        "<h3> Task 3 </h3>\n",
        "\n",
        "If the following vectors are valid quantum states defined with real numbers, then what can be the values of $a$ and $b$?\n",
        "\n",
        "$$\n",
        "    \\ket{v} = \\myrvector{a \\\\ -0.1 \\\\ -0.3 \\\\ 0.4 \\\\ 0.5}\n",
        "    ~~~~~ \\mbox{and} ~~~~~\n",
        "   \\ket{u} = \\myrvector{ \\frac{1}{\\sqrt{2}} \\\\ \\frac{1}{\\sqrt{b}} \\\\ -\\frac{1}{\\sqrt{3}} }.\n",
        "$$"
      ]
    },
    {
      "cell_type": "markdown",
      "metadata": {},
      "source": [
        "1. \n",
        "|a|^2 + |-0.1|^2 + |-0.3|^2 + |0.4|^2 + |0.5|^2 = 1 <br>\n",
        "a^2 = 1 - 1/100 - 9/100 - 16/100 - 25/100 <br>\n",
        "a^2 = 1 - 51/100 <br>\n",
        "a^2 = 49/100 <br>\n",
        "a = 7/10 v a = -7/10 <br>\n",
        "\n",
        "2.\n",
        "|1/√2|^2 + |1/√b|^2 + |-1/√3|^2 = 1 <br>\n",
        "1/b = 1 - 1/2 - 1/3 <br>\n",
        "1/b = 1/6 <br>\n",
        "b = 6 <br>\n",
        "\n"
      ]
    },
    {
      "cell_type": "markdown",
      "metadata": {},
      "source": []
    },
    {
      "cell_type": "markdown",
      "metadata": {
        "id": "eXPt6G5vzhLI"
      },
      "source": [
        "<h3> Quantum Operators </h3>\n",
        "\n",
        "Once the quantum state is defined, the definition of quantum operator is very easy.\n",
        "\n",
        "<font color=\"blue\"><b>Any length preserving (square) matrix is a quantum operator, and vice versa.</b></font>"
      ]
    },
    {
      "cell_type": "markdown",
      "metadata": {
        "id": "1dSWuFvUzhLI"
      },
      "source": [
        "<a id=\"task4\"></a>\n",
        "<h3> Task 4</h3>\n",
        "\n",
        "The following matrix is called Hadamard operator:\n",
        "\n",
        "$$\n",
        "    H = \\hadamard.\n",
        "$$"
      ]
    },
    {
      "cell_type": "markdown",
      "metadata": {
        "id": "ht91XIMJzhLI"
      },
      "source": [
        "Randomly create a 2-dimensional quantum state, and test whether Hadamard operator preserves its length or not.\n",
        "\n",
        "<b>Write a function</b> that returns a randomly created 2-dimensional quantum state.\n",
        "\n",
        "<i>Hint:\n",
        "<ul>\n",
        "    <li> Pick two random values between -100 and 100 for the amplitudes of state 0 and state 1 </li>\n",
        "    <li> Find an appropriate normalization factor to divide each amplitude such that the length of quantum state should be 1 </li>\n",
        "</ul>\n",
        "</i>"
      ]
    },
    {
      "cell_type": "markdown",
      "metadata": {
        "id": "xACzuIlGzhLJ"
      },
      "source": [
        "<b>Write a function</b> that determines whether a given vector is a valid quantum state or not.\n",
        "\n",
        "(Due to precision problem, the summation of squares may not be exactly 1 but very close to 1, e.g., 0.9999999999999998.)\n",
        "\n",
        "<b>Repeat 10 times:</b>\n",
        "<ul>\n",
        "    <li> Randomly pick a quantum state </li>\n",
        "    <li> Check whether the picked quantum state is valid </li>\n",
        "    <li> Multiply Hadamard operator with the randomly created quantum state </li>\n",
        "    <li> Check whether the quantum state in result is valid </li>\n",
        "</ul>"
      ]
    },
    {
      "cell_type": "code",
      "execution_count": 6,
      "metadata": {
        "id": "xnE8MC1RzhLJ"
      },
      "outputs": [
        {
          "name": "stdout",
          "output_type": "stream",
          "text": [
            "State [ 0.85929544 -0.51147957]\n",
            "Is valid: True\n",
            "Is valid after applying H: True\n",
            "State [-0.74832935 -0.66332735]\n",
            "Is valid: True\n",
            "Is valid after applying H: True\n",
            "State [-0.88673771  0.4622729 ]\n",
            "Is valid: True\n",
            "Is valid after applying H: True\n",
            "State [0.73988866 0.67272934]\n",
            "Is valid: True\n",
            "Is valid after applying H: True\n",
            "State [-0.71870314  0.69531705]\n",
            "Is valid: True\n",
            "Is valid after applying H: True\n",
            "State [-0.60972076  0.7926163 ]\n",
            "Is valid: True\n",
            "Is valid after applying H: True\n",
            "State [-0.71693801  0.69713693]\n",
            "Is valid: True\n",
            "Is valid after applying H: True\n",
            "State [-0.68926329  0.72451095]\n",
            "Is valid: True\n",
            "Is valid after applying H: True\n",
            "State [-0.42812639 -0.90371887]\n",
            "Is valid: True\n",
            "Is valid after applying H: True\n",
            "State [-0.59166789  0.80618181]\n",
            "Is valid: True\n",
            "Is valid after applying H: True\n"
          ]
        }
      ],
      "source": [
        "#\n",
        "# you may define your first function in a separate cell\n",
        "#\n",
        "\n",
        "from random import randrange\n",
        "import numpy as np\n",
        "\n",
        "def random_quantum_state():\n",
        "    alpha = np.random.uniform(-100, 100)\n",
        "    beta = np.random.uniform(-100, 100)\n",
        "\n",
        "    norm_factor = np.sqrt(alpha**2 + beta**2)\n",
        "    alpha_normalized = alpha / norm_factor\n",
        "    beta_normalized = beta / norm_factor\n",
        "\n",
        "    return np.array([alpha_normalized, beta_normalized])\n",
        "\n",
        "def is_valid_quantum_state(state):\n",
        "    norm = np.abs(state[0])**2 + np.abs(state[1])**2\n",
        "    return np.isclose(norm, 1, atol=1e-10)\n",
        "\n",
        "def apply_hadamard(state):\n",
        "    H = 1/np.sqrt(2) * np.array([[1, 1], [1, -1]])\n",
        "    return np.dot(H, state)\n",
        "\n",
        "\n",
        "for i in range (0, 10):\n",
        "    state = random_quantum_state()\n",
        "    print(f\"State {state}\")\n",
        "    print(f\"Is valid: {is_valid_quantum_state(state)}\")\n",
        "    print(f\"Is valid after applying H: {is_valid_quantum_state(apply_hadamard(state))}\")"
      ]
    },
    {
      "cell_type": "code",
      "execution_count": null,
      "metadata": {
        "id": "H_yN62K1zhLK"
      },
      "outputs": [],
      "source": [
        "#\n",
        "# your code is here\n",
        "#\n"
      ]
    },
    {
      "cell_type": "markdown",
      "metadata": {
        "id": "iYHk_2JazhLK"
      },
      "source": [
        "<a id=\"task5\"></a>\n",
        "<h3> Task 5</h3>\n",
        "\n",
        "Let $ \\ket{u} =  \\myvector{x \\\\ y} \\in \\mathbb{R}^2 $ is a quantum state.\n",
        "\n",
        "Show that $ \\ket{u'} = H \\ket{u} $ is also a quantum state.\n",
        "\n",
        "_Hint: The length of $ \\ket{u'} $ must be 1, given that the length of $ \\ket{u} $ is 1._"
      ]
    },
    {
      "cell_type": "markdown",
      "metadata": {},
      "source": [
        "|u> = [a, b]\n",
        "sqrt(a ** 2 + b ** 2) = 1\n",
        "\n",
        "p = 1/sqrt(2)\n",
        "\n",
        "H|u> = [\n",
        "  p * a + p * b,\n",
        "  p * a - p * b\n",
        "]\n",
        "\n",
        "sqrt( (pa + pb) ** 2 + (p*a - p*b) ** 2) =  <br>\n",
        "sqrt(p**2 * (a + b) ** 2 + p ** 2 (a - b) ** 2) =  <br>\n",
        "sqrt(p**2 * (2a ** 2 + 2b ** 2)) = <br>\n",
        "sqrt(2p**2 * (a ** 2 + b ** 2)) = <br>\n",
        "sqrt(2p ** 2 * 1) = <br>\n",
        "sqrt(2p ** 2) = <br>\n",
        "sqrt (2 * 1/2) = <br>\n",
        "sqrt (1) =  <br>\n",
        "1"
      ]
    },
    {
      "cell_type": "markdown",
      "metadata": {},
      "source": []
    }
  ],
  "metadata": {
    "colab": {
      "provenance": []
    },
    "kernelspec": {
      "display_name": "Python 3",
      "language": "python",
      "name": "python3"
    },
    "language_info": {
      "codemirror_mode": {
        "name": "ipython",
        "version": 3
      },
      "file_extension": ".py",
      "mimetype": "text/x-python",
      "name": "python",
      "nbconvert_exporter": "python",
      "pygments_lexer": "ipython3",
      "version": "3.9.6"
    }
  },
  "nbformat": 4,
  "nbformat_minor": 0
}
