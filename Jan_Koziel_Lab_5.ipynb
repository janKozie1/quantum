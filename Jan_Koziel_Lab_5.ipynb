{
  "cells": [
    {
      "cell_type": "markdown",
      "metadata": {
        "id": "9fWZLTnXT2vr"
      },
      "source": [
        "<font style=\"font-size:28px;\" align=\"left\"><b>Tensor Product</b></font>\n",
        "$ \\newcommand{\\bra}[1]{\\langle #1|} $\n",
        "$ \\newcommand{\\ket}[1]{|#1\\rangle} $\n",
        "$ \\newcommand{\\braket}[2]{\\langle #1|#2\\rangle} $\n",
        "$ \\newcommand{\\dot}[2]{ #1 \\cdot #2} $\n",
        "$ \\newcommand{\\biginner}[2]{\\left\\langle #1,#2\\right\\rangle} $\n",
        "$ \\newcommand{\\mymatrix}[2]{\\left( \\begin{array}{#1} #2\\end{array} \\right)} $\n",
        "$ \\newcommand{\\myvector}[1]{\\mymatrix{c}{#1}} $\n",
        "$ \\newcommand{\\myrvector}[1]{\\mymatrix{r}{#1}} $\n",
        "$ \\newcommand{\\mypar}[1]{\\left( #1 \\right)} $\n",
        "$ \\newcommand{\\mybigpar}[1]{ \\Big( #1 \\Big)} $\n",
        "$ \\newcommand{\\sqrttwo}{\\frac{1}{\\sqrt{2}}} $\n",
        "$ \\newcommand{\\dsqrttwo}{\\dfrac{1}{\\sqrt{2}}} $\n",
        "$ \\newcommand{\\onehalf}{\\frac{1}{2}} $\n",
        "$ \\newcommand{\\donehalf}{\\dfrac{1}{2}} $\n",
        "$ \\newcommand{\\hadamard}{ \\mymatrix{rr}{ \\sqrttwo & \\sqrttwo \\\\ \\sqrttwo & -\\sqrttwo }} $\n",
        "$ \\newcommand{\\vzero}{\\myvector{1\\\\0}} $\n",
        "$ \\newcommand{\\vone}{\\myvector{0\\\\1}} $\n",
        "$ \\newcommand{\\stateplus}{\\myvector{ \\sqrttwo \\\\  \\sqrttwo } } $\n",
        "$ \\newcommand{\\stateminus}{ \\myrvector{ \\sqrttwo \\\\ -\\sqrttwo } } $\n",
        "$ \\newcommand{\\myarray}[2]{ \\begin{array}{#1}#2\\end{array}} $\n",
        "$ \\newcommand{\\X}{ \\mymatrix{cc}{0 & 1 \\\\ 1 & 0}  } $\n",
        "$ \\newcommand{\\I}{ \\mymatrix{rr}{1 & 0 \\\\ 0 & 1}  } $\n",
        "$ \\newcommand{\\Z}{ \\mymatrix{rr}{1 & 0 \\\\ 0 & -1}  } $\n",
        "$ \\newcommand{\\Htwo}{ \\mymatrix{rrrr}{ \\frac{1}{2} & \\frac{1}{2} & \\frac{1}{2} & \\frac{1}{2} \\\\ \\frac{1}{2} & -\\frac{1}{2} & \\frac{1}{2} & -\\frac{1}{2} \\\\ \\frac{1}{2} & \\frac{1}{2} & -\\frac{1}{2} & -\\frac{1}{2} \\\\ \\frac{1}{2} & -\\frac{1}{2} & -\\frac{1}{2} & \\frac{1}{2} } } $\n",
        "$ \\newcommand{\\CNOT}{ \\mymatrix{cccc}{1 & 0 & 0 & 0 \\\\ 0 & 1 & 0 & 0 \\\\ 0 & 0 & 0 & 1 \\\\ 0 & 0 & 1 & 0} } $\n",
        "$ \\newcommand{\\norm}[1]{ \\left\\lVert #1 \\right\\rVert } $\n",
        "$ \\newcommand{\\pstate}[1]{ \\lceil \\mspace{-1mu} #1 \\mspace{-1.5mu} \\rfloor } $\n",
        "$ \\newcommand{\\greenbit}[1] {\\mathbf{{\\color{green}#1}}} $\n",
        "$ \\newcommand{\\bluebit}[1] {\\mathbf{{\\color{blue}#1}}} $\n",
        "$ \\newcommand{\\redbit}[1] {\\mathbf{{\\color{red}#1}}} $\n",
        "$ \\newcommand{\\brownbit}[1] {\\mathbf{{\\color{brown}#1}}} $\n",
        "$ \\newcommand{\\blackbit}[1] {\\mathbf{{\\color{black}#1}}} $\n"
      ]
    },
    {
      "cell_type": "markdown",
      "metadata": {
        "id": "DLG2HZhVbL-o"
      },
      "source": [
        "# Tensor Products of Vectors"
      ]
    },
    {
      "cell_type": "markdown",
      "metadata": {
        "id": "Sm0mkx6SbL-3"
      },
      "source": [
        "## Importing NumPy\n",
        "\n",
        "We will need to import NumPy for tensor products."
      ]
    },
    {
      "cell_type": "code",
      "execution_count": 1,
      "metadata": {
        "id": "-MzBPNoDbL-6",
        "trusted": false
      },
      "outputs": [
        {
          "name": "stdout",
          "output_type": "stream",
          "text": [
            "Defaulting to user installation because normal site-packages is not writeable\n",
            "Requirement already satisfied: numpy in /Users/jkoziel/Library/Python/3.9/lib/python/site-packages (2.0.2)\n",
            "\u001b[33mWARNING: You are using pip version 21.2.4; however, version 24.2 is available.\n",
            "You should consider upgrading via the '/Library/Developer/CommandLineTools/usr/bin/python3 -m pip install --upgrade pip' command.\u001b[0m\n"
          ]
        }
      ],
      "source": [
        "!pip3 install numpy\n",
        "import numpy as np"
      ]
    },
    {
      "cell_type": "markdown",
      "metadata": {
        "id": "o1wLhT6ONJjf"
      },
      "source": [
        "\n",
        "$ \\newcommand{\\bra}[1]{\\langle #1|} $\n",
        "$ \\newcommand{\\ket}[1]{|#1\\rangle} $\n",
        "$ \\newcommand{\\braket}[2]{\\langle #1|#2\\rangle} $\n",
        "$ \\newcommand{\\dot}[2]{ #1 \\cdot #2} $\n",
        "$ \\newcommand{\\biginner}[2]{\\left\\langle #1,#2\\right\\rangle} $\n",
        "$ \\newcommand{\\mymatrix}[2]{\\left( \\begin{array}{#1} #2\\end{array} \\right)} $\n",
        "$ \\newcommand{\\myvector}[1]{\\mymatrix{c}{#1}} $\n",
        "$ \\newcommand{\\myrvector}[1]{\\mymatrix{r}{#1}} $\n",
        "$ \\newcommand{\\mypar}[1]{\\left( #1 \\right)} $\n",
        "$ \\newcommand{\\mybigpar}[1]{ \\Big( #1 \\Big)} $\n",
        "$ \\newcommand{\\sqrttwo}{\\frac{1}{\\sqrt{2}}} $\n",
        "$ \\newcommand{\\dsqrttwo}{\\dfrac{1}{\\sqrt{2}}} $\n",
        "$ \\newcommand{\\onehalf}{\\frac{1}{2}} $\n",
        "$ \\newcommand{\\donehalf}{\\dfrac{1}{2}} $\n",
        "$ \\newcommand{\\hadamard}{ \\mymatrix{rr}{ \\sqrttwo & \\sqrttwo \\\\ \\sqrttwo & -\\sqrttwo }} $\n",
        "$ \\newcommand{\\vzero}{\\myvector{1\\\\0}} $\n",
        "$ \\newcommand{\\vone}{\\myvector{0\\\\1}} $\n",
        "$ \\newcommand{\\stateplus}{\\myvector{ \\sqrttwo \\\\  \\sqrttwo } } $\n",
        "$ \\newcommand{\\stateminus}{ \\myrvector{ \\sqrttwo \\\\ -\\sqrttwo } } $\n",
        "$ \\newcommand{\\myarray}[2]{ \\begin{array}{#1}#2\\end{array}} $\n",
        "$ \\newcommand{\\X}{ \\mymatrix{cc}{0 & 1 \\\\ 1 & 0}  } $\n",
        "$ \\newcommand{\\I}{ \\mymatrix{rr}{1 & 0 \\\\ 0 & 1}  } $\n",
        "$ \\newcommand{\\Z}{ \\mymatrix{rr}{1 & 0 \\\\ 0 & -1}  } $\n",
        "$ \\newcommand{\\Htwo}{ \\mymatrix{rrrr}{ \\frac{1}{2} & \\frac{1}{2} & \\frac{1}{2} & \\frac{1}{2} \\\\ \\frac{1}{2} & -\\frac{1}{2} & \\frac{1}{2} & -\\frac{1}{2} \\\\ \\frac{1}{2} & \\frac{1}{2} & -\\frac{1}{2} & -\\frac{1}{2} \\\\ \\frac{1}{2} & -\\frac{1}{2} & -\\frac{1}{2} & \\frac{1}{2} } } $\n",
        "$ \\newcommand{\\CNOT}{ \\mymatrix{cccc}{1 & 0 & 0 & 0 \\\\ 0 & 1 & 0 & 0 \\\\ 0 & 0 & 0 & 1 \\\\ 0 & 0 & 1 & 0} } $\n",
        "$ \\newcommand{\\norm}[1]{ \\left\\lVert #1 \\right\\rVert } $\n",
        "$ \\newcommand{\\pstate}[1]{ \\lceil \\mspace{-1mu} #1 \\mspace{-1.5mu} \\rfloor } $\n",
        "$ \\newcommand{\\greenbit}[1] {\\mathbf{{\\color{green}#1}}} $\n",
        "$ \\newcommand{\\bluebit}[1] {\\mathbf{{\\color{blue}#1}}} $\n",
        "$ \\newcommand{\\redbit}[1] {\\mathbf{{\\color{red}#1}}} $\n",
        "$ \\newcommand{\\brownbit}[1] {\\mathbf{{\\color{brown}#1}}} $\n",
        "$ \\newcommand{\\blackbit}[1] {\\mathbf{{\\color{black}#1}}} $"
      ]
    },
    {
      "cell_type": "markdown",
      "metadata": {
        "id": "kcyi-ncpNJjk"
      },
      "source": [
        "Tensor product is defined between any two matrices. The result is a new probably bigger matrix.\n",
        "\n",
        "Before giving its formal definition, we define it based on examples.\n",
        "\n",
        "We start with a simple case.\n",
        "\n",
        "<i>A vector is also a matrix. Therefore, tensor product can be defined between two vectors or between one vector and one matrix.</i>"
      ]
    },
    {
      "cell_type": "markdown",
      "metadata": {
        "id": "3El06sptNJjk"
      },
      "source": [
        "<h3> Tensor product of two vectors </h3>\n",
        "\n",
        "We have two vectors: $ u = \\myrvector{-2\\\\3} $ and $ v = \\myrvector{1 \\\\ 2 \\\\ -3} $.\n",
        "\n",
        "The tensor product of $u$ and $ v $ is denoted by $ u \\otimes v $.\n",
        "\n",
        "We may consider the tensor product as extending $ u $ by $ v $:\n",
        "\n",
        "One of the most common tensor products we will encounter throughout the following chapters of the book will be the tensor product of two qubits, which are represented by $2$-dimensional vector which have length (or \"norm\") $1$.\n",
        "\n",
        "The general rule for the tensor product of two $2$-dimensional vectors is as follows:\n",
        "\n",
        "\\begin{align}\n",
        "\\begin{pmatrix}\n",
        "a_1 \\\\ a_2\n",
        "\\end{pmatrix} \\otimes\n",
        "\\begin{pmatrix}\n",
        "b_1 \\\\ b_2\n",
        "\\end{pmatrix} =\n",
        "\\begin{pmatrix}\n",
        "a_1 \\begin{pmatrix}\n",
        "b_1 \\\\ b_2\n",
        "\\end{pmatrix} \\\\ a_2 \\begin{pmatrix}\n",
        "b_1 \\\\ b_2\n",
        "\\end{pmatrix}\n",
        "\\end{pmatrix} =\n",
        "\\begin{pmatrix}\n",
        "a_1b_1 \\\\ a_1b_2 \\\\ a_2b_1 \\\\ a_2b_2\n",
        "\\end{pmatrix}\n",
        "\\end{align}\n",
        "\n",
        "\n",
        "Here is a numerical example:\n",
        "\n",
        "\\begin{align}\n",
        "\\begin{pmatrix}\n",
        "2 \\\\ 5\n",
        "\\end{pmatrix} \\otimes\n",
        "\\begin{pmatrix}\n",
        "3 \\\\ 1\n",
        "\\end{pmatrix} =\n",
        "\\begin{pmatrix}\n",
        "2 \\begin{pmatrix}\n",
        "3 \\\\ 1\n",
        "\\end{pmatrix} \\\\ 5 \\begin{pmatrix}\n",
        "3 \\\\ 1\n",
        "\\end{pmatrix}\n",
        "\\end{pmatrix} =\n",
        "\\begin{pmatrix}\n",
        "2 \\cdot 3 \\\\ 2 \\cdot 1 \\\\ 5 \\cdot 3 \\\\ 5 \\cdot 1\n",
        "\\end{pmatrix} =\n",
        "\\begin{pmatrix}\n",
        "6 \\\\ 2 \\\\ 15 \\\\ 5\n",
        "\\end{pmatrix}\n",
        "\\end{align}\n",
        "\n",
        "\n",
        "As another example consider the following Tensor product:\n",
        "\n",
        "$$\n",
        "    u \\otimes v =  \\myrvector{-2\\\\3} \\otimes \\myrvector{1 \\\\ 2 \\\\ -3} =\n",
        "   \\myrvector{ -2 \\cdot  \\myrvector{1 \\\\ 2 \\\\ -3} \\\\ 3 \\cdot  \\myrvector{1 \\\\ 2 \\\\ -3} } =\n",
        "   \\myrvector{ -2 \\\\ -4 \\\\ 6 \\\\ 3 \\\\ 6 \\\\ -9 }.\n",
        "$$\n",
        "\n",
        "Here, $ -2 $ in $ u $ is replaced with the vector $ (-2  v) $, and $ 3 $ in $ u $ is replaced with the vector $ 3 v $.\n",
        "\n",
        "Thus each entry of $ u $ is replaced by a 3-dimensional vector, and the dimension of the result vector is $ 6~(=2 \\cdot 3) $.\n",
        "\n",
        "Algorithmically, each element in $ u $ is replaced by the multiplication of this element with the vector $ v $.\n",
        "\n",
        "Let's find $ v \\otimes u $ in Python."
      ]
    },
    {
      "cell_type": "code",
      "execution_count": 2,
      "metadata": {
        "id": "f_M9m2uhNJjl"
      },
      "outputs": [
        {
          "name": "stdout",
          "output_type": "stream",
          "text": [
            "v= [1, 2, -3]\n",
            "u= [-2, 3]\n",
            "vu= [-2, 3, -4, 6, 6, -9]\n"
          ]
        }
      ],
      "source": [
        "# vector v\n",
        "v = [1,2,-3]\n",
        "# vector u\n",
        "u=[-2,3]\n",
        "\n",
        "vu = []\n",
        "\n",
        "for i in range(len(v)): # each element of v will be replaced\n",
        "    for j in range(len(u)): # the vector u will come here after multiplying with the entry there\n",
        "        vu.append( v[i] * u[j] )\n",
        "\n",
        "print(\"v=\",v)\n",
        "print(\"u=\",u)\n",
        "print(\"vu=\",vu)"
      ]
    },
    {
      "cell_type": "markdown",
      "metadata": {
        "id": "a_4jCvFebL_E"
      },
      "source": [
        "For an example using Python we will use the \"np.kron()\" function, which is the [Kronecker product](https://en.wikipedia.org/wiki/Kronecker_product),\n",
        "\n",
        "> \"In mathematics, the Kronecker product, sometimes denoted by ⊗, is an operation on two matrices of arbitrary size resulting in a block matrix. It is a generalization of the outer product (which is denoted by the same symbol) from vectors to matrices, and gives the matrix of the tensor product with respect to a standard choice of basis. The Kronecker product should not be confused with the usual matrix multiplication, which is an entirely different operation.\""
      ]
    },
    {
      "cell_type": "code",
      "execution_count": 3,
      "metadata": {
        "id": "V6VHDAIGbL_H",
        "outputId": "1f7be74b-744c-4950-cb07-25d0e7893b31",
        "trusted": false
      },
      "outputs": [
        {
          "data": {
            "text/plain": [
              "array([[ 6],\n",
              "       [ 2],\n",
              "       [15],\n",
              "       [ 5]])"
            ]
          },
          "execution_count": 3,
          "metadata": {},
          "output_type": "execute_result"
        }
      ],
      "source": [
        "# Define two ket-vectors\n",
        "\n",
        "A = np.array([[2],\n",
        "              [5]])\n",
        "\n",
        "B = np.array([[3],\n",
        "              [1]])\n",
        "\n",
        "# Take the Kronecker (tensor) product of the two column vectors\n",
        "np.kron(A,B)"
      ]
    },
    {
      "cell_type": "markdown",
      "metadata": {
        "id": "Y9iLjWBwbL_K"
      },
      "source": [
        "We can also define these two vectors as matrices which will allow us to compute Hermitian conjugates. The Kronecker product function 'np.kron()' will work all the same:"
      ]
    },
    {
      "cell_type": "code",
      "execution_count": 4,
      "metadata": {
        "id": "HtpBrCI8bL_M",
        "outputId": "157c8322-2edb-45ae-8ba2-ded73b038c87",
        "trusted": false
      },
      "outputs": [
        {
          "data": {
            "text/plain": [
              "matrix([[ 6],\n",
              "        [ 2],\n",
              "        [15],\n",
              "        [ 5]])"
            ]
          },
          "execution_count": 4,
          "metadata": {},
          "output_type": "execute_result"
        }
      ],
      "source": [
        "# Define the ket-vectors as 2x1 column matrices:\n",
        "ket_A = np.matrix([[2],\n",
        "                   [5]])\n",
        "\n",
        "ket_B = np.matrix([[3],\n",
        "                   [1]])\n",
        "\n",
        "# Compute their Kronecker product\n",
        "np.kron(ket_A, ket_B)"
      ]
    },
    {
      "cell_type": "markdown",
      "metadata": {
        "id": "dBE43-6rbL_N"
      },
      "source": [
        "This can also be done with complex vectors:"
      ]
    },
    {
      "cell_type": "code",
      "execution_count": 5,
      "metadata": {
        "id": "l-AbR49gbL_O",
        "outputId": "028fd38d-7b36-43e4-f59c-dac08e6d7aeb",
        "trusted": false
      },
      "outputs": [
        {
          "data": {
            "text/plain": [
              "matrix([[-6. +3.j],\n",
              "        [ 6. -8.j],\n",
              "        [-0. -9.j],\n",
              "        [ 6.+12.j]])"
            ]
          },
          "execution_count": 5,
          "metadata": {},
          "output_type": "execute_result"
        }
      ],
      "source": [
        "# Define the ket-vectors as 2x1 column matrices:\n",
        "ket_psi = np.matrix([[2-1j],\n",
        "                     [3j]])\n",
        "\n",
        "ket_phi = np.matrix([[-3],\n",
        "                     [4-2j]])\n",
        "\n",
        "# Compute their Kronecker product\n",
        "np.kron(ket_psi, ket_phi)"
      ]
    },
    {
      "cell_type": "markdown",
      "metadata": {
        "id": "8KfDc2UubL_P"
      },
      "source": [
        "Here is a more complicated example with two vectors of different dimensions:\n",
        "\n",
        "\\begin{align}\n",
        "\\begin{pmatrix}\n",
        "a_1 \\\\ a_2\n",
        "\\end{pmatrix} \\otimes\n",
        "\\begin{pmatrix}\n",
        "b_1 \\\\ b_2 \\\\ b_3\n",
        "\\end{pmatrix} =\n",
        "\\begin{pmatrix}\n",
        "a_1 \\begin{pmatrix}\n",
        "b_1 \\\\ b_2 \\\\ b_3\n",
        "\\end{pmatrix} \\\\\n",
        "a_2 \\begin{pmatrix}\n",
        "b_1 \\\\ b_2 \\\\ b_3\n",
        "\\end{pmatrix}\n",
        "\\end{pmatrix} =\n",
        "\\begin{pmatrix}\n",
        "a_1b_1 \\\\ a_1b_2 \\\\ a_1b_3 \\\\ a_2b_1 \\\\ a_2b_2 \\\\ a_2b_3\n",
        "\\end{pmatrix}\n",
        "\\end{align}"
      ]
    },
    {
      "cell_type": "markdown",
      "metadata": {
        "id": "o49DfBoJbL_Q"
      },
      "source": [
        "Here is a corresponding numerical example:\n",
        "\n",
        "\\begin{align}\n",
        "\\begin{pmatrix}\n",
        "1 \\\\ 4\n",
        "\\end{pmatrix} \\otimes\n",
        "\\begin{pmatrix}\n",
        "5 \\\\ 2 \\\\ 4\n",
        "\\end{pmatrix} =\n",
        "\\begin{pmatrix}\n",
        "1 \\begin{pmatrix}\n",
        "5 \\\\ 2 \\\\ 4\n",
        "\\end{pmatrix} \\\\\n",
        "4 \\begin{pmatrix}\n",
        "5 \\\\ 2 \\\\ 4\n",
        "\\end{pmatrix}\n",
        "\\end{pmatrix} =\n",
        "\\begin{pmatrix}\n",
        "5 \\\\ 2 \\\\ 4 \\\\ 20 \\\\ 8 \\\\ 16\n",
        "\\end{pmatrix}\n",
        "\\end{align}"
      ]
    },
    {
      "cell_type": "markdown",
      "metadata": {
        "id": "6Sxg7CHrbL_R"
      },
      "source": [
        "Here is the code for computing this tensor product:"
      ]
    },
    {
      "cell_type": "code",
      "execution_count": 6,
      "metadata": {
        "id": "vJ0FMqsWbL_R",
        "outputId": "2066ce46-7e83-4ed3-e819-3a250b27fc81",
        "trusted": false
      },
      "outputs": [
        {
          "data": {
            "text/plain": [
              "matrix([[ 5],\n",
              "        [ 2],\n",
              "        [ 4],\n",
              "        [20],\n",
              "        [ 8],\n",
              "        [16]])"
            ]
          },
          "execution_count": 6,
          "metadata": {},
          "output_type": "execute_result"
        }
      ],
      "source": [
        "ket_X = np.matrix([[1],\n",
        "                   [4]])\n",
        "\n",
        "ket_Y = np.matrix([[5],\n",
        "                   [2],\n",
        "                   [4]])\n",
        "\n",
        "np.kron(ket_X, ket_Y)"
      ]
    },
    {
      "cell_type": "markdown",
      "metadata": {
        "id": "UALDdj__NJjm"
      },
      "source": [
        "<h3> Task 1 </h3>\n",
        "\n",
        "Find $ u \\otimes v $ and $ v \\otimes u $ for the given vectors $ u = \\myrvector{-2 \\\\ -1 \\\\ 0 \\\\ 1} $ and $ v = \\myrvector{ 1 \\\\ 2 \\\\ 3 } $."
      ]
    },
    {
      "cell_type": "code",
      "execution_count": 7,
      "metadata": {
        "id": "ujLGgowfNJjn"
      },
      "outputs": [
        {
          "data": {
            "text/plain": [
              "matrix([[-2],\n",
              "        [-4],\n",
              "        [-6],\n",
              "        [-1],\n",
              "        [-2],\n",
              "        [-3],\n",
              "        [ 0],\n",
              "        [ 0],\n",
              "        [ 0],\n",
              "        [ 1],\n",
              "        [ 2],\n",
              "        [ 3]])"
            ]
          },
          "execution_count": 7,
          "metadata": {},
          "output_type": "execute_result"
        }
      ],
      "source": [
        "ket_X = np.matrix([[-2],\n",
        "                   [-1],\n",
        "                   [0],\n",
        "                   [1]])\n",
        "\n",
        "ket_Y = np.matrix([[1],\n",
        "                   [2],\n",
        "                   [3]])\n",
        "\n",
        "np.kron(ket_X, ket_Y)"
      ]
    },
    {
      "cell_type": "markdown",
      "metadata": {
        "id": "1c3Zq-KrNJjo"
      },
      "source": [
        "<h3> Note:</h3>\n",
        "\n",
        "Tensor products are useful when we have a system composed by two (or more) sub-systems.\n",
        "\n",
        "Any new entry after tensoring represents a pair of entries, each of which comes from one of the sub-sytems.\n",
        "\n",
        "We will see the usage of tensor products in the main tutorial."
      ]
    },
    {
      "cell_type": "markdown",
      "metadata": {
        "id": "xDdAl5TaNJjo"
      },
      "source": [
        "<h3> Tensor product of two matrices </h3>\n",
        "\n",
        "The definition is the same.\n",
        "\n",
        "Let's find $ M \\otimes N $ and $ N \\otimes M $ for the given matrices\n",
        "$\n",
        "    M = \\mymatrix{rrr}{-1 & 0 & 1 \\\\ -2 & -1 & 2 \\\\ 1 & 2 & -2} ~~\\mbox{and}~~\n",
        "    N = \\mymatrix{rrr}{0 & 2 & 1 \\\\ 3 & -1 & -2 \\\\ -1 & 1 & 0}.\n",
        "$\n",
        "\n",
        "$ M \\otimes N $: Each element of $ M $ will be replaced with the whole matrix $ N $ after multiplying with this element.\n",
        "\n",
        "$$\n",
        "    M \\otimes N =\n",
        "    \\mymatrix{rrr}{-1 & 0 & 1 \\\\ -2 & -1 & 2 \\\\ 1 & 2 & -2} \\otimes \\mymatrix{rrr}{0 & 2 & 1 \\\\ 3 & -1 & -2 \\\\ -1 & 1 & 0}\n",
        "    =\n",
        "    \\mymatrix{rrr}{ -1 \\mymatrix{rrr}{0 & 2 & 1 \\\\ 3 & -1 & -2 \\\\ -1 & 1 & 0} & 0 \\mymatrix{rrr}{0 & 2 & 1 \\\\ 3 & -1 & -2 \\\\ -1 & 1 & 0} & 1 \\mymatrix{rrr}{0 & 2 & 1 \\\\ 3 & -1 & -2 \\\\ -1 & 1 & 0} \\\\\n",
        "    -2 \\mymatrix{rrr}{0 & 2 & 1 \\\\ 3 & -1 & -2 \\\\ -1 & 1 & 0} & -1 \\mymatrix{rrr}{0 & 2 & 1 \\\\ 3 & -1 & -2 \\\\ -1 & 1 & 0} & 2 \\mymatrix{rrr}{0 & 2 & 1 \\\\ 3 & -1 & -2 \\\\ -1 & 1 & 0} \\\\\n",
        "    1 \\mymatrix{rrr}{0 & 2 & 1 \\\\ 3 & -1 & -2 \\\\ -1 & 1 & 0} & 2 \\mymatrix{rrr}{0 & 2 & 1 \\\\ 3 & -1 & -2 \\\\ -1 & 1 & 0} & -2 \\mymatrix{rrr}{0 & 2 & 1 \\\\ 3 & -1 & -2 \\\\ -1 & 1 & 0}}\n",
        "$$\n",
        "\n",
        "Calculating by hand looks a boring task because of many repetitions.\n",
        "\n",
        "We do this once by hand (in mind), and then check the result by Python."
      ]
    },
    {
      "cell_type": "markdown",
      "metadata": {
        "id": "G3waX83SNJjp"
      },
      "source": [
        "$$\n",
        "    M \\otimes N = \\mymatrix{rrrrrrrrr}{\n",
        "        0 & -2 & -1 & 0 & 0 & 0 & 0 & 2 & 1 \\\\\n",
        "        -3 & 1 & 2 & 0 & 0 & 0 & 3 & -1 & -2 \\\\\n",
        "        1 & -1 & 0 & 0 & 0 & 0 & -1 & 1 & 0 \\\\\n",
        "        0 & -4 & -2 & 0 & -2 & -1 & 0 & 4 & 2 \\\\\n",
        "        -6 & 2 & 4 & -3 & 1 & 2 & 6 & -2 & -4 \\\\\n",
        "        2 & -2 & 0 & 1 & -1 & 0 & -2 & 2 & 0 \\\\\n",
        "        0 & 2 & 1 & 0 & 4 & 2 & 0 &  -4 & -2 \\\\\n",
        "        3 & -1 & -2 & 6 & -2 & -4 & -6 & 2 & 4 \\\\\n",
        "        -1 & 1 & 0 & -2 & 2 & 0 & 2 & -2 & 0\n",
        "    }\n",
        "$$\n",
        "\n",
        "Now, we find the same matrix in Python.\n",
        "\n",
        "This time we use four nested for-loops."
      ]
    },
    {
      "cell_type": "code",
      "execution_count": 8,
      "metadata": {
        "id": "XLWZCN8_NJjp"
      },
      "outputs": [
        {
          "name": "stdout",
          "output_type": "stream",
          "text": [
            "M-tensor-N is\n",
            "[0, -2, -1, 0, 0, 0, 0, 2, 1]\n",
            "[-3, 1, 2, 0, 0, 0, 3, -1, -2]\n",
            "[1, -1, 0, 0, 0, 0, -1, 1, 0]\n",
            "[0, -4, -2, 0, -2, -1, 0, 4, 2]\n",
            "[-6, 2, 4, -3, 1, 2, 6, -2, -4]\n",
            "[2, -2, 0, 1, -1, 0, -2, 2, 0]\n",
            "[0, 2, 1, 0, 4, 2, 0, -4, -2]\n",
            "[3, -1, -2, 6, -2, -4, -6, 2, 4]\n",
            "[-1, 1, 0, -2, 2, 0, 2, -2, 0]\n"
          ]
        }
      ],
      "source": [
        "# matrix M\n",
        "M = [\n",
        "    [-1,0,1],\n",
        "    [-2,-1,2],\n",
        "    [1,2,-2]\n",
        "]\n",
        "\n",
        "# matrix N\n",
        "N = [\n",
        "    [0,2,1],\n",
        "    [3,-1,-2],\n",
        "    [-1,1,0]\n",
        "]\n",
        "\n",
        "# MN will be a (9x9)-dimensional matrix\n",
        "# prepare it as a zero matrix\n",
        "# this helps us to easily fill it\n",
        "MN=[]\n",
        "for i in range(9):\n",
        "    MN.append([])\n",
        "    for j in range(9):\n",
        "        MN[i].append(0)\n",
        "\n",
        "for i in range(3): # row of M\n",
        "    for j in range(3): # column of M\n",
        "        for k in range(3): # row of N\n",
        "            for l in range(3): # column of N\n",
        "                MN[i*3+k][3*j+l] = M[i][j] * N[k][l]\n",
        "\n",
        "print(\"M-tensor-N is\")\n",
        "for i in range(9):\n",
        "    print(MN[i])"
      ]
    },
    {
      "cell_type": "markdown",
      "metadata": {
        "id": "XirfdczTNJjp"
      },
      "source": [
        "We find $ N \\otimes M $ in Python.\n",
        "\n",
        "We use the same code by interchanging $ N $ and $ M $."
      ]
    },
    {
      "cell_type": "code",
      "execution_count": 11,
      "metadata": {
        "id": "lTAr4k_5NJjq"
      },
      "outputs": [
        {
          "name": "stdout",
          "output_type": "stream",
          "text": [
            "N-tensor-M is\n",
            "[0, 0, 0, -2, 0, 2, -1, 0, 1]\n",
            "[0, 0, 0, -4, -2, 4, -2, -1, 2]\n",
            "[0, 0, 0, 2, 4, -4, 1, 2, -2]\n",
            "[-3, 0, 3, 1, 0, -1, 2, 0, -2]\n",
            "[-6, -3, 6, 2, 1, -2, 4, 2, -4]\n",
            "[3, 6, -6, -1, -2, 2, -2, -4, 4]\n",
            "[1, 0, -1, -1, 0, 1, 0, 0, 0]\n",
            "[2, 1, -2, -2, -1, 2, 0, 0, 0]\n",
            "[-1, -2, 2, 1, 2, -2, 0, 0, 0]\n"
          ]
        }
      ],
      "source": [
        "\n",
        "# matrices M and N were defined above\n",
        "\n",
        "# matrix NM will be prepared as a (9x9)-dimensional zero matrix\n",
        "NM=[]\n",
        "for i in range(9):\n",
        "    NM.append([])\n",
        "    for j in range(9):\n",
        "        NM[i].append(0)\n",
        "\n",
        "for i in range(3): # row of N\n",
        "    for j in range(3): # column of N\n",
        "        for k in range(3): # row of M\n",
        "            for l in range(3): # column of M\n",
        "                NM[i*3+k][3*j+l] = N[i][j] * M[k][l]\n",
        "\n",
        "print(\"N-tensor-M is\")\n",
        "for i in range(9):\n",
        "    print(NM[i])"
      ]
    },
    {
      "cell_type": "markdown",
      "metadata": {
        "id": "5DyS70CyNJjq"
      },
      "source": [
        "<h3> Task 2 </h3>\n",
        "\n",
        "Find $ A \\otimes B $ for the given matrices\n",
        "$\n",
        "    A = \\mymatrix{rrr}{-1 & 0 & 1 \\\\ -2 & -1 & 2} ~~\\mbox{and}~~\n",
        "    B = \\mymatrix{rr}{0 & 2 \\\\ 3 & -1 \\\\ -1 & 1 }.\n",
        "$"
      ]
    },
    {
      "cell_type": "code",
      "execution_count": 30,
      "metadata": {
        "id": "Fko3csyPNJjq"
      },
      "outputs": [
        {
          "name": "stdout",
          "output_type": "stream",
          "text": [
            "A-tensor-B is\n",
            "[0, -2, 0, 0, 0, 2]\n",
            "[-3, 1, 0, 0, 3, -1]\n",
            "[1, -1, 0, 0, -1, 1]\n",
            "[0, -4, 0, -2, 0, 4]\n",
            "[-6, 2, -3, 1, 6, -2]\n",
            "[2, -2, 1, -1, -2, 2]\n"
          ]
        }
      ],
      "source": [
        "# matrix M\n",
        "A = [\n",
        "    [-1,0,1],\n",
        "    [-2,-1,2],\n",
        "]\n",
        "\n",
        "# matrix N\n",
        "B = [\n",
        "    [0,2],\n",
        "    [3,-1],\n",
        "    [-1,1]\n",
        "]\n",
        "\n",
        "AB = []\n",
        "for i in range(6):\n",
        "    AB.append([])\n",
        "    for j in range(6):\n",
        "        AB[i].append(0)\n",
        "\n",
        "for i in range(2): # row of A\n",
        "    for j in range(3): # column of A\n",
        "        for k in range(3): # row of B\n",
        "            for l in range(2): # column of B\n",
        "                x = i*3+k\n",
        "                y = 2*j+l\n",
        "                AB[x][y] = A[i][j] * B[k][l]\n",
        "\n",
        "\n",
        "print(\"A-tensor-B is\")\n",
        "for i in range(6):\n",
        "    print(AB[i])"
      ]
    },
    {
      "cell_type": "markdown",
      "metadata": {
        "id": "5NTKkHEfNJjr"
      },
      "source": [
        "<h3> Task 3 </h3>\n",
        "\n",
        "Find $ B \\otimes A $ for the given matrices\n",
        "$\n",
        "    A = \\mymatrix{rrr}{-1 & 0 & 1 \\\\ -2 & -1 & 2} ~~\\mbox{and}~~\n",
        "    B = \\mymatrix{rr}{0 & 2 \\\\ 3 & -1 \\\\ -1 & 1 }.\n",
        "$\n",
        "\n",
        "You can use the code in your (our) solution for Task 2.\n",
        "\n",
        "But please be careful with the indices and range values, and how they are interchanged (!)"
      ]
    },
    {
      "cell_type": "code",
      "execution_count": 1,
      "metadata": {
        "id": "yG01vgkoNJjr"
      },
      "outputs": [
        {
          "name": "stdout",
          "output_type": "stream",
          "text": [
            "B-tensor-A is\n",
            "[0, 0, 0, -2, 0, 2]\n",
            "[0, 0, 0, -4, -2, 4]\n",
            "[-3, 0, 3, 1, 0, -1]\n",
            "[-6, -3, 6, 2, 1, -2]\n",
            "[1, 0, -1, -1, 0, 1]\n",
            "[2, 1, -2, -2, -1, 2]\n"
          ]
        }
      ],
      "source": [
        "# matrix M\n",
        "A = [\n",
        "    [-1,0,1],\n",
        "    [-2,-1,2],\n",
        "]\n",
        "\n",
        "# matrix N\n",
        "B = [\n",
        "    [0,2],\n",
        "    [3,-1],\n",
        "    [-1,1]\n",
        "]\n",
        "\n",
        "BA = []\n",
        "for i in range(6):\n",
        "    BA.append([])\n",
        "    for j in range(6):\n",
        "        BA[i].append(0)\n",
        "\n",
        "for i in range(3): # row of B\n",
        "    for j in range(2): # column of B\n",
        "        for k in range(2): # row of A\n",
        "            for l in range(3): # column of A\n",
        "                x = i*2+k\n",
        "                y = 3*j+l\n",
        "                BA[x][y] = B[i][j] * A[k][l]\n",
        "\n",
        "\n",
        "print(\"B-tensor-A is\")\n",
        "for i in range(6):\n",
        "    print(BA[i])"
      ]
    },
    {
      "cell_type": "markdown",
      "metadata": {
        "id": "yusosxxwbL_S"
      },
      "source": [
        "## Exercises"
      ]
    },
    {
      "cell_type": "markdown",
      "metadata": {
        "id": "v-4l2GGzbL_S"
      },
      "source": [
        "1. Using the following rule,\n",
        "\\begin{align}\n",
        "\\begin{pmatrix}\n",
        "a_1 \\\\ a_2 \\\\ a_3\n",
        "\\end{pmatrix} \\otimes\n",
        "\\begin{pmatrix}\n",
        "b_1 \\\\ b_2\n",
        "\\end{pmatrix} =\n",
        "\\begin{pmatrix}\n",
        "a_1 \\begin{pmatrix}\n",
        "b_1 \\\\ b_2\n",
        "\\end{pmatrix} \\\\ a_2\\begin{pmatrix}\n",
        "b_1 \\\\ b_2\n",
        "\\end{pmatrix} \\\\ a_3\\begin{pmatrix}\n",
        "b_1 \\\\ b_2\n",
        "\\end{pmatrix}\n",
        "\\end{pmatrix} =\n",
        "\\begin{pmatrix}\n",
        "a_1b_1 \\\\ a_1b_2 \\\\ a_2b_1 \\\\ a_2b_2 \\\\ a_3b_1 \\\\ a_3b_2\n",
        "\\end{pmatrix}\n",
        "\\end{align}\n",
        "\n",
        "compute the following tensor/Kroneckar product by hand:\n",
        "\n",
        "\\begin{align}\n",
        "\\begin{pmatrix}\n",
        "2 \\\\ 7 \\\\ 3\n",
        "\\end{pmatrix} \\otimes\n",
        "\\begin{pmatrix}\n",
        "5 \\\\ 9\n",
        "\\end{pmatrix}\n",
        "\\end{align}"
      ]
    },
    {
      "cell_type": "markdown",
      "metadata": {},
      "source": [
        "[\n",
        "  2 * 5 <br>\n",
        "  2 * 9 <br>\n",
        "  7 * 5 <br>\n",
        "  7 * 9 <br>\n",
        "  3 * 5 <br>\n",
        "  3 * 9 \n",
        "] \n",
        "\n",
        "=\n",
        "\n",
        "[\n",
        "  10 <br>\n",
        "  18 <br>\n",
        "  35 <br>\n",
        "  63 <br>\n",
        "  15 <br>\n",
        "  27 <br>\n",
        "]"
      ]
    },
    {
      "cell_type": "markdown",
      "metadata": {
        "id": "0OlLhiqPbL_T"
      },
      "source": [
        "2. Write Python code to compute the above computation using the 'np.kron()' function. Remember to define two column (ket) vectors as matrices first.  "
      ]
    },
    {
      "cell_type": "code",
      "execution_count": 34,
      "metadata": {},
      "outputs": [
        {
          "data": {
            "text/plain": [
              "matrix([[10],\n",
              "        [18],\n",
              "        [35],\n",
              "        [63],\n",
              "        [15],\n",
              "        [27]])"
            ]
          },
          "execution_count": 34,
          "metadata": {},
          "output_type": "execute_result"
        }
      ],
      "source": [
        "ket_X = np.matrix([[2],\n",
        "                   [7],\n",
        "                   [3]])\n",
        "\n",
        "ket_Y = np.matrix([[5],\n",
        "                   [9]])\n",
        "\n",
        "np.kron(ket_X, ket_Y)"
      ]
    },
    {
      "cell_type": "markdown",
      "metadata": {
        "id": "GWtmXa61bL_U"
      },
      "source": [
        "3. Derive a general rule for the following tensor product by performing the tensor product inside the parenthesis first:\n",
        "\n",
        "\\begin{align}\n",
        "\\left( \\begin{pmatrix}\n",
        "a_1 \\\\ a_2\n",
        "\\end{pmatrix} \\otimes\n",
        "\\begin{pmatrix}\n",
        "b_1 \\\\ b_2\n",
        "\\end{pmatrix}\\right) \\otimes\n",
        "\\begin{pmatrix}\n",
        "c_1 \\\\ c_2\n",
        "\\end{pmatrix}\n",
        "\\end{align}"
      ]
    },
    {
      "cell_type": "markdown",
      "metadata": {},
      "source": [
        "[\n",
        "  a1 * b1 <br>\n",
        "  a1 * b2 <br>\n",
        "  a2 * b1 <br>\n",
        "  a2 * b2 <br>\n",
        "] TENSOR C\n",
        "\n",
        "= \n",
        "\n",
        "[\n",
        "  a1 * b1 * c1 <br>\n",
        "  a1 * b1 * c2 <br>\n",
        "  a1 * b2 * c1 <br>\n",
        "  a1 * b2 * c2 <br>\n",
        "  a2 * b1 * c1 <br>\n",
        "  a2 * b1 * c2 <br>\n",
        "  a2 * b1 * c1 <br>\n",
        "  a2 * b2 * c2 \n",
        "]"
      ]
    },
    {
      "cell_type": "markdown",
      "metadata": {
        "id": "rviHIsJUbL_V"
      },
      "source": [
        "4. Now derive a general rule for the following tensor product by performing the tensor product in the parenthesis first:\n",
        "\n",
        "\\begin{align}\n",
        "\\begin{pmatrix}\n",
        "a_1 \\\\ a_2\n",
        "\\end{pmatrix} \\otimes\n",
        "\\left( \\begin{pmatrix}\n",
        "b_1 \\\\ b_2\n",
        "\\end{pmatrix} \\otimes\n",
        "\\begin{pmatrix}\n",
        "c_1 \\\\ c_2\n",
        "\\end{pmatrix}\\right)\n",
        "\\end{align}\n",
        "\n",
        "Convince yourself that your results from the previous two computations are in fact equal."
      ]
    },
    {
      "cell_type": "markdown",
      "metadata": {},
      "source": [
        "A TENSOR [\n",
        "  b1 * c1 <br>\n",
        "  b1 * c2 <br>\n",
        "  b2 * c1 <br>\n",
        "  b2 * c2\n",
        "]\n",
        "\n",
        "= \n",
        "\n",
        "[\n",
        "  a1 * b1 * c1 <br>\n",
        "  a1 * b1 * c2 <br>\n",
        "  a1 * b2 * c1 <br>\n",
        "  a1 * b2 * c2 <br>\n",
        "  a2 * b1 * c1 <br>\n",
        "  a2 * b1 * c2 <br>\n",
        "  a2 * b1 * c1 <br>\n",
        "  a2 * b2 * c2\n",
        "]"
      ]
    },
    {
      "cell_type": "markdown",
      "metadata": {
        "id": "vFLMWDj-v1qU"
      },
      "source": [
        "5. Write Python code to compute $|0\\rangle \\otimes |0 \\rangle $.\n",
        "6. Write Python code to compute $|0\\rangle \\otimes |1 \\rangle $.\n",
        "7. Write Python code to compute $|1\\rangle \\otimes |0 \\rangle $.\n",
        "8. Write Python code to compute $|1\\rangle \\otimes |1 \\rangle $."
      ]
    },
    {
      "cell_type": "code",
      "execution_count": 36,
      "metadata": {},
      "outputs": [
        {
          "name": "stdout",
          "output_type": "stream",
          "text": [
            "Result 5 = [[1]\n",
            " [0]\n",
            " [0]\n",
            " [0]]\n",
            "Result 6 = [[0]\n",
            " [1]\n",
            " [0]\n",
            " [0]]\n",
            "Result 7 = [[0]\n",
            " [0]\n",
            " [1]\n",
            " [0]]\n",
            "Result 8 = [[0]\n",
            " [0]\n",
            " [0]\n",
            " [1]]\n"
          ]
        }
      ],
      "source": [
        "ket_0 = np.matrix([[1],\n",
        "                   [0]])\n",
        "\n",
        "ket_1 = np.matrix([[0],\n",
        "                   [1]])\n",
        "\n",
        "result_5 = np.kron(ket_0, ket_0)\n",
        "result_6 = np.kron(ket_0, ket_1)\n",
        "result_7 = np.kron(ket_1, ket_0)\n",
        "result_8 = np.kron(ket_1, ket_1)\n",
        "\n",
        "print(f\"Result 5 = {result_5}\")\n",
        "print(f\"Result 6 = {result_6}\")\n",
        "print(f\"Result 7 = {result_7}\")\n",
        "print(f\"Result 8 = {result_8}\")"
      ]
    },
    {
      "cell_type": "code",
      "execution_count": null,
      "metadata": {},
      "outputs": [],
      "source": []
    }
  ],
  "metadata": {
    "colab": {
      "provenance": []
    },
    "kernelspec": {
      "display_name": "Python 3",
      "name": "python3"
    },
    "language_info": {
      "codemirror_mode": {
        "name": "ipython",
        "version": 3
      },
      "file_extension": ".py",
      "mimetype": "text/x-python",
      "name": "python",
      "nbconvert_exporter": "python",
      "pygments_lexer": "ipython3",
      "version": "3.9.6"
    }
  },
  "nbformat": 4,
  "nbformat_minor": 0
}
