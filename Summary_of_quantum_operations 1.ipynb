{
  "cells": [
    {
      "cell_type": "markdown",
      "metadata": {
        "id": "wY-2mIxKaw7O"
      },
      "source": [
        "# Summary of Quantum Operations"
      ]
    },
    {
      "cell_type": "markdown",
      "metadata": {
        "id": "fvUsssY8aw7Q"
      },
      "source": [
        " In this summary you will see the different operations that are available in Qiskit Terra. These are:\n",
        "\n",
        "- Single-qubit quantum gates\n",
        "- Multi-qubit quantum gates\n",
        "- Measurements\n",
        "- Reset\n",
        "- Conditionals\n",
        "- State initialization\n",
        "\n",
        "We will also show you how to use the three different simulators:\n",
        "\n",
        "- unitary_simulator\n",
        "- qasm_simulator\n",
        "- statevector_simulator"
      ]
    },
    {
      "cell_type": "code",
      "execution_count": 1,
      "metadata": {
        "ExecuteTime": {
          "end_time": "2021-07-31T05:10:06.399483Z",
          "start_time": "2021-07-31T05:10:06.113598Z"
        },
        "id": "f8EK252Jaw7R",
        "colab": {
          "base_uri": "https://localhost:8080/"
        },
        "outputId": "d7c9adba-834b-4489-db88-7871970c2cd6"
      },
      "outputs": [
        {
          "output_type": "stream",
          "name": "stdout",
          "text": [
            "Collecting qiskit\n",
            "  Downloading qiskit-1.3.0-cp39-abi3-manylinux_2_17_x86_64.manylinux2014_x86_64.whl.metadata (12 kB)\n",
            "Collecting rustworkx>=0.15.0 (from qiskit)\n",
            "  Downloading rustworkx-0.15.1-cp38-abi3-manylinux_2_17_x86_64.manylinux2014_x86_64.whl.metadata (9.9 kB)\n",
            "Requirement already satisfied: numpy<3,>=1.17 in /usr/local/lib/python3.10/dist-packages (from qiskit) (1.26.4)\n",
            "Requirement already satisfied: scipy>=1.5 in /usr/local/lib/python3.10/dist-packages (from qiskit) (1.13.1)\n",
            "Requirement already satisfied: sympy>=1.3 in /usr/local/lib/python3.10/dist-packages (from qiskit) (1.13.1)\n",
            "Collecting dill>=0.3 (from qiskit)\n",
            "  Downloading dill-0.3.9-py3-none-any.whl.metadata (10 kB)\n",
            "Requirement already satisfied: python-dateutil>=2.8.0 in /usr/local/lib/python3.10/dist-packages (from qiskit) (2.8.2)\n",
            "Collecting stevedore>=3.0.0 (from qiskit)\n",
            "  Downloading stevedore-5.4.0-py3-none-any.whl.metadata (2.3 kB)\n",
            "Requirement already satisfied: typing-extensions in /usr/local/lib/python3.10/dist-packages (from qiskit) (4.12.2)\n",
            "Collecting symengine<0.14,>=0.11 (from qiskit)\n",
            "  Downloading symengine-0.13.0-cp310-cp310-manylinux_2_17_x86_64.manylinux2014_x86_64.whl.metadata (1.2 kB)\n",
            "Requirement already satisfied: six>=1.5 in /usr/local/lib/python3.10/dist-packages (from python-dateutil>=2.8.0->qiskit) (1.16.0)\n",
            "Collecting pbr>=2.0.0 (from stevedore>=3.0.0->qiskit)\n",
            "  Downloading pbr-6.1.0-py2.py3-none-any.whl.metadata (3.4 kB)\n",
            "Requirement already satisfied: mpmath<1.4,>=1.1.0 in /usr/local/lib/python3.10/dist-packages (from sympy>=1.3->qiskit) (1.3.0)\n",
            "Downloading qiskit-1.3.0-cp39-abi3-manylinux_2_17_x86_64.manylinux2014_x86_64.whl (6.7 MB)\n",
            "\u001b[2K   \u001b[90m━━━━━━━━━━━━━━━━━━━━━━━━━━━━━━━━━━━━━━━━\u001b[0m \u001b[32m6.7/6.7 MB\u001b[0m \u001b[31m50.2 MB/s\u001b[0m eta \u001b[36m0:00:00\u001b[0m\n",
            "\u001b[?25hDownloading dill-0.3.9-py3-none-any.whl (119 kB)\n",
            "\u001b[2K   \u001b[90m━━━━━━━━━━━━━━━━━━━━━━━━━━━━━━━━━━━━━━━━\u001b[0m \u001b[32m119.4/119.4 kB\u001b[0m \u001b[31m9.3 MB/s\u001b[0m eta \u001b[36m0:00:00\u001b[0m\n",
            "\u001b[?25hDownloading rustworkx-0.15.1-cp38-abi3-manylinux_2_17_x86_64.manylinux2014_x86_64.whl (2.0 MB)\n",
            "\u001b[2K   \u001b[90m━━━━━━━━━━━━━━━━━━━━━━━━━━━━━━━━━━━━━━━━\u001b[0m \u001b[32m2.0/2.0 MB\u001b[0m \u001b[31m61.6 MB/s\u001b[0m eta \u001b[36m0:00:00\u001b[0m\n",
            "\u001b[?25hDownloading stevedore-5.4.0-py3-none-any.whl (49 kB)\n",
            "\u001b[2K   \u001b[90m━━━━━━━━━━━━━━━━━━━━━━━━━━━━━━━━━━━━━━━━\u001b[0m \u001b[32m49.5/49.5 kB\u001b[0m \u001b[31m3.1 MB/s\u001b[0m eta \u001b[36m0:00:00\u001b[0m\n",
            "\u001b[?25hDownloading symengine-0.13.0-cp310-cp310-manylinux_2_17_x86_64.manylinux2014_x86_64.whl (49.7 MB)\n",
            "\u001b[2K   \u001b[90m━━━━━━━━━━━━━━━━━━━━━━━━━━━━━━━━━━━━━━━━\u001b[0m \u001b[32m49.7/49.7 MB\u001b[0m \u001b[31m15.6 MB/s\u001b[0m eta \u001b[36m0:00:00\u001b[0m\n",
            "\u001b[?25hDownloading pbr-6.1.0-py2.py3-none-any.whl (108 kB)\n",
            "\u001b[2K   \u001b[90m━━━━━━━━━━━━━━━━━━━━━━━━━━━━━━━━━━━━━━━━\u001b[0m \u001b[32m108.5/108.5 kB\u001b[0m \u001b[31m7.3 MB/s\u001b[0m eta \u001b[36m0:00:00\u001b[0m\n",
            "\u001b[?25hInstalling collected packages: symengine, rustworkx, pbr, dill, stevedore, qiskit\n",
            "Successfully installed dill-0.3.9 pbr-6.1.0 qiskit-1.3.0 rustworkx-0.15.1 stevedore-5.4.0 symengine-0.13.0\n",
            "Collecting qiskit-aer\n",
            "  Downloading qiskit_aer-0.15.1-cp310-cp310-manylinux_2_17_x86_64.manylinux2014_x86_64.whl.metadata (8.0 kB)\n",
            "Requirement already satisfied: qiskit>=1.1.0 in /usr/local/lib/python3.10/dist-packages (from qiskit-aer) (1.3.0)\n",
            "Requirement already satisfied: numpy>=1.16.3 in /usr/local/lib/python3.10/dist-packages (from qiskit-aer) (1.26.4)\n",
            "Requirement already satisfied: scipy>=1.0 in /usr/local/lib/python3.10/dist-packages (from qiskit-aer) (1.13.1)\n",
            "Requirement already satisfied: psutil>=5 in /usr/local/lib/python3.10/dist-packages (from qiskit-aer) (5.9.5)\n",
            "Requirement already satisfied: rustworkx>=0.15.0 in /usr/local/lib/python3.10/dist-packages (from qiskit>=1.1.0->qiskit-aer) (0.15.1)\n",
            "Requirement already satisfied: sympy>=1.3 in /usr/local/lib/python3.10/dist-packages (from qiskit>=1.1.0->qiskit-aer) (1.13.1)\n",
            "Requirement already satisfied: dill>=0.3 in /usr/local/lib/python3.10/dist-packages (from qiskit>=1.1.0->qiskit-aer) (0.3.9)\n",
            "Requirement already satisfied: python-dateutil>=2.8.0 in /usr/local/lib/python3.10/dist-packages (from qiskit>=1.1.0->qiskit-aer) (2.8.2)\n",
            "Requirement already satisfied: stevedore>=3.0.0 in /usr/local/lib/python3.10/dist-packages (from qiskit>=1.1.0->qiskit-aer) (5.4.0)\n",
            "Requirement already satisfied: typing-extensions in /usr/local/lib/python3.10/dist-packages (from qiskit>=1.1.0->qiskit-aer) (4.12.2)\n",
            "Requirement already satisfied: symengine<0.14,>=0.11 in /usr/local/lib/python3.10/dist-packages (from qiskit>=1.1.0->qiskit-aer) (0.13.0)\n",
            "Requirement already satisfied: six>=1.5 in /usr/local/lib/python3.10/dist-packages (from python-dateutil>=2.8.0->qiskit>=1.1.0->qiskit-aer) (1.16.0)\n",
            "Requirement already satisfied: pbr>=2.0.0 in /usr/local/lib/python3.10/dist-packages (from stevedore>=3.0.0->qiskit>=1.1.0->qiskit-aer) (6.1.0)\n",
            "Requirement already satisfied: mpmath<1.4,>=1.1.0 in /usr/local/lib/python3.10/dist-packages (from sympy>=1.3->qiskit>=1.1.0->qiskit-aer) (1.3.0)\n",
            "Downloading qiskit_aer-0.15.1-cp310-cp310-manylinux_2_17_x86_64.manylinux2014_x86_64.whl (12.3 MB)\n",
            "\u001b[2K   \u001b[90m━━━━━━━━━━━━━━━━━━━━━━━━━━━━━━━━━━━━━━━━\u001b[0m \u001b[32m12.3/12.3 MB\u001b[0m \u001b[31m85.8 MB/s\u001b[0m eta \u001b[36m0:00:00\u001b[0m\n",
            "\u001b[?25hInstalling collected packages: qiskit-aer\n",
            "Successfully installed qiskit-aer-0.15.1\n"
          ]
        }
      ],
      "source": [
        "# Useful additional packages\n",
        "!pip install qiskit\n",
        "!pip install qiskit-aer\n",
        "import matplotlib.pyplot as plt\n",
        "import numpy as np\n",
        "from math import pi"
      ]
    },
    {
      "cell_type": "code",
      "execution_count": 2,
      "metadata": {
        "ExecuteTime": {
          "end_time": "2021-07-31T05:10:07.863361Z",
          "start_time": "2021-07-31T05:10:06.401320Z"
        },
        "id": "AxQHPrZqaw7S"
      },
      "outputs": [],
      "source": [
        "from qiskit import QuantumCircuit, ClassicalRegister, QuantumRegister, transpile\n",
        "from qiskit.visualization import circuit_drawer\n",
        "from qiskit.quantum_info import state_fidelity\n",
        "from qiskit_aer import Aer\n",
        "\n",
        "backend = Aer.get_backend('qasm_simulator')\n"
      ]
    },
    {
      "cell_type": "markdown",
      "metadata": {
        "id": "OE3FMqo6aw7T"
      },
      "source": [
        "## Single Qubit Quantum states <a name=\"single_states\"/>\n",
        "\n",
        "A single qubit quantum state can be written as\n",
        "\n",
        "$$\\left|\\psi\\right\\rangle = \\alpha\\left|0\\right\\rangle + \\beta \\left|1\\right\\rangle$$\n",
        "\n",
        "\n",
        "where $\\alpha$ and $\\beta$ are complex numbers. In a measurement the probability of the bit being in $\\left|0\\right\\rangle$ is $|\\alpha|^2$ and $\\left|1\\right\\rangle$ is $|\\beta|^2$. As a vector this is\n",
        "\n",
        "$$\n",
        "\\left|\\psi\\right\\rangle =  \n",
        "\\begin{pmatrix}\n",
        "\\alpha \\\\\n",
        "\\beta\n",
        "\\end{pmatrix}.\n",
        "$$\n",
        "\n",
        "Note, due to the conservation of probability $|\\alpha|^2+ |\\beta|^2 = 1$ and since global phase is undetectable $\\left|\\psi\\right\\rangle := e^{i\\delta} \\left|\\psi\\right\\rangle$ we only require two real numbers to describe a single qubit quantum state.\n",
        "\n",
        "A convenient representation is\n",
        "\n",
        "$$\\left|\\psi\\right\\rangle = \\cos(\\theta/2)\\left|0\\right\\rangle + \\sin(\\theta/2)e^{i\\phi}\\left|1\\right\\rangle$$\n",
        "\n",
        "where $0\\leq \\phi < 2\\pi$, and $0\\leq \\theta \\leq \\pi$.  From this, it is clear that there is a one-to-one correspondence between qubit states ($\\mathbb{C}^2$) and the points on the surface of a unit sphere ($\\mathbb{S}^2$). This is called the Bloch sphere representation of a qubit state.\n",
        "\n",
        "Quantum gates/operations are usually represented as matrices. A gate which acts on a qubit is represented by a $2\\times 2$ unitary matrix $U$. The action of the quantum gate is found by multiplying the matrix representing the gate with the vector which represents the quantum state.\n",
        "\n",
        "$$\\left|\\psi'\\right\\rangle = U\\left|\\psi\\right\\rangle$$\n",
        "\n",
        "A general unitary must be able to take the $\\left|0\\right\\rangle$ to the above state. That is\n",
        "\n",
        "$$\n",
        "U = \\begin{pmatrix}\n",
        "\\cos(\\theta/2) & a \\\\\n",
        "e^{i\\phi}\\sin(\\theta/2) & b\n",
        "\\end{pmatrix}\n",
        "$$\n",
        "\n",
        "where $a$ and $b$ are complex numbers constrained such that $U^\\dagger U = I$ for all $0\\leq\\theta\\leq\\pi$ and $0\\leq \\phi<2\\pi$. This gives 3 constraints and as such $a\\rightarrow -e^{i\\lambda}\\sin(\\theta/2)$ and $b\\rightarrow e^{i\\lambda+i\\phi}\\cos(\\theta/2)$ where $0\\leq \\lambda<2\\pi$ giving\n",
        "\n",
        "$$\n",
        "U(\\theta, \\phi, \\lambda) =\n",
        "    \\begin{pmatrix}\n",
        "        \\cos\\left(\\frac{\\theta}{2}\\right)          & -e^{i\\lambda}\\sin\\left(\\frac{\\theta}{2}\\right) \\\\\n",
        "        e^{i\\phi}\\sin\\left(\\frac{\\theta}{2}\\right) & e^{i(\\phi+\\lambda)}\\cos\\left(\\frac{\\theta}{2}\\right)\n",
        "    \\end{pmatrix}\n",
        "$$\n",
        "\n",
        "This is the most general form of a single qubit unitary."
      ]
    },
    {
      "cell_type": "markdown",
      "metadata": {
        "id": "zVi13hgoaw7U"
      },
      "source": [
        "## Single-Qubit Gates <a name=\"single_gates\"/>\n",
        "\n",
        "The single-qubit gates available are:\n",
        "- U gate\n",
        "- P gate\n",
        "- Identity gate\n",
        "- Pauli gates\n",
        "- Clifford gates\n",
        "- $C3$ gates\n",
        "- Standard rotation gates\n",
        "\n",
        "We have provided a backend: `unitary_simulator` to allow you to calculate the unitary matrices."
      ]
    },
    {
      "cell_type": "code",
      "execution_count": 4,
      "metadata": {
        "ExecuteTime": {
          "end_time": "2021-07-31T05:10:08.577924Z",
          "start_time": "2021-07-31T05:10:08.575044Z"
        },
        "id": "8HkdlRR9aw7U"
      },
      "outputs": [],
      "source": [
        "q = QuantumRegister(1)"
      ]
    },
    {
      "cell_type": "markdown",
      "metadata": {
        "id": "xPC-nNB2aw7U"
      },
      "source": [
        "### U gate\n",
        "\n",
        "In Qiskit we give you access to the general unitary using the $u$ gate, which has the following matrix form\n",
        "\n",
        "$$\n",
        "U(\\theta, \\phi, \\lambda) =\n",
        "    \\begin{pmatrix}\n",
        "        \\cos\\left(\\frac{\\theta}{2}\\right)          & -e^{i\\lambda}\\sin\\left(\\frac{\\theta}{2}\\right) \\\\\n",
        "        e^{i\\phi}\\sin\\left(\\frac{\\theta}{2}\\right) & e^{i(\\phi+\\lambda)}\\cos\\left(\\frac{\\theta}{2}\\right)\n",
        "    \\end{pmatrix}\n",
        "$$\n"
      ]
    },
    {
      "cell_type": "code",
      "execution_count": 5,
      "metadata": {
        "ExecuteTime": {
          "end_time": "2021-07-31T05:10:09.406278Z",
          "start_time": "2021-07-31T05:10:09.398661Z"
        },
        "id": "ejbnuzMBaw7V",
        "outputId": "85824c95-267f-49bb-803b-9bd05f53fa53",
        "colab": {
          "base_uri": "https://localhost:8080/",
          "height": 63
        }
      },
      "outputs": [
        {
          "output_type": "execute_result",
          "data": {
            "text/plain": [
              "    ┌────────────────┐\n",
              "q1: ┤ U(π/2,π/4,π/8) ├\n",
              "    └────────────────┘"
            ],
            "text/html": [
              "<pre style=\"word-wrap: normal;white-space: pre;background: #fff0;line-height: 1.1;font-family: &quot;Courier New&quot;,Courier,monospace\">    ┌────────────────┐\n",
              "q1: ┤ U(π/2,π/4,π/8) ├\n",
              "    └────────────────┘</pre>"
            ]
          },
          "metadata": {},
          "execution_count": 5
        }
      ],
      "source": [
        "qc = QuantumCircuit(q)\n",
        "qc.u(pi/2,pi/4,pi/8,q)\n",
        "qc.draw()"
      ]
    },
    {
      "cell_type": "code",
      "execution_count": 6,
      "metadata": {
        "ExecuteTime": {
          "end_time": "2021-07-31T05:10:10.420628Z",
          "start_time": "2021-07-31T05:10:10.342207Z"
        },
        "id": "dGHJrKtcaw7V",
        "outputId": "ccaa2cfd-3a11-44a0-9b1a-4a7d8f78284f",
        "colab": {
          "base_uri": "https://localhost:8080/"
        }
      },
      "outputs": [
        {
          "output_type": "stream",
          "name": "stdout",
          "text": [
            "Operator([[ 0.707+0.j   , -0.653-0.271j],\n",
            "          [ 0.5  +0.5j  ,  0.271+0.653j]],\n",
            "         input_dims=(2,), output_dims=(2,))\n"
          ]
        }
      ],
      "source": [
        "backend = Aer.get_backend('unitary_simulator')\n",
        "\n",
        "job = backend.run(transpile(qc, backend))\n",
        "\n",
        "job.result().get_unitary(qc, decimals=3)"
      ]
    },
    {
      "cell_type": "markdown",
      "metadata": {
        "id": "2KVh7Mceaw7W"
      },
      "source": [
        "<div class=\"alert alert-info\">\n",
        "Note on U gate deprecation\n",
        "\n",
        "The QuantumCircuit methods $u1$, $u2$ and $u3$ are now deprecated. Instead, the following replacements should be used. Check sx gate in the following.\n",
        "\n",
        "- $u1(\\lambda) = p(\\lambda) = u(0, 0, \\lambda)$\n",
        "\n",
        "- $u2(\\phi, \\lambda) = u(\\frac{\\pi}{2}, \\phi, \\lambda) = p(\\frac{\\pi}{2} + \\phi) \\cdot sx \\cdot p(\\frac{\\pi}{2} - \\lambda)$\n",
        "\n",
        "- $u3(\\theta, \\phi, \\lambda) = u(\\theta, \\phi, \\lambda) = p(\\phi + \\pi) \\cdot sx \\cdot p(\\theta + \\pi) \\cdot sx \\cdot p(\\lambda)$\n",
        "\n",
        "```python\n",
        "# qc.u1(lambda) is now:\n",
        "qc.p(lambda)\n",
        "\n",
        "# qc.u2(phi, lambda) is now:\n",
        "qc.u(pi/2, phi, lambda)\n",
        "\n",
        "# qc.u3(theta, phi, lambda) is now:\n",
        "qc.u(theta, phi, lambda)\n",
        "```\n",
        "</div>"
      ]
    },
    {
      "cell_type": "markdown",
      "metadata": {
        "id": "TKhMp8Ibaw7W"
      },
      "source": [
        "### P gate\n",
        "\n",
        "The $p(\\lambda)= u(0, 0, \\lambda)$ gate has the matrix form\n",
        "\n",
        "$$\n",
        "p(\\lambda) =\n",
        "\\begin{pmatrix}\n",
        "1 & 0 \\\\\n",
        "0 & e^{i \\lambda}\n",
        "\\end{pmatrix},\n",
        "$$\n",
        "\n",
        "which is useful as it allows us to apply a quantum phase."
      ]
    },
    {
      "cell_type": "code",
      "execution_count": 7,
      "metadata": {
        "ExecuteTime": {
          "end_time": "2021-07-31T05:10:51.997454Z",
          "start_time": "2021-07-31T05:10:51.992620Z"
        },
        "id": "Hq1AcVeBaw7X",
        "outputId": "ed76b869-38ce-4769-d9fd-d01dab25b547",
        "colab": {
          "base_uri": "https://localhost:8080/",
          "height": 63
        }
      },
      "outputs": [
        {
          "output_type": "execute_result",
          "data": {
            "text/plain": [
              "    ┌────────┐\n",
              "q1: ┤ P(π/2) ├\n",
              "    └────────┘"
            ],
            "text/html": [
              "<pre style=\"word-wrap: normal;white-space: pre;background: #fff0;line-height: 1.1;font-family: &quot;Courier New&quot;,Courier,monospace\">    ┌────────┐\n",
              "q1: ┤ P(π/2) ├\n",
              "    └────────┘</pre>"
            ]
          },
          "metadata": {},
          "execution_count": 7
        }
      ],
      "source": [
        "qc = QuantumCircuit(q)\n",
        "qc.p(pi/2,q)\n",
        "qc.draw()"
      ]
    },
    {
      "cell_type": "code",
      "execution_count": 8,
      "metadata": {
        "ExecuteTime": {
          "end_time": "2021-07-31T05:10:58.149042Z",
          "start_time": "2021-07-31T05:10:58.138158Z"
        },
        "id": "wXSRCdZOaw7X",
        "outputId": "c8d098ff-d513-49e6-850c-5e645944f593",
        "colab": {
          "base_uri": "https://localhost:8080/"
        }
      },
      "outputs": [
        {
          "output_type": "stream",
          "name": "stdout",
          "text": [
            "Operator([[1.+0.j, 0.+0.j],\n",
            "          [0.+0.j, 0.+1.j]],\n",
            "         input_dims=(2,), output_dims=(2,))\n"
          ]
        }
      ],
      "source": [
        "job = backend.run(transpile(qc, backend))\n",
        "job.result().get_unitary(qc, decimals=3)"
      ]
    },
    {
      "cell_type": "markdown",
      "metadata": {
        "id": "W3poK1rPaw7X"
      },
      "source": [
        "### Identity gate\n",
        "\n",
        "The identity gate is $Id = p(0)$."
      ]
    },
    {
      "cell_type": "code",
      "execution_count": 12,
      "metadata": {
        "ExecuteTime": {
          "end_time": "2021-07-31T05:11:00.799001Z",
          "start_time": "2021-07-31T05:11:00.794172Z"
        },
        "id": "gEbDo0IKaw7Y",
        "outputId": "d4debb11-4237-45ed-865a-38439043a054",
        "colab": {
          "base_uri": "https://localhost:8080/",
          "height": 63
        }
      },
      "outputs": [
        {
          "output_type": "execute_result",
          "data": {
            "text/plain": [
              "    ┌───┐\n",
              "q1: ┤ I ├\n",
              "    └───┘"
            ],
            "text/html": [
              "<pre style=\"word-wrap: normal;white-space: pre;background: #fff0;line-height: 1.1;font-family: &quot;Courier New&quot;,Courier,monospace\">    ┌───┐\n",
              "q1: ┤ I ├\n",
              "    └───┘</pre>"
            ]
          },
          "metadata": {},
          "execution_count": 12
        }
      ],
      "source": [
        "qc = QuantumCircuit(q)\n",
        "qc.id(q)\n",
        "qc.draw()"
      ]
    },
    {
      "cell_type": "code",
      "execution_count": 13,
      "metadata": {
        "ExecuteTime": {
          "end_time": "2021-07-31T05:11:03.627749Z",
          "start_time": "2021-07-31T05:11:03.619164Z"
        },
        "id": "lHbq7aA_aw7Y",
        "outputId": "a95f02d4-14a5-41a7-cad4-151067bb9062",
        "colab": {
          "base_uri": "https://localhost:8080/"
        }
      },
      "outputs": [
        {
          "output_type": "stream",
          "name": "stdout",
          "text": [
            "Operator([[1.+0.j, 0.+0.j],\n",
            "          [0.+0.j, 1.+0.j]],\n",
            "         input_dims=(2,), output_dims=(2,))\n"
          ]
        }
      ],
      "source": [
        "job = backend.run(transpile(qc, backend))\n",
        "job.result().get_unitary(qc, decimals=3)"
      ]
    },
    {
      "cell_type": "markdown",
      "metadata": {
        "id": "nY3BuP3Vaw7Z"
      },
      "source": [
        "### Pauli gates\n",
        "\n",
        "#### $X$: bit-flip gate\n",
        "\n",
        "The bit-flip gate $X$ is defined as:\n",
        "\n",
        "$$\n",
        "X   =  \n",
        "\\begin{pmatrix}\n",
        "0 & 1\\\\\n",
        "1 & 0\n",
        "\\end{pmatrix}= u(\\pi,0,\\pi)\n",
        "$$"
      ]
    },
    {
      "cell_type": "code",
      "execution_count": 10,
      "metadata": {
        "ExecuteTime": {
          "end_time": "2021-07-31T05:11:05.287138Z",
          "start_time": "2021-07-31T05:11:05.281859Z"
        },
        "id": "PE6pXfFIaw7Z",
        "outputId": "bf9af33e-74db-4721-9d75-7df800df4561",
        "colab": {
          "base_uri": "https://localhost:8080/",
          "height": 63
        }
      },
      "outputs": [
        {
          "output_type": "execute_result",
          "data": {
            "text/plain": [
              "    ┌───┐\n",
              "q1: ┤ X ├\n",
              "    └───┘"
            ],
            "text/html": [
              "<pre style=\"word-wrap: normal;white-space: pre;background: #fff0;line-height: 1.1;font-family: &quot;Courier New&quot;,Courier,monospace\">    ┌───┐\n",
              "q1: ┤ X ├\n",
              "    └───┘</pre>"
            ]
          },
          "metadata": {},
          "execution_count": 10
        }
      ],
      "source": [
        "qc = QuantumCircuit(q)\n",
        "qc.x(q)\n",
        "qc.draw()"
      ]
    },
    {
      "cell_type": "code",
      "execution_count": 11,
      "metadata": {
        "ExecuteTime": {
          "end_time": "2021-07-31T05:11:07.285569Z",
          "start_time": "2021-07-31T05:11:07.276242Z"
        },
        "id": "5kQlUll8aw7a",
        "outputId": "7d01bdba-c387-44dc-a2bc-7bdf7a8b7c1b",
        "colab": {
          "base_uri": "https://localhost:8080/"
        }
      },
      "outputs": [
        {
          "output_type": "stream",
          "name": "stdout",
          "text": [
            "Operator([[0.+0.j, 1.+0.j],\n",
            "          [1.+0.j, 0.+0.j]],\n",
            "         input_dims=(2,), output_dims=(2,))\n"
          ]
        }
      ],
      "source": [
        "job = backend.run(transpile(qc, backend))\n",
        "job.result().get_unitary(qc, decimals=3)"
      ]
    },
    {
      "cell_type": "markdown",
      "metadata": {
        "id": "nDOw6O1zaw7a"
      },
      "source": [
        "#### $Y$: bit- and phase-flip gate\n",
        "\n",
        "The $Y$ gate is defined as:\n",
        "\n",
        "$$\n",
        "Y  =\n",
        "\\begin{pmatrix}\n",
        "0 & -i\\\\\n",
        "i & 0\n",
        "\\end{pmatrix}=u(\\pi,\\pi/2,\\pi/2)\n",
        "$$"
      ]
    },
    {
      "cell_type": "code",
      "execution_count": 12,
      "metadata": {
        "ExecuteTime": {
          "end_time": "2021-07-31T05:11:09.274252Z",
          "start_time": "2021-07-31T05:11:09.270141Z"
        },
        "id": "amkz2KuWaw7a",
        "outputId": "0debc538-aadc-4fb7-e8cb-8a460d0dc6bf",
        "colab": {
          "base_uri": "https://localhost:8080/",
          "height": 63
        }
      },
      "outputs": [
        {
          "output_type": "execute_result",
          "data": {
            "text/plain": [
              "    ┌───┐\n",
              "q1: ┤ Y ├\n",
              "    └───┘"
            ],
            "text/html": [
              "<pre style=\"word-wrap: normal;white-space: pre;background: #fff0;line-height: 1.1;font-family: &quot;Courier New&quot;,Courier,monospace\">    ┌───┐\n",
              "q1: ┤ Y ├\n",
              "    └───┘</pre>"
            ]
          },
          "metadata": {},
          "execution_count": 12
        }
      ],
      "source": [
        "qc = QuantumCircuit(q)\n",
        "qc.y(q)\n",
        "qc.draw()"
      ]
    },
    {
      "cell_type": "code",
      "execution_count": 13,
      "metadata": {
        "ExecuteTime": {
          "end_time": "2021-07-31T05:11:11.878524Z",
          "start_time": "2021-07-31T05:11:11.868931Z"
        },
        "id": "NG6X9ZTCaw7b",
        "outputId": "af6c55d5-65c4-44e4-e3ae-26a83ecd8dd4",
        "colab": {
          "base_uri": "https://localhost:8080/"
        }
      },
      "outputs": [
        {
          "output_type": "stream",
          "name": "stdout",
          "text": [
            "Operator([[0.-0.j, 0.-1.j],\n",
            "          [0.+1.j, 0.+0.j]],\n",
            "         input_dims=(2,), output_dims=(2,))\n"
          ]
        }
      ],
      "source": [
        "job = backend.run(transpile(qc, backend))\n",
        "job.result().get_unitary(qc, decimals=3)"
      ]
    },
    {
      "cell_type": "markdown",
      "metadata": {
        "id": "q_6oY5Jbaw7b"
      },
      "source": [
        "#### $Z$: phase-flip gate\n",
        "\n",
        "The phase-flip gate $Z$ is defined as:\n",
        "\n",
        "$$\n",
        "Z =\n",
        "\\begin{pmatrix}\n",
        "1 & 0\\\\\n",
        "0 & -1\n",
        "\\end{pmatrix}=p(\\pi)\n",
        "$$"
      ]
    },
    {
      "cell_type": "code",
      "execution_count": 14,
      "metadata": {
        "ExecuteTime": {
          "end_time": "2021-07-31T05:11:13.903719Z",
          "start_time": "2021-07-31T05:11:13.898408Z"
        },
        "id": "LKunLMfXaw7b",
        "outputId": "6be22ad6-0058-410b-c471-bb43d9ea827b",
        "colab": {
          "base_uri": "https://localhost:8080/",
          "height": 63
        }
      },
      "outputs": [
        {
          "output_type": "execute_result",
          "data": {
            "text/plain": [
              "    ┌───┐\n",
              "q1: ┤ Z ├\n",
              "    └───┘"
            ],
            "text/html": [
              "<pre style=\"word-wrap: normal;white-space: pre;background: #fff0;line-height: 1.1;font-family: &quot;Courier New&quot;,Courier,monospace\">    ┌───┐\n",
              "q1: ┤ Z ├\n",
              "    └───┘</pre>"
            ]
          },
          "metadata": {},
          "execution_count": 14
        }
      ],
      "source": [
        "qc = QuantumCircuit(q)\n",
        "qc.z(q)\n",
        "qc.draw()"
      ]
    },
    {
      "cell_type": "code",
      "execution_count": 15,
      "metadata": {
        "ExecuteTime": {
          "end_time": "2021-07-31T05:11:17.430999Z",
          "start_time": "2021-07-31T05:11:17.420906Z"
        },
        "id": "VflOe3Ziaw7c",
        "outputId": "0ba40fd0-a4bb-41c1-bc92-6d68f5adee21",
        "colab": {
          "base_uri": "https://localhost:8080/"
        }
      },
      "outputs": [
        {
          "output_type": "stream",
          "name": "stdout",
          "text": [
            "Operator([[ 1.+0.j,  0.+0.j],\n",
            "          [-0.+0.j, -1.+0.j]],\n",
            "         input_dims=(2,), output_dims=(2,))\n"
          ]
        }
      ],
      "source": [
        "job = backend.run(transpile(qc, backend))\n",
        "job.result().get_unitary(qc, decimals=3)"
      ]
    },
    {
      "cell_type": "markdown",
      "metadata": {
        "id": "sCWXuVICaw7c"
      },
      "source": [
        "### Clifford gates\n",
        "\n",
        "#### Hadamard gate\n",
        "\n",
        "$$\n",
        "H =\n",
        "\\frac{1}{\\sqrt{2}}\n",
        "\\begin{pmatrix}\n",
        "1 & 1\\\\\n",
        "1 & -1\n",
        "\\end{pmatrix}= u(\\pi/2,0,\\pi)\n",
        "$$"
      ]
    },
    {
      "cell_type": "code",
      "execution_count": 16,
      "metadata": {
        "ExecuteTime": {
          "end_time": "2021-07-31T05:11:24.374244Z",
          "start_time": "2021-07-31T05:11:24.369684Z"
        },
        "id": "53GLh6Pnaw7c",
        "outputId": "884c9eaf-9b37-4e74-a071-b6ba75f9255d",
        "colab": {
          "base_uri": "https://localhost:8080/",
          "height": 63
        }
      },
      "outputs": [
        {
          "output_type": "execute_result",
          "data": {
            "text/plain": [
              "    ┌───┐\n",
              "q1: ┤ H ├\n",
              "    └───┘"
            ],
            "text/html": [
              "<pre style=\"word-wrap: normal;white-space: pre;background: #fff0;line-height: 1.1;font-family: &quot;Courier New&quot;,Courier,monospace\">    ┌───┐\n",
              "q1: ┤ H ├\n",
              "    └───┘</pre>"
            ]
          },
          "metadata": {},
          "execution_count": 16
        }
      ],
      "source": [
        "qc = QuantumCircuit(q)\n",
        "qc.h(q)\n",
        "qc.draw()"
      ]
    },
    {
      "cell_type": "code",
      "execution_count": 17,
      "metadata": {
        "ExecuteTime": {
          "end_time": "2021-07-31T05:11:24.964793Z",
          "start_time": "2021-07-31T05:11:24.956019Z"
        },
        "id": "bKEwlsKoaw7d",
        "outputId": "b7620a56-2772-4477-8025-93e67a59baf5",
        "colab": {
          "base_uri": "https://localhost:8080/"
        }
      },
      "outputs": [
        {
          "output_type": "stream",
          "name": "stdout",
          "text": [
            "Operator([[ 0.707+0.j,  0.707-0.j],\n",
            "          [ 0.707+0.j, -0.707+0.j]],\n",
            "         input_dims=(2,), output_dims=(2,))\n"
          ]
        }
      ],
      "source": [
        "job = backend.run(transpile(qc, backend))\n",
        "job.result().get_unitary(qc, decimals=3)"
      ]
    },
    {
      "cell_type": "markdown",
      "metadata": {
        "id": "OZE96jNDaw7d"
      },
      "source": [
        "#### $S$ (or, $\\sqrt{Z}$ phase) gate\n",
        "\n",
        "$$\n",
        "S =\n",
        "\\begin{pmatrix}\n",
        "1 & 0\\\\\n",
        "0 & i\n",
        "\\end{pmatrix}= p(\\pi/2)\n",
        "$$"
      ]
    },
    {
      "cell_type": "code",
      "execution_count": 18,
      "metadata": {
        "ExecuteTime": {
          "end_time": "2021-07-31T05:11:27.577029Z",
          "start_time": "2021-07-31T05:11:27.572229Z"
        },
        "id": "BWGFWanQaw7d",
        "outputId": "ded6ca1e-ff7e-4f3d-af96-14a7a2b0a123",
        "colab": {
          "base_uri": "https://localhost:8080/",
          "height": 63
        }
      },
      "outputs": [
        {
          "output_type": "execute_result",
          "data": {
            "text/plain": [
              "    ┌───┐\n",
              "q1: ┤ S ├\n",
              "    └───┘"
            ],
            "text/html": [
              "<pre style=\"word-wrap: normal;white-space: pre;background: #fff0;line-height: 1.1;font-family: &quot;Courier New&quot;,Courier,monospace\">    ┌───┐\n",
              "q1: ┤ S ├\n",
              "    └───┘</pre>"
            ]
          },
          "metadata": {},
          "execution_count": 18
        }
      ],
      "source": [
        "qc = QuantumCircuit(q)\n",
        "qc.s(q)\n",
        "qc.draw()"
      ]
    },
    {
      "cell_type": "code",
      "execution_count": 19,
      "metadata": {
        "ExecuteTime": {
          "end_time": "2021-07-31T05:11:30.150288Z",
          "start_time": "2021-07-31T05:11:30.141012Z"
        },
        "id": "uLDs6R-Raw7e",
        "outputId": "f17a0d1b-b4dd-4fdb-9870-461c3171a057",
        "colab": {
          "base_uri": "https://localhost:8080/"
        }
      },
      "outputs": [
        {
          "output_type": "stream",
          "name": "stdout",
          "text": [
            "Operator([[ 1.+0.j,  0.+0.j],\n",
            "          [-0.+0.j, -0.+1.j]],\n",
            "         input_dims=(2,), output_dims=(2,))\n"
          ]
        }
      ],
      "source": [
        "job = backend.run(transpile(qc, backend))\n",
        "job.result().get_unitary(qc, decimals=3)"
      ]
    },
    {
      "cell_type": "markdown",
      "metadata": {
        "id": "k3AGeTOaaw7e"
      },
      "source": [
        "#### $S^{\\dagger}$ (or, conjugate of $\\sqrt{Z}$ phase) gate\n",
        "\n",
        "$$\n",
        "S^{\\dagger} =\n",
        "\\begin{pmatrix}\n",
        "1 & 0\\\\\n",
        "0 & -i\n",
        "\\end{pmatrix}= p(-\\pi/2)\n",
        "$$\n"
      ]
    },
    {
      "cell_type": "code",
      "execution_count": 20,
      "metadata": {
        "ExecuteTime": {
          "end_time": "2021-07-31T05:11:31.674786Z",
          "start_time": "2021-07-31T05:11:31.669677Z"
        },
        "id": "gAEf-_viaw7e",
        "outputId": "a5fa994c-ca07-494d-aada-254ea21844be",
        "colab": {
          "base_uri": "https://localhost:8080/",
          "height": 63
        }
      },
      "outputs": [
        {
          "output_type": "execute_result",
          "data": {
            "text/plain": [
              "    ┌─────┐\n",
              "q1: ┤ Sdg ├\n",
              "    └─────┘"
            ],
            "text/html": [
              "<pre style=\"word-wrap: normal;white-space: pre;background: #fff0;line-height: 1.1;font-family: &quot;Courier New&quot;,Courier,monospace\">    ┌─────┐\n",
              "q1: ┤ Sdg ├\n",
              "    └─────┘</pre>"
            ]
          },
          "metadata": {},
          "execution_count": 20
        }
      ],
      "source": [
        "qc = QuantumCircuit(q)\n",
        "qc.sdg(q)\n",
        "qc.draw()"
      ]
    },
    {
      "cell_type": "code",
      "execution_count": 21,
      "metadata": {
        "ExecuteTime": {
          "end_time": "2021-07-31T05:11:34.228098Z",
          "start_time": "2021-07-31T05:11:34.218323Z"
        },
        "id": "jgIQuiq_aw7e",
        "outputId": "c7603d8d-de23-41de-beb8-bff7afa1d043",
        "colab": {
          "base_uri": "https://localhost:8080/"
        }
      },
      "outputs": [
        {
          "output_type": "stream",
          "name": "stdout",
          "text": [
            "Operator([[1.+0.j, 0.+0.j],\n",
            "          [0.-0.j, 0.-1.j]],\n",
            "         input_dims=(2,), output_dims=(2,))\n"
          ]
        }
      ],
      "source": [
        "job = backend.run(transpile(qc, backend))\n",
        "job.result().get_unitary(qc, decimals=3)"
      ]
    },
    {
      "cell_type": "markdown",
      "metadata": {
        "id": "OtTyS6t1aw7f"
      },
      "source": [
        "### $C3$ gates\n",
        "#### $T$ (or, $\\sqrt{S}$ phase) gate\n",
        "\n",
        "$$\n",
        "T =\n",
        "\\begin{pmatrix}\n",
        "1 & 0\\\\\n",
        "0 & e^{i \\pi/4}\n",
        "\\end{pmatrix}= p(\\pi/4)\n",
        "$$"
      ]
    },
    {
      "cell_type": "code",
      "execution_count": 22,
      "metadata": {
        "ExecuteTime": {
          "end_time": "2021-07-31T05:11:35.573569Z",
          "start_time": "2021-07-31T05:11:35.568858Z"
        },
        "id": "GmGzgTLgaw7f",
        "outputId": "16289b58-fe20-4a5d-9a50-6d8669d6c2e8",
        "colab": {
          "base_uri": "https://localhost:8080/",
          "height": 63
        }
      },
      "outputs": [
        {
          "output_type": "execute_result",
          "data": {
            "text/plain": [
              "    ┌───┐\n",
              "q1: ┤ T ├\n",
              "    └───┘"
            ],
            "text/html": [
              "<pre style=\"word-wrap: normal;white-space: pre;background: #fff0;line-height: 1.1;font-family: &quot;Courier New&quot;,Courier,monospace\">    ┌───┐\n",
              "q1: ┤ T ├\n",
              "    └───┘</pre>"
            ]
          },
          "metadata": {},
          "execution_count": 22
        }
      ],
      "source": [
        "qc = QuantumCircuit(q)\n",
        "qc.t(q)\n",
        "qc.draw()"
      ]
    },
    {
      "cell_type": "code",
      "execution_count": 23,
      "metadata": {
        "ExecuteTime": {
          "end_time": "2021-07-31T05:11:38.030353Z",
          "start_time": "2021-07-31T05:11:38.020798Z"
        },
        "id": "cstNbnPvaw7f",
        "outputId": "3ddf47d4-a807-4de1-ec05-4b8759fa349b",
        "colab": {
          "base_uri": "https://localhost:8080/"
        }
      },
      "outputs": [
        {
          "output_type": "stream",
          "name": "stdout",
          "text": [
            "Operator([[1.   +0.j   , 0.   +0.j   ],\n",
            "          [0.   +0.j   , 0.707+0.707j]],\n",
            "         input_dims=(2,), output_dims=(2,))\n"
          ]
        }
      ],
      "source": [
        "job = backend.run(transpile(qc, backend))\n",
        "job.result().get_unitary(qc, decimals=3)"
      ]
    },
    {
      "cell_type": "markdown",
      "metadata": {
        "id": "JdjzJ1aVaw7f"
      },
      "source": [
        "#### $T^{\\dagger}$ (or, conjugate of $\\sqrt{S}$ phase) gate\n",
        "\n",
        "$$\n",
        "T^{\\dagger} =  \n",
        "\\begin{pmatrix}\n",
        "1 & 0\\\\\n",
        "0 & e^{-i \\pi/4}\n",
        "\\end{pmatrix}= p(-\\pi/4)\n",
        "$$"
      ]
    },
    {
      "cell_type": "code",
      "execution_count": 24,
      "metadata": {
        "ExecuteTime": {
          "end_time": "2021-07-31T05:11:39.747528Z",
          "start_time": "2021-07-31T05:11:39.742799Z"
        },
        "id": "g85Gzjf5aw7m",
        "outputId": "67d5e565-d804-49c0-96e5-20878d8de119",
        "colab": {
          "base_uri": "https://localhost:8080/",
          "height": 63
        }
      },
      "outputs": [
        {
          "output_type": "execute_result",
          "data": {
            "text/plain": [
              "    ┌─────┐\n",
              "q1: ┤ Tdg ├\n",
              "    └─────┘"
            ],
            "text/html": [
              "<pre style=\"word-wrap: normal;white-space: pre;background: #fff0;line-height: 1.1;font-family: &quot;Courier New&quot;,Courier,monospace\">    ┌─────┐\n",
              "q1: ┤ Tdg ├\n",
              "    └─────┘</pre>"
            ]
          },
          "metadata": {},
          "execution_count": 24
        }
      ],
      "source": [
        "qc = QuantumCircuit(q)\n",
        "qc.tdg(q)\n",
        "qc.draw()"
      ]
    },
    {
      "cell_type": "code",
      "execution_count": 25,
      "metadata": {
        "ExecuteTime": {
          "end_time": "2021-07-31T05:11:43.129450Z",
          "start_time": "2021-07-31T05:11:43.119304Z"
        },
        "id": "Z-kCYvulaw7m",
        "outputId": "a34be103-b7cf-4d7e-c37b-c783b8e555d4",
        "colab": {
          "base_uri": "https://localhost:8080/"
        }
      },
      "outputs": [
        {
          "output_type": "stream",
          "name": "stdout",
          "text": [
            "Operator([[1.   +0.j   , 0.   +0.j   ],\n",
            "          [0.   +0.j   , 0.707-0.707j]],\n",
            "         input_dims=(2,), output_dims=(2,))\n"
          ]
        }
      ],
      "source": [
        "job = backend.run(transpile(qc, backend))\n",
        "job.result().get_unitary(qc, decimals=3)"
      ]
    },
    {
      "cell_type": "markdown",
      "metadata": {
        "id": "Tn8Ttnywaw7n"
      },
      "source": [
        "### Standard Rotations\n",
        "\n",
        "The standard rotation gates are those that define rotations around the Paulis $P=\\{X,Y,Z\\}$. They are defined as\n",
        "\n",
        "$$ R_P(\\theta) = \\exp(-i \\theta P/2) = \\cos(\\theta/2)I -i \\sin(\\theta/2)P$$\n",
        "\n",
        "#### Rotation around X-axis\n",
        "\n",
        "$$\n",
        "R_x(\\theta) =\n",
        "\\begin{pmatrix}\n",
        "\\cos(\\theta/2) & -i\\sin(\\theta/2)\\\\\n",
        "-i\\sin(\\theta/2) & \\cos(\\theta/2)\n",
        "\\end{pmatrix} = u(\\theta, -\\pi/2,\\pi/2)\n",
        "$$"
      ]
    },
    {
      "cell_type": "code",
      "execution_count": 26,
      "metadata": {
        "ExecuteTime": {
          "end_time": "2021-07-31T05:11:43.968605Z",
          "start_time": "2021-07-31T05:11:43.963670Z"
        },
        "id": "xPYuo0SIaw7n",
        "outputId": "f93818e4-96b8-4b23-f840-fc2a573de56d",
        "colab": {
          "base_uri": "https://localhost:8080/",
          "height": 63
        }
      },
      "outputs": [
        {
          "output_type": "execute_result",
          "data": {
            "text/plain": [
              "    ┌─────────┐\n",
              "q1: ┤ Rx(π/2) ├\n",
              "    └─────────┘"
            ],
            "text/html": [
              "<pre style=\"word-wrap: normal;white-space: pre;background: #fff0;line-height: 1.1;font-family: &quot;Courier New&quot;,Courier,monospace\">    ┌─────────┐\n",
              "q1: ┤ Rx(π/2) ├\n",
              "    └─────────┘</pre>"
            ]
          },
          "metadata": {},
          "execution_count": 26
        }
      ],
      "source": [
        "qc = QuantumCircuit(q)\n",
        "qc.rx(pi/2,q)\n",
        "qc.draw()"
      ]
    },
    {
      "cell_type": "code",
      "execution_count": 27,
      "metadata": {
        "ExecuteTime": {
          "end_time": "2021-07-31T05:11:47.140262Z",
          "start_time": "2021-07-31T05:11:47.128900Z"
        },
        "id": "fTIWf2DMaw7n",
        "outputId": "7f7f38b0-250f-4fda-80da-a92f742cba46",
        "colab": {
          "base_uri": "https://localhost:8080/"
        }
      },
      "outputs": [
        {
          "output_type": "stream",
          "name": "stdout",
          "text": [
            "Operator([[0.707+0.j   , 0.   -0.707j],\n",
            "          [0.   -0.707j, 0.707+0.j   ]],\n",
            "         input_dims=(2,), output_dims=(2,))\n"
          ]
        }
      ],
      "source": [
        "job = backend.run(transpile(qc, backend))\n",
        "job.result().get_unitary(qc, decimals=3)"
      ]
    },
    {
      "cell_type": "markdown",
      "metadata": {
        "id": "0DJq08uVaw7n"
      },
      "source": [
        "#### Rotation around Y-axis\n",
        "\n",
        "$$\n",
        "R_y(\\theta) =\n",
        "\\begin{pmatrix}\n",
        "\\cos(\\theta/2) & - \\sin(\\theta/2)\\\\\n",
        "\\sin(\\theta/2) & \\cos(\\theta/2).\n",
        "\\end{pmatrix} =u(\\theta,0,0)\n",
        "$$"
      ]
    },
    {
      "cell_type": "code",
      "execution_count": 28,
      "metadata": {
        "ExecuteTime": {
          "end_time": "2021-07-31T05:11:48.483090Z",
          "start_time": "2021-07-31T05:11:48.477062Z"
        },
        "id": "puCXB8Bvaw7n",
        "outputId": "a44a492b-6731-4521-fdd6-f0e3b903897f",
        "colab": {
          "base_uri": "https://localhost:8080/",
          "height": 63
        }
      },
      "outputs": [
        {
          "output_type": "execute_result",
          "data": {
            "text/plain": [
              "    ┌─────────┐\n",
              "q1: ┤ Ry(π/2) ├\n",
              "    └─────────┘"
            ],
            "text/html": [
              "<pre style=\"word-wrap: normal;white-space: pre;background: #fff0;line-height: 1.1;font-family: &quot;Courier New&quot;,Courier,monospace\">    ┌─────────┐\n",
              "q1: ┤ Ry(π/2) ├\n",
              "    └─────────┘</pre>"
            ]
          },
          "metadata": {},
          "execution_count": 28
        }
      ],
      "source": [
        "qc = QuantumCircuit(q)\n",
        "qc.ry(pi/2,q)\n",
        "qc.draw()"
      ]
    },
    {
      "cell_type": "code",
      "execution_count": 29,
      "metadata": {
        "ExecuteTime": {
          "end_time": "2021-07-31T05:11:51.011307Z",
          "start_time": "2021-07-31T05:11:51.001011Z"
        },
        "id": "fFJlrzXjaw7o",
        "outputId": "e69e0f9a-e1f5-45f1-b96e-9589b03507c2",
        "colab": {
          "base_uri": "https://localhost:8080/"
        }
      },
      "outputs": [
        {
          "output_type": "stream",
          "name": "stdout",
          "text": [
            "Operator([[ 0.707+0.j, -0.707+0.j],\n",
            "          [ 0.707+0.j,  0.707+0.j]],\n",
            "         input_dims=(2,), output_dims=(2,))\n"
          ]
        }
      ],
      "source": [
        "job = backend.run(transpile(qc, backend))\n",
        "job.result().get_unitary(qc, decimals=3)"
      ]
    },
    {
      "cell_type": "markdown",
      "metadata": {
        "id": "ZBw-TmWWaw7o"
      },
      "source": [
        "#### Rotation around Z-axis\n",
        "\n",
        "$$\n",
        "R_z(\\phi) =\n",
        "\\begin{pmatrix}\n",
        "e^{-i \\phi/2} & 0 \\\\\n",
        "0 & e^{i \\phi/2}\n",
        "\\end{pmatrix}\\equiv p(\\phi)\n",
        "$$\n",
        "\n",
        "Note that here we have used an equivalent as it is different to $p$ by a global phase $e^{-i \\phi/2}$."
      ]
    },
    {
      "cell_type": "code",
      "execution_count": 30,
      "metadata": {
        "ExecuteTime": {
          "end_time": "2021-07-31T05:11:51.729618Z",
          "start_time": "2021-07-31T05:11:51.724574Z"
        },
        "id": "MeBVNFtLaw7o",
        "outputId": "6d1dbdde-1d04-45f4-ecd8-f0326dd997a8",
        "colab": {
          "base_uri": "https://localhost:8080/",
          "height": 63
        }
      },
      "outputs": [
        {
          "output_type": "execute_result",
          "data": {
            "text/plain": [
              "    ┌─────────┐\n",
              "q1: ┤ Rz(π/2) ├\n",
              "    └─────────┘"
            ],
            "text/html": [
              "<pre style=\"word-wrap: normal;white-space: pre;background: #fff0;line-height: 1.1;font-family: &quot;Courier New&quot;,Courier,monospace\">    ┌─────────┐\n",
              "q1: ┤ Rz(π/2) ├\n",
              "    └─────────┘</pre>"
            ]
          },
          "metadata": {},
          "execution_count": 30
        }
      ],
      "source": [
        "qc = QuantumCircuit(q)\n",
        "qc.rz(pi/2,q)\n",
        "qc.draw()"
      ]
    },
    {
      "cell_type": "code",
      "execution_count": 31,
      "metadata": {
        "ExecuteTime": {
          "end_time": "2021-07-31T05:11:54.372720Z",
          "start_time": "2021-07-31T05:11:54.363623Z"
        },
        "id": "kQqY6YVUaw7o",
        "outputId": "3d88aa89-49cf-4482-a0f0-1ad9fb3da2fc",
        "colab": {
          "base_uri": "https://localhost:8080/"
        }
      },
      "outputs": [
        {
          "output_type": "stream",
          "name": "stdout",
          "text": [
            "Operator([[0.707-0.707j, 0.   +0.j   ],\n",
            "          [0.   +0.j   , 0.707+0.707j]],\n",
            "         input_dims=(2,), output_dims=(2,))\n"
          ]
        }
      ],
      "source": [
        "job = backend.run(transpile(qc, backend))\n",
        "job.result().get_unitary(qc, decimals=3)"
      ]
    },
    {
      "cell_type": "markdown",
      "metadata": {
        "id": "vAU2sb1Gaw7o"
      },
      "source": [
        "Note this is different due only to a global phase."
      ]
    },
    {
      "cell_type": "markdown",
      "metadata": {
        "id": "zgQEX5bCK_wp"
      },
      "source": [
        "#### $SX$ gate\n",
        "\n",
        "Applies square root of $X$ gate to qubit 2. Equivalent to RX gate with π/2 rotation.\n",
        "\n",
        "$$\n",
        "SX = \\frac{1}{2}\n",
        "\\begin{pmatrix}\n",
        "1+i & 1-i\\\\\n",
        "1-i & 1+i\n",
        "\\end{pmatrix}=rx(\\frac{π}{2})\n",
        "$$"
      ]
    },
    {
      "cell_type": "code",
      "execution_count": 14,
      "metadata": {
        "ExecuteTime": {
          "end_time": "2021-07-31T05:11:13.903719Z",
          "start_time": "2021-07-31T05:11:13.898408Z"
        },
        "outputId": "311431f7-c848-49b7-8f5d-4ce3b43ce5bd",
        "colab": {
          "base_uri": "https://localhost:8080/",
          "height": 63
        },
        "id": "QhescLAGLCCR"
      },
      "outputs": [
        {
          "output_type": "execute_result",
          "data": {
            "text/plain": [
              "    ┌────┐\n",
              "q1: ┤ √X ├\n",
              "    └────┘"
            ],
            "text/html": [
              "<pre style=\"word-wrap: normal;white-space: pre;background: #fff0;line-height: 1.1;font-family: &quot;Courier New&quot;,Courier,monospace\">    ┌────┐\n",
              "q1: ┤ √X ├\n",
              "    └────┘</pre>"
            ]
          },
          "metadata": {},
          "execution_count": 14
        }
      ],
      "source": [
        "qc = QuantumCircuit(q)\n",
        "qc.sx(q)\n",
        "qc.draw()"
      ]
    },
    {
      "cell_type": "markdown",
      "metadata": {
        "id": "XKjbEp3jaw7o"
      },
      "source": [
        "## Multi-Qubit Gates <a name=\"multi_gates\"/>\n",
        "\n",
        "### Mathematical Preliminaries\n",
        "\n",
        "The space of a quantum computer grows exponentially with the number of qubits. For $n$ qubits the complex vector space has dimension $d=2^n$. To describe states of a multi-qubit system, the tensor product is used to \"glue together\" operators and basis vectors.\n",
        "\n",
        "Let's start by considering a 2-qubit system. Given two operators $A$ and $B$ that each act on one qubit, the joint operator $A \\otimes B$ acting on two qubits is\n",
        "\n",
        "$$\\begin{equation}\n",
        "\tA\\otimes B =\n",
        "\t\\begin{pmatrix}\n",
        "\t\tA_{00} \\begin{pmatrix}\n",
        "\t\t\tB_{00} & B_{01} \\\\\n",
        "\t\t\tB_{10} & B_{11}\n",
        "\t\t\\end{pmatrix} & A_{01} \t\\begin{pmatrix}\n",
        "\t\t\t\tB_{00} & B_{01} \\\\\n",
        "\t\t\t\tB_{10} & B_{11}\n",
        "\t\t\t\\end{pmatrix} \\\\\n",
        "\t\tA_{10} \t\\begin{pmatrix}\n",
        "\t\t\t\t\tB_{00} & B_{01} \\\\\n",
        "\t\t\t\t\tB_{10} & B_{11}\n",
        "\t\t\t\t\\end{pmatrix} & A_{11} \t\\begin{pmatrix}\n",
        "\t\t\t\t\t\t\tB_{00} & B_{01} \\\\\n",
        "\t\t\t\t\t\t\tB_{10} & B_{11}\n",
        "\t\t\t\t\t\t\\end{pmatrix}\n",
        "\t\\end{pmatrix},\n",
        "\\end{equation}$$\n",
        "\n",
        "where $A_{jk}$ and $B_{lm}$ are the matrix elements of $A$ and $B$, respectively.\n",
        "\n",
        "Analogously, the basis vectors for the 2-qubit system are formed using the tensor product of basis vectors for a single qubit:\n",
        "$$\\begin{equation}\\begin{split}\n",
        "\t\\left|{00}\\right\\rangle &= \\begin{pmatrix}\n",
        "\t\t1 \\begin{pmatrix}\n",
        "\t\t\t1  \\\\\n",
        "\t\t\t0\n",
        "\t\t\\end{pmatrix} \\\\\n",
        "\t\t0 \\begin{pmatrix}\n",
        "\t\t\t1  \\\\\n",
        "\t\t\t0\n",
        "\t\t\\end{pmatrix}\n",
        "\t\\end{pmatrix} = \\begin{pmatrix} 1 \\\\ 0 \\\\ 0 \\\\0 \\end{pmatrix}~~~\\left|{01}\\right\\rangle = \\begin{pmatrix}\n",
        "\t1 \\begin{pmatrix}\n",
        "\t0 \\\\\n",
        "\t1\n",
        "\t\\end{pmatrix} \\\\\n",
        "\t0 \\begin{pmatrix}\n",
        "\t0  \\\\\n",
        "\t1\n",
        "\t\\end{pmatrix}\n",
        "\t\\end{pmatrix} = \\begin{pmatrix}0 \\\\ 1 \\\\ 0 \\\\ 0 \\end{pmatrix}\\end{split}\n",
        "\\end{equation}$$\n",
        "    \n",
        "$$\\begin{equation}\\begin{split}\\left|{10}\\right\\rangle = \\begin{pmatrix}\n",
        "\t0\\begin{pmatrix}\n",
        "\t1  \\\\\n",
        "\t0\n",
        "\t\\end{pmatrix} \\\\\n",
        "\t1\\begin{pmatrix}\n",
        "\t1 \\\\\n",
        "\t0\n",
        "\t\\end{pmatrix}\n",
        "\t\\end{pmatrix} = \\begin{pmatrix} 0 \\\\ 0 \\\\ 1 \\\\ 0 \\end{pmatrix}~~~ \t\\left|{11}\\right\\rangle = \\begin{pmatrix}\n",
        "\t0 \\begin{pmatrix}\n",
        "\t0  \\\\\n",
        "\t1\n",
        "\t\\end{pmatrix} \\\\\n",
        "\t1\\begin{pmatrix}\n",
        "\t0  \\\\\n",
        "\t1\n",
        "\t\\end{pmatrix}\n",
        "\t\\end{pmatrix} = \\begin{pmatrix} 0 \\\\ 0 \\\\ 0 \\\\1 \\end{pmatrix}\\end{split}\n",
        "\\end{equation}.$$\n",
        "\n",
        "Note we've introduced a shorthand for the tensor product of basis vectors, wherein $\\left|0\\right\\rangle \\otimes \\left|0\\right\\rangle$ is written as $\\left|00\\right\\rangle$. The state of an $n$-qubit system can be described using the $n$-fold tensor product of single-qubit basis vectors. Notice that the basis vectors for a 2-qubit system are 4-dimensional; in general, the basis vectors of an $n$-qubit system are $2^{n}$-dimensional, as noted earlier.\n",
        "\n",
        "### Basis vector ordering in Qiskit\n",
        "\n",
        "Within the physics community, the qubits of a multi-qubit systems are typically ordered with the first qubit on the left-most side of the tensor product and the last qubit on the right-most side. For instance, if the first qubit is in state $\\left|0\\right\\rangle$ and second is in state $\\left|1\\right\\rangle$, their joint state would be $\\left|01\\right\\rangle$. Qiskit uses a slightly different ordering of the qubits, in which the qubits are represented from the most significant bit (MSB) on the left to the least significant bit (LSB) on the right (little-endian). This is similar to bitstring representation on classical computers, and enables easy conversion from bitstrings to integers after measurements are performed. For the example just given, the joint state would be represented as $\\left|10\\right\\rangle$. Importantly, *this change in the representation of multi-qubit states affects the way multi-qubit gates are represented in Qiskit*, as discussed below.\n",
        "\n",
        "The representation used in Qiskit enumerates the basis vectors in increasing order of the integers they represent. For instance, the basis vectors for a 2-qubit system would be ordered as $\\left|00\\right\\rangle$, $\\left|01\\right\\rangle$, $\\left|10\\right\\rangle$, and $\\left|11\\right\\rangle$. Thinking of the basis vectors as bit strings, they encode the integers 0,1,2 and 3, respectively.\n",
        "\n",
        "\n",
        "### Controlled operations on qubits\n",
        "\n",
        "A common multi-qubit gate involves the application of a gate to one qubit, conditioned on the state of another qubit. For instance, we might want to flip the state of the second qubit when the first qubit is in $\\left|0\\right\\rangle$. Such gates are known as _controlled gates_. The standard multi-qubit gates consist of two-qubit gates and three-qubit gates. The two-qubit gates are:\n",
        "- controlled Pauli gates\n",
        "- controlled Hadamard gate\n",
        "- controlled rotation gates\n",
        "- controlled phase gate\n",
        "- controlled u3 gate\n",
        "- swap gate\n",
        "\n",
        "The three-qubit gates are:\n",
        "- Toffoli gate\n",
        "- Fredkin gate"
      ]
    },
    {
      "cell_type": "markdown",
      "metadata": {
        "id": "Z1BKMo03aw7p"
      },
      "source": [
        "## Two-qubit gates <a name=\"two_gates\"/>\n",
        "\n",
        "Most of the two-qubit gates are of the controlled type (the SWAP gate being the exception). In general, a controlled two-qubit gate $C_{U}$ acts to apply the single-qubit unitary $U$ to the second qubit when the state of the first qubit is in $\\left|1\\right\\rangle$. Suppose $U$ has a matrix representation\n",
        "\n",
        "$$U = \\begin{pmatrix} u_{00} & u_{01} \\\\ u_{10} & u_{11}\\end{pmatrix}.$$\n",
        "\n",
        "We can work out the action of $C_{U}$ as follows. Recall that the basis vectors for a two-qubit system are ordered as $\\left|00\\right\\rangle, \\left|01\\right\\rangle, \\left|10\\right\\rangle, \\left|11\\right\\rangle$. Suppose the **control qubit** is **qubit 0** (which, according to Qiskit's convention, is one the _right-hand_ side of the tensor product). If the control qubit is in $\\left|1\\right\\rangle$, $U$ should be applied to the **target** (qubit 1, on the _left-hand_ side of the tensor product). Therefore, under the action of $C_{U}$, the basis vectors are transformed according to\n",
        "\n",
        "$$\\begin{align*}\n",
        "C_{U}: \\underset{\\text{qubit}~1}{\\left|0\\right\\rangle}\\otimes \\underset{\\text{qubit}~0}{\\left|0\\right\\rangle} &\\rightarrow \\underset{\\text{qubit}~1}{\\left|0\\right\\rangle}\\otimes \\underset{\\text{qubit}~0}{\\left|0\\right\\rangle}\\\\\n",
        "C_{U}: \\underset{\\text{qubit}~1}{\\left|0\\right\\rangle}\\otimes \\underset{\\text{qubit}~0}{\\left|1\\right\\rangle} &\\rightarrow \\underset{\\text{qubit}~1}{U\\left|0\\right\\rangle}\\otimes \\underset{\\text{qubit}~0}{\\left|1\\right\\rangle}\\\\\n",
        "C_{U}: \\underset{\\text{qubit}~1}{\\left|1\\right\\rangle}\\otimes \\underset{\\text{qubit}~0}{\\left|0\\right\\rangle} &\\rightarrow \\underset{\\text{qubit}~1}{\\left|1\\right\\rangle}\\otimes \\underset{\\text{qubit}~0}{\\left|0\\right\\rangle}\\\\\n",
        "C_{U}: \\underset{\\text{qubit}~1}{\\left|1\\right\\rangle}\\otimes \\underset{\\text{qubit}~0}{\\left|1\\right\\rangle} &\\rightarrow \\underset{\\text{qubit}~1}{U\\left|1\\right\\rangle}\\otimes \\underset{\\text{qubit}~0}{\\left|1\\right\\rangle}\\\\\n",
        "\\end{align*}.$$\n",
        "\n",
        "In matrix form, the action of $C_{U}$ is\n",
        "\n",
        "$$\\begin{equation}\n",
        "\tC_U = \\begin{pmatrix}\n",
        "\t1 & 0 & 0 & 0 \\\\\n",
        "\t0 & u_{00} & 0 & u_{01} \\\\\n",
        "\t0 & 0 & 1 & 0 \\\\\n",
        "\t0 & u_{10} &0 & u_{11}\n",
        "\t\t\\end{pmatrix}.\n",
        "\\end{equation}$$\n",
        "\n",
        "To work out these matrix elements, let\n",
        "\n",
        "$$C_{(jk), (lm)} = \\left(\\underset{\\text{qubit}~1}{\\left\\langle j \\right|} \\otimes \\underset{\\text{qubit}~0}{\\left\\langle k \\right|}\\right) C_{U} \\left(\\underset{\\text{qubit}~1}{\\left| l \\right\\rangle} \\otimes \\underset{\\text{qubit}~0}{\\left| m \\right\\rangle}\\right),$$\n",
        "\n",
        "compute the action of $C_{U}$ (given above), and compute the inner products.\n",
        "\n",
        "As shown in the examples below, this operation is implemented in Qiskit as `cU(q[0],q[1])`.\n",
        "\n",
        "\n",
        "If **qubit 1 is the control and qubit 0 is the target**, then the basis vectors are transformed according to\n",
        "$$\\begin{align*}\n",
        "C_{U}: \\underset{\\text{qubit}~1}{\\left|0\\right\\rangle}\\otimes \\underset{\\text{qubit}~0}{\\left|0\\right\\rangle} &\\rightarrow \\underset{\\text{qubit}~1}{\\left|0\\right\\rangle}\\otimes \\underset{\\text{qubit}~0}{\\left|0\\right\\rangle}\\\\\n",
        "C_{U}: \\underset{\\text{qubit}~1}{\\left|0\\right\\rangle}\\otimes \\underset{\\text{qubit}~0}{\\left|1\\right\\rangle} &\\rightarrow \\underset{\\text{qubit}~1}{\\left|0\\right\\rangle}\\otimes \\underset{\\text{qubit}~0}{\\left|1\\right\\rangle}\\\\\n",
        "C_{U}: \\underset{\\text{qubit}~1}{\\left|1\\right\\rangle}\\otimes \\underset{\\text{qubit}~0}{\\left|0\\right\\rangle} &\\rightarrow \\underset{\\text{qubit}~1}{\\left|1\\right\\rangle}\\otimes \\underset{\\text{qubit}~0}{U\\left|0\\right\\rangle}\\\\\n",
        "C_{U}: \\underset{\\text{qubit}~1}{\\left|1\\right\\rangle}\\otimes \\underset{\\text{qubit}~0}{\\left|1\\right\\rangle} &\\rightarrow \\underset{\\text{qubit}~1}{\\left|1\\right\\rangle}\\otimes \\underset{\\text{qubit}~0}{U\\left|1\\right\\rangle}\\\\\n",
        "\\end{align*},$$\n",
        "\n",
        "\n",
        "which implies the matrix form of $C_{U}$ is\n",
        "$$\\begin{equation}\n",
        "\tC_U = \\begin{pmatrix}\n",
        "\t1 & 0 & 0  & 0 \\\\\n",
        "\t0 & 1 & 0 & 0 \\\\\n",
        "\t0 & 0 & u_{00} & u_{01} \\\\\n",
        "\t0 & 0 & u_{10} & u_{11}\n",
        "\t\t\\end{pmatrix}.\n",
        "\\end{equation}$$"
      ]
    },
    {
      "cell_type": "code",
      "execution_count": 16,
      "metadata": {
        "ExecuteTime": {
          "end_time": "2021-07-31T05:11:57.864527Z",
          "start_time": "2021-07-31T05:11:57.861603Z"
        },
        "id": "dGXYEQ00aw7p"
      },
      "outputs": [],
      "source": [
        "q = QuantumRegister(2)"
      ]
    },
    {
      "cell_type": "markdown",
      "metadata": {
        "id": "4pGUPsaQaw7p"
      },
      "source": [
        "### Controlled Pauli Gates\n",
        "\n",
        "#### Controlled-X (or, Controlled-NOT) gate\n",
        "The Controlled-NOT gate flips the `target` qubit when the control qubit is in the state $\\left|1\\right\\rangle$. If we take the MSB as the control qubit (e.g. `cx(q[1],q[0])`), then the matrix would look like\n",
        "\n",
        "$$\n",
        "C_X =\n",
        "\\begin{pmatrix}\n",
        "1 & 0 & 0 & 0\\\\\n",
        "0 & 1 & 0 & 0\\\\\n",
        "0 & 0 & 0 & 1\\\\\n",
        "0 & 0 & 1 & 0\n",
        "\\end{pmatrix}.\n",
        "$$\n",
        "\n",
        "However, when the LSB is the control qubit, (e.g. `cx(q[0],q[1])`), this gate is equivalent to the following matrix:\n",
        "\n",
        "$$\n",
        "C_X =\n",
        "\\begin{pmatrix}\n",
        "1 & 0 & 0 & 0\\\\\n",
        "0 & 0 & 0 & 1\\\\\n",
        "0 & 0 & 1 & 0\\\\\n",
        "0 & 1 & 0 & 0\n",
        "\\end{pmatrix}.\n",
        "$$\n",
        "\n"
      ]
    },
    {
      "cell_type": "code",
      "execution_count": 19,
      "metadata": {
        "ExecuteTime": {
          "end_time": "2021-07-31T05:11:59.251955Z",
          "start_time": "2021-07-31T05:11:59.245837Z"
        },
        "id": "C41_IzQTaw7p",
        "outputId": "bcad44d6-a59d-4284-b848-2f1646254a63",
        "colab": {
          "base_uri": "https://localhost:8080/",
          "height": 94
        }
      },
      "outputs": [
        {
          "output_type": "execute_result",
          "data": {
            "text/plain": [
              "           \n",
              "q2_0: ──■──\n",
              "      ┌─┴─┐\n",
              "q2_1: ┤ X ├\n",
              "      └───┘"
            ],
            "text/html": [
              "<pre style=\"word-wrap: normal;white-space: pre;background: #fff0;line-height: 1.1;font-family: &quot;Courier New&quot;,Courier,monospace\">           \n",
              "q2_0: ──■──\n",
              "      ┌─┴─┐\n",
              "q2_1: ┤ X ├\n",
              "      └───┘</pre>"
            ]
          },
          "metadata": {},
          "execution_count": 19
        }
      ],
      "source": [
        "qc = QuantumCircuit(q)\n",
        "qc.cx(q[0],q[1])\n",
        "qc.draw()"
      ]
    },
    {
      "cell_type": "code",
      "execution_count": 34,
      "metadata": {
        "ExecuteTime": {
          "end_time": "2021-07-31T05:12:02.300793Z",
          "start_time": "2021-07-31T05:12:02.292637Z"
        },
        "id": "uvq6erUZaw7q",
        "outputId": "2a1d0a3f-7283-4541-b634-94af0538fb00",
        "colab": {
          "base_uri": "https://localhost:8080/"
        }
      },
      "outputs": [
        {
          "output_type": "stream",
          "name": "stdout",
          "text": [
            "Operator([[1.+0.j, 0.+0.j, 0.+0.j, 0.+0.j],\n",
            "          [0.+0.j, 0.+0.j, 0.+0.j, 1.+0.j],\n",
            "          [0.+0.j, 0.+0.j, 1.+0.j, 0.+0.j],\n",
            "          [0.+0.j, 1.+0.j, 0.+0.j, 0.+0.j]],\n",
            "         input_dims=(2, 2), output_dims=(2, 2))\n"
          ]
        }
      ],
      "source": [
        "job = backend.run(transpile(qc, backend))\n",
        "job.result().get_unitary(qc, decimals=3)"
      ]
    },
    {
      "cell_type": "markdown",
      "metadata": {
        "id": "ST5C2X49aw7q"
      },
      "source": [
        "#### Controlled $Y$ gate\n",
        "\n",
        "Apply the $Y$ gate to the target qubit if the control qubit is the MSB\n",
        "\n",
        "$$\n",
        "C_Y =\n",
        "\\begin{pmatrix}\n",
        "1 & 0 & 0 & 0\\\\\n",
        "0 & 1 & 0 & 0\\\\\n",
        "0 & 0 & 0 & -i\\\\\n",
        "0 & 0 & i & 0\n",
        "\\end{pmatrix},\n",
        "$$\n",
        "\n",
        "or when the LSB is the control\n",
        "\n",
        "$$\n",
        "C_Y =\n",
        "\\begin{pmatrix}\n",
        "1 & 0 & 0 & 0\\\\\n",
        "0 & 0 & 0 & -i\\\\\n",
        "0 & 0 & 1 & 0\\\\\n",
        "0 & i & 0 & 0\n",
        "\\end{pmatrix}.\n",
        "$$"
      ]
    },
    {
      "cell_type": "code",
      "execution_count": 35,
      "metadata": {
        "ExecuteTime": {
          "end_time": "2021-07-31T05:12:04.293988Z",
          "start_time": "2021-07-31T05:12:04.285941Z"
        },
        "id": "B0ioDbbZaw7q",
        "outputId": "b8908c7c-9027-42a5-8e3e-e53b51cc303c",
        "colab": {
          "base_uri": "https://localhost:8080/",
          "height": 94
        }
      },
      "outputs": [
        {
          "output_type": "execute_result",
          "data": {
            "text/plain": [
              "           \n",
              "q2_0: ──■──\n",
              "      ┌─┴─┐\n",
              "q2_1: ┤ Y ├\n",
              "      └───┘"
            ],
            "text/html": [
              "<pre style=\"word-wrap: normal;white-space: pre;background: #fff0;line-height: 1.1;font-family: &quot;Courier New&quot;,Courier,monospace\">           \n",
              "q2_0: ──■──\n",
              "      ┌─┴─┐\n",
              "q2_1: ┤ Y ├\n",
              "      └───┘</pre>"
            ]
          },
          "metadata": {},
          "execution_count": 35
        }
      ],
      "source": [
        "qc = QuantumCircuit(q)\n",
        "qc.cy(q[0],q[1])\n",
        "qc.draw()"
      ]
    },
    {
      "cell_type": "code",
      "execution_count": 36,
      "metadata": {
        "ExecuteTime": {
          "end_time": "2021-07-31T05:12:07.042556Z",
          "start_time": "2021-07-31T05:12:07.031367Z"
        },
        "id": "rhc4Ehapaw7q",
        "outputId": "c6cdb19c-0c21-4d74-a9de-ea9c920246d0",
        "colab": {
          "base_uri": "https://localhost:8080/"
        }
      },
      "outputs": [
        {
          "output_type": "stream",
          "name": "stdout",
          "text": [
            "Operator([[1.+0.j, 0.+0.j, 0.+0.j, 0.+0.j],\n",
            "          [0.-0.j, 0.-0.j, 0.-0.j, 0.-1.j],\n",
            "          [0.+0.j, 0.+0.j, 1.+0.j, 0.+0.j],\n",
            "          [0.+0.j, 0.+1.j, 0.+0.j, 0.+0.j]],\n",
            "         input_dims=(2, 2), output_dims=(2, 2))\n"
          ]
        }
      ],
      "source": [
        "job = backend.run(transpile(qc, backend))\n",
        "job.result().get_unitary(qc, decimals=3)"
      ]
    },
    {
      "cell_type": "markdown",
      "metadata": {
        "id": "MBpjEOUkaw7q"
      },
      "source": [
        "#### Controlled $Z$ (or, controlled Phase-Flip) gate\n",
        "\n",
        "Similarly, the controlled Z gate flips the phase of the target qubit if the control qubit is $\\left|1\\right\\rangle$. The matrix looks the same regardless of whether the MSB or LSB is the control qubit:\n",
        "\n",
        "$$\n",
        "C_Z =\n",
        "\\begin{pmatrix}\n",
        "1 & 0 & 0 & 0\\\\\n",
        "0 & 1 & 0 & 0\\\\\n",
        "0 & 0 & 1 & 0\\\\\n",
        "0 & 0 & 0 & -1\n",
        "\\end{pmatrix}\n",
        "$$\n"
      ]
    },
    {
      "cell_type": "code",
      "execution_count": 37,
      "metadata": {
        "ExecuteTime": {
          "end_time": "2021-07-31T05:12:08.397786Z",
          "start_time": "2021-07-31T05:12:08.392065Z"
        },
        "id": "5ebKE-kGaw7q",
        "outputId": "20d3fa41-50c2-48a6-82d4-ccce602856ae",
        "colab": {
          "base_uri": "https://localhost:8080/",
          "height": 94
        }
      },
      "outputs": [
        {
          "output_type": "execute_result",
          "data": {
            "text/plain": [
              "         \n",
              "q2_0: ─■─\n",
              "       │ \n",
              "q2_1: ─■─\n",
              "         "
            ],
            "text/html": [
              "<pre style=\"word-wrap: normal;white-space: pre;background: #fff0;line-height: 1.1;font-family: &quot;Courier New&quot;,Courier,monospace\">         \n",
              "q2_0: ─■─\n",
              "       │ \n",
              "q2_1: ─■─\n",
              "         </pre>"
            ]
          },
          "metadata": {},
          "execution_count": 37
        }
      ],
      "source": [
        "qc = QuantumCircuit(q)\n",
        "qc.cz(q[0],q[1])\n",
        "qc.draw()"
      ]
    },
    {
      "cell_type": "code",
      "execution_count": 38,
      "metadata": {
        "ExecuteTime": {
          "end_time": "2021-07-31T05:12:10.259460Z",
          "start_time": "2021-07-31T05:12:10.246478Z"
        },
        "id": "swjD9CkRaw7q",
        "outputId": "0132627a-fe35-4222-ebb9-8e932a18bb5b",
        "colab": {
          "base_uri": "https://localhost:8080/"
        }
      },
      "outputs": [
        {
          "output_type": "stream",
          "name": "stdout",
          "text": [
            "Operator([[ 1.+0.j,  0.+0.j,  0.+0.j,  0.+0.j],\n",
            "          [ 0.+0.j,  1.+0.j,  0.+0.j,  0.+0.j],\n",
            "          [ 0.+0.j,  0.+0.j,  1.+0.j,  0.+0.j],\n",
            "          [-0.+0.j, -0.+0.j, -0.+0.j, -1.+0.j]],\n",
            "         input_dims=(2, 2), output_dims=(2, 2))\n"
          ]
        }
      ],
      "source": [
        "job = backend.run(transpile(qc, backend))\n",
        "job.result().get_unitary(qc, decimals=3)"
      ]
    },
    {
      "cell_type": "markdown",
      "metadata": {
        "id": "NGv8JP7Oaw7r"
      },
      "source": [
        "### Controlled Hadamard gate\n",
        "\n",
        "Apply $H$ gate to the target qubit if the control qubit is $\\left|1\\right\\rangle$. Below is the case where the control is the LSB qubit.\n",
        "\n",
        "$$\n",
        "C_H =\n",
        "\\begin{pmatrix}\n",
        "1 & 0 & 0 & 0\\\\\n",
        "0 & \\frac{1}{\\sqrt{2}} & 0 & \\frac{1}{\\sqrt{2}}\\\\\n",
        "0 & 0 & 1 & 0\\\\\n",
        "0 & \\frac{1}{\\sqrt{2}}  & 0& -\\frac{1}{\\sqrt{2}}\n",
        "\\end{pmatrix}\n",
        "$$"
      ]
    },
    {
      "cell_type": "code",
      "execution_count": 39,
      "metadata": {
        "ExecuteTime": {
          "end_time": "2021-07-31T05:12:11.524751Z",
          "start_time": "2021-07-31T05:12:11.518946Z"
        },
        "id": "vdBDYLZ-aw7r",
        "outputId": "e427eb5e-3aac-44ae-feec-09f65bf9d271",
        "colab": {
          "base_uri": "https://localhost:8080/",
          "height": 94
        }
      },
      "outputs": [
        {
          "output_type": "execute_result",
          "data": {
            "text/plain": [
              "           \n",
              "q2_0: ──■──\n",
              "      ┌─┴─┐\n",
              "q2_1: ┤ H ├\n",
              "      └───┘"
            ],
            "text/html": [
              "<pre style=\"word-wrap: normal;white-space: pre;background: #fff0;line-height: 1.1;font-family: &quot;Courier New&quot;,Courier,monospace\">           \n",
              "q2_0: ──■──\n",
              "      ┌─┴─┐\n",
              "q2_1: ┤ H ├\n",
              "      └───┘</pre>"
            ]
          },
          "metadata": {},
          "execution_count": 39
        }
      ],
      "source": [
        "qc = QuantumCircuit(q)\n",
        "qc.ch(q[0],q[1])\n",
        "qc.draw()"
      ]
    },
    {
      "cell_type": "code",
      "execution_count": 40,
      "metadata": {
        "ExecuteTime": {
          "end_time": "2021-07-31T05:12:13.607426Z",
          "start_time": "2021-07-31T05:12:13.594156Z"
        },
        "id": "_MLCnxs6aw7r",
        "outputId": "4618cb38-0b6e-4e13-b24d-85173ff71c50",
        "colab": {
          "base_uri": "https://localhost:8080/"
        }
      },
      "outputs": [
        {
          "output_type": "stream",
          "name": "stdout",
          "text": [
            "Operator([[ 1.   -0.j,  0.   +0.j, -0.   +0.j,  0.   +0.j],\n",
            "          [ 0.   +0.j,  0.707-0.j,  0.   +0.j,  0.707-0.j],\n",
            "          [ 0.   +0.j,  0.   +0.j,  1.   +0.j,  0.   +0.j],\n",
            "          [ 0.   +0.j,  0.707+0.j,  0.   +0.j, -0.707+0.j]],\n",
            "         input_dims=(2, 2), output_dims=(2, 2))\n"
          ]
        }
      ],
      "source": [
        "job = backend.run(transpile(qc, backend))\n",
        "job.result().get_unitary(qc, decimals=3)"
      ]
    },
    {
      "cell_type": "markdown",
      "metadata": {
        "id": "LvK-T7b5aw7r"
      },
      "source": [
        "### Controlled rotation gates\n",
        "\n",
        "#### Controlled rotation around Z-axis\n",
        "\n",
        "Perform rotation around Z-axis on the target qubit if the control qubit (here LSB) is $\\left|1\\right\\rangle$.\n",
        "\n",
        "$$\n",
        "C_{Rz}(\\lambda) =\n",
        "\\begin{pmatrix}\n",
        "1 & 0 & 0 & 0\\\\\n",
        "0 & e^{-i\\lambda/2} & 0 & 0\\\\\n",
        "0 & 0 & 1 & 0\\\\\n",
        "0 & 0 & 0 & e^{i\\lambda/2}\n",
        "\\end{pmatrix}\n",
        "$$"
      ]
    },
    {
      "cell_type": "code",
      "execution_count": 41,
      "metadata": {
        "ExecuteTime": {
          "end_time": "2021-07-31T05:12:14.970661Z",
          "start_time": "2021-07-31T05:12:14.961038Z"
        },
        "id": "I31e8LRFaw7r",
        "outputId": "32fb2c93-44e0-4d88-bcf4-8109911b5ddf",
        "colab": {
          "base_uri": "https://localhost:8080/",
          "height": 94
        }
      },
      "outputs": [
        {
          "output_type": "execute_result",
          "data": {
            "text/plain": [
              "                 \n",
              "q2_0: ─────■─────\n",
              "      ┌────┴────┐\n",
              "q2_1: ┤ Rz(π/2) ├\n",
              "      └─────────┘"
            ],
            "text/html": [
              "<pre style=\"word-wrap: normal;white-space: pre;background: #fff0;line-height: 1.1;font-family: &quot;Courier New&quot;,Courier,monospace\">                 \n",
              "q2_0: ─────■─────\n",
              "      ┌────┴────┐\n",
              "q2_1: ┤ Rz(π/2) ├\n",
              "      └─────────┘</pre>"
            ]
          },
          "metadata": {},
          "execution_count": 41
        }
      ],
      "source": [
        "qc = QuantumCircuit(q)\n",
        "qc.crz(pi/2,q[0],q[1])\n",
        "qc.draw()"
      ]
    },
    {
      "cell_type": "code",
      "execution_count": 42,
      "metadata": {
        "ExecuteTime": {
          "end_time": "2021-07-31T05:12:17.186696Z",
          "start_time": "2021-07-31T05:12:17.171628Z"
        },
        "id": "d10Ol2Jhaw7r",
        "outputId": "a1f7258b-e0a2-4f7a-8172-daacae862b4b",
        "colab": {
          "base_uri": "https://localhost:8080/"
        }
      },
      "outputs": [
        {
          "output_type": "stream",
          "name": "stdout",
          "text": [
            "Operator([[1.   +0.j   , 0.   +0.j   , 0.   +0.j   , 0.   +0.j   ],\n",
            "          [0.   +0.j   , 0.707-0.707j, 0.   +0.j   , 0.   +0.j   ],\n",
            "          [0.   +0.j   , 0.   +0.j   , 1.   +0.j   , 0.   +0.j   ],\n",
            "          [0.   +0.j   , 0.   +0.j   , 0.   +0.j   , 0.707+0.707j]],\n",
            "         input_dims=(2, 2), output_dims=(2, 2))\n"
          ]
        }
      ],
      "source": [
        "job = backend.run(transpile(qc, backend))\n",
        "job.result().get_unitary(qc, decimals=3)"
      ]
    },
    {
      "cell_type": "markdown",
      "metadata": {
        "id": "vy2VhlXBaw7s"
      },
      "source": [
        "### Controlled phase rotation\n",
        "\n",
        "Perform a phase rotation if both qubits are in the $\\left|11\\right\\rangle$ state. The matrix looks the same regardless of whether the MSB or LSB is the control qubit.\n",
        "\n",
        "$$\n",
        "C_{p}(\\lambda) =\n",
        "\\begin{pmatrix}\n",
        "1 & 0 & 0 & 0\\\\\n",
        "0 & 1 & 0 & 0\\\\\n",
        "0 & 0 & 1 & 0\\\\\n",
        "0 & 0 & 0 & e^{i\\lambda}\n",
        "\\end{pmatrix}\n",
        "$$"
      ]
    },
    {
      "cell_type": "code",
      "execution_count": 43,
      "metadata": {
        "ExecuteTime": {
          "end_time": "2021-07-31T05:12:36.826264Z",
          "start_time": "2021-07-31T05:12:36.820988Z"
        },
        "id": "46EI6uywaw7s",
        "outputId": "ae27837b-d7e3-4795-fe9b-72857812b3bb",
        "colab": {
          "base_uri": "https://localhost:8080/",
          "height": 94
        }
      },
      "outputs": [
        {
          "output_type": "execute_result",
          "data": {
            "text/plain": [
              "               \n",
              "q2_0: ─■───────\n",
              "       │P(π/2) \n",
              "q2_1: ─■───────\n",
              "               "
            ],
            "text/html": [
              "<pre style=\"word-wrap: normal;white-space: pre;background: #fff0;line-height: 1.1;font-family: &quot;Courier New&quot;,Courier,monospace\">               \n",
              "q2_0: ─■───────\n",
              "       │P(π/2) \n",
              "q2_1: ─■───────\n",
              "               </pre>"
            ]
          },
          "metadata": {},
          "execution_count": 43
        }
      ],
      "source": [
        "qc = QuantumCircuit(q)\n",
        "qc.cp(pi/2,q[0], q[1])\n",
        "qc.draw()"
      ]
    },
    {
      "cell_type": "code",
      "execution_count": 44,
      "metadata": {
        "ExecuteTime": {
          "end_time": "2021-07-31T05:12:39.234989Z",
          "start_time": "2021-07-31T05:12:39.222992Z"
        },
        "id": "eb_7XlzIaw7s",
        "outputId": "d466e29d-a15b-4af8-bd7c-42c4c86e0941",
        "colab": {
          "base_uri": "https://localhost:8080/"
        }
      },
      "outputs": [
        {
          "output_type": "stream",
          "name": "stdout",
          "text": [
            "Operator([[1.+0.j, 0.+0.j, 0.+0.j, 0.+0.j],\n",
            "          [0.+0.j, 1.+0.j, 0.+0.j, 0.+0.j],\n",
            "          [0.+0.j, 0.+0.j, 1.+0.j, 0.+0.j],\n",
            "          [0.+0.j, 0.+0.j, 0.+0.j, 0.+1.j]],\n",
            "         input_dims=(2, 2), output_dims=(2, 2))\n"
          ]
        }
      ],
      "source": [
        "job = backend.run(transpile(qc, backend))\n",
        "job.result().get_unitary(qc, decimals=3)"
      ]
    },
    {
      "cell_type": "markdown",
      "metadata": {
        "id": "oAfaSWiraw7s"
      },
      "source": [
        "### Controlled $u$ rotation\n",
        "\n",
        "Perform controlled-$u$ rotation on the target qubit if the control qubit (here LSB) is $\\left|1\\right\\rangle$.\n",
        "\n",
        "$$\n",
        "C_{u}(\\theta, \\phi, \\lambda) \\equiv\n",
        "\\begin{pmatrix}\n",
        "1 & 0 & 0 & 0\\\\\n",
        "0 & e^{-i(\\phi+\\lambda)/2}\\cos(\\theta/2) & 0 & -e^{-i(\\phi-\\lambda)/2}\\sin(\\theta/2)\\\\\n",
        "0 & 0 & 1 & 0\\\\\n",
        "0 & e^{i(\\phi-\\lambda)/2}\\sin(\\theta/2) & 0 & e^{i(\\phi+\\lambda)/2}\\cos(\\theta/2)\n",
        "\\end{pmatrix}.\n",
        "$$"
      ]
    },
    {
      "cell_type": "code",
      "execution_count": 45,
      "metadata": {
        "ExecuteTime": {
          "end_time": "2021-07-31T05:13:19.155213Z",
          "start_time": "2021-07-31T05:13:19.148466Z"
        },
        "id": "geNohzPOaw7s",
        "outputId": "a6220d97-bbda-4a18-8c60-77ac1ce353a1",
        "colab": {
          "base_uri": "https://localhost:8080/",
          "height": 94
        }
      },
      "outputs": [
        {
          "output_type": "execute_result",
          "data": {
            "text/plain": [
              "                          \n",
              "q2_0: ─────────■──────────\n",
              "      ┌────────┴─────────┐\n",
              "q2_1: ┤ U(π/2,π/2,π/2,0) ├\n",
              "      └──────────────────┘"
            ],
            "text/html": [
              "<pre style=\"word-wrap: normal;white-space: pre;background: #fff0;line-height: 1.1;font-family: &quot;Courier New&quot;,Courier,monospace\">                          \n",
              "q2_0: ─────────■──────────\n",
              "      ┌────────┴─────────┐\n",
              "q2_1: ┤ U(π/2,π/2,π/2,0) ├\n",
              "      └──────────────────┘</pre>"
            ]
          },
          "metadata": {},
          "execution_count": 45
        }
      ],
      "source": [
        "qc = QuantumCircuit(q)\n",
        "qc.cu(pi/2, pi/2, pi/2, 0, q[0], q[1])\n",
        "qc.draw()"
      ]
    },
    {
      "cell_type": "code",
      "execution_count": 46,
      "metadata": {
        "ExecuteTime": {
          "end_time": "2021-07-31T05:13:24.393740Z",
          "start_time": "2021-07-31T05:13:24.378958Z"
        },
        "id": "m8XUckcSaw7s",
        "outputId": "2e77d141-61be-4bc9-c35f-c4ef1d2d7266",
        "colab": {
          "base_uri": "https://localhost:8080/"
        }
      },
      "outputs": [
        {
          "output_type": "stream",
          "name": "stdout",
          "text": [
            "Operator([[ 1.   +0.j   ,  0.   +0.j   ,  0.   +0.j   ,  0.   +0.j   ],\n",
            "          [ 0.   +0.j   ,  0.707+0.j   ,  0.   +0.j   , -0.   -0.707j],\n",
            "          [ 0.   +0.j   ,  0.   +0.j   ,  1.   +0.j   ,  0.   +0.j   ],\n",
            "          [ 0.   +0.j   ,  0.   +0.707j,  0.   +0.j   , -0.707+0.j   ]],\n",
            "         input_dims=(2, 2), output_dims=(2, 2))\n"
          ]
        }
      ],
      "source": [
        "job = backend.run(transpile(qc, backend))\n",
        "job.result().get_unitary(qc, decimals=3)"
      ]
    },
    {
      "cell_type": "markdown",
      "metadata": {
        "id": "zR3rMDWsaw7t"
      },
      "source": [
        "### SWAP gate\n",
        "\n",
        "The SWAP gate exchanges the two qubits. It transforms the basis vectors as\n",
        "\n",
        "$$\\left|00\\right\\rangle \\rightarrow \\left|00\\right\\rangle~,~\\left|01\\right\\rangle \\rightarrow \\left|10\\right\\rangle~,~\\left|10\\right\\rangle \\rightarrow \\left|01\\right\\rangle~,~\\left|11\\right\\rangle \\rightarrow \\left|11\\right\\rangle,$$\n",
        "\n",
        "which gives a matrix representation of the form\n",
        "\n",
        "$$\n",
        "\\mathrm{SWAP} =\n",
        "\\begin{pmatrix}\n",
        "1 & 0 & 0 & 0\\\\\n",
        "0 & 0 & 1 & 0\\\\\n",
        "0 & 1 & 0 & 0\\\\\n",
        "0 & 0 & 0 & 1\n",
        "\\end{pmatrix}.\n",
        "$$"
      ]
    },
    {
      "cell_type": "code",
      "execution_count": 47,
      "metadata": {
        "ExecuteTime": {
          "end_time": "2021-07-31T05:13:26.189896Z",
          "start_time": "2021-07-31T05:13:26.184311Z"
        },
        "id": "kqQ8ALEMaw7t",
        "outputId": "675b7677-8c22-41cc-a704-a741c57abcb1",
        "colab": {
          "base_uri": "https://localhost:8080/",
          "height": 94
        }
      },
      "outputs": [
        {
          "output_type": "execute_result",
          "data": {
            "text/plain": [
              "         \n",
              "q2_0: ─X─\n",
              "       │ \n",
              "q2_1: ─X─\n",
              "         "
            ],
            "text/html": [
              "<pre style=\"word-wrap: normal;white-space: pre;background: #fff0;line-height: 1.1;font-family: &quot;Courier New&quot;,Courier,monospace\">         \n",
              "q2_0: ─X─\n",
              "       │ \n",
              "q2_1: ─X─\n",
              "         </pre>"
            ]
          },
          "metadata": {},
          "execution_count": 47
        }
      ],
      "source": [
        "qc = QuantumCircuit(q)\n",
        "qc.swap(q[0], q[1])\n",
        "qc.draw()"
      ]
    },
    {
      "cell_type": "code",
      "execution_count": 48,
      "metadata": {
        "ExecuteTime": {
          "end_time": "2021-07-31T05:13:28.555864Z",
          "start_time": "2021-07-31T05:13:28.545777Z"
        },
        "id": "ffPmRp6Vaw7t",
        "outputId": "26ae8184-c7ee-4e75-c25b-4ec8935b578c",
        "colab": {
          "base_uri": "https://localhost:8080/"
        }
      },
      "outputs": [
        {
          "output_type": "stream",
          "name": "stdout",
          "text": [
            "Operator([[1.+0.j, 0.+0.j, 0.+0.j, 0.+0.j],\n",
            "          [0.+0.j, 1.+0.j, 0.+0.j, 0.+0.j],\n",
            "          [0.+0.j, 0.+0.j, 1.+0.j, 0.+0.j],\n",
            "          [0.+0.j, 0.+0.j, 0.+0.j, 1.+0.j]],\n",
            "         input_dims=(2, 2), output_dims=(2, 2))\n"
          ]
        }
      ],
      "source": [
        "job = backend.run(transpile(qc, backend))\n",
        "job.result().get_unitary(qc, decimals=3)"
      ]
    },
    {
      "cell_type": "markdown",
      "metadata": {
        "id": "sJtz-Wf1aw7t"
      },
      "source": [
        "## Three-qubit gates <a name=\"three_gates\"/>\n",
        "\n",
        "\n",
        "There are two commonly-used three-qubit gates. For three qubits, the basis vectors are ordered as\n",
        "\n",
        "$$\\left|000\\right\\rangle, \\left|001\\right\\rangle, \\left|010\\right\\rangle, \\left|011\\right\\rangle, \\left|100\\right\\rangle, \\left|101\\right\\rangle, \\left|110\\right\\rangle, \\left|111\\right\\rangle,$$\n",
        "\n",
        "which, as bitstrings, represent the integers $0,1,2,\\cdots, 7$. Again, Qiskit uses a representation in which the first qubit is on the right-most side of the tensor product and the third qubit is on the left-most side:\n",
        "\n",
        "$$\\left|abc\\right\\rangle : \\underset{\\text{qubit 2}}{\\left|a\\right\\rangle}\\otimes \\underset{\\text{qubit 1}}{\\left|b\\right\\rangle}\\otimes \\underset{\\text{qubit 0}}{\\left|c\\right\\rangle}.$$"
      ]
    },
    {
      "cell_type": "markdown",
      "metadata": {
        "id": "Qojr0jtSaw7t"
      },
      "source": [
        "### Toffoli gate ($ccx$ gate)\n",
        "\n",
        "The [Toffoli gate](https://en.wikipedia.org/wiki/Quantum_logic_gate#Toffoli_(CCNOT)_gate) flips the third qubit if the first two qubits (LSB) are both $\\left|1\\right\\rangle$:\n",
        "\n",
        "$$\\left|abc\\right\\rangle \\rightarrow \\left|bc\\oplus a\\right\\rangle \\otimes \\left|b\\right\\rangle \\otimes \\left|c\\right\\rangle.$$\n",
        "\n",
        "In matrix form, the Toffoli gate is\n",
        "$$\n",
        "C_{CX} =\n",
        "\\begin{pmatrix}\n",
        "1 & 0 & 0 & 0 & 0 & 0 & 0 & 0\\\\\n",
        "0 & 1 & 0 & 0 & 0 & 0 & 0 & 0\\\\\n",
        "0 & 0 & 1 & 0 & 0 & 0 & 0 & 0\\\\\n",
        "0 & 0 & 0 & 0 & 0 & 0 & 0 & 1\\\\\n",
        "0 & 0 & 0 & 0 & 1 & 0 & 0 & 0\\\\\n",
        "0 & 0 & 0 & 0 & 0 & 1 & 0 & 0\\\\\n",
        "0 & 0 & 0 & 0 & 0 & 0 & 1 & 0\\\\\n",
        "0 & 0 & 0 & 1 & 0 & 0 & 0 & 0\n",
        "\\end{pmatrix}.\n",
        "$$"
      ]
    },
    {
      "cell_type": "code",
      "execution_count": 49,
      "metadata": {
        "ExecuteTime": {
          "end_time": "2021-07-31T05:13:31.317251Z",
          "start_time": "2021-07-31T05:13:31.314100Z"
        },
        "id": "G7niDPa7aw7t"
      },
      "outputs": [],
      "source": [
        "q = QuantumRegister(3)"
      ]
    },
    {
      "cell_type": "code",
      "execution_count": 50,
      "metadata": {
        "ExecuteTime": {
          "end_time": "2021-07-31T05:13:31.638567Z",
          "start_time": "2021-07-31T05:13:31.633001Z"
        },
        "id": "ngL6qYQyaw7t",
        "outputId": "acb9013e-cce2-4fed-95e9-7f58ee49b7c4",
        "colab": {
          "base_uri": "https://localhost:8080/",
          "height": 125
        }
      },
      "outputs": [
        {
          "output_type": "execute_result",
          "data": {
            "text/plain": [
              "           \n",
              "q5_0: ──■──\n",
              "        │  \n",
              "q5_1: ──■──\n",
              "      ┌─┴─┐\n",
              "q5_2: ┤ X ├\n",
              "      └───┘"
            ],
            "text/html": [
              "<pre style=\"word-wrap: normal;white-space: pre;background: #fff0;line-height: 1.1;font-family: &quot;Courier New&quot;,Courier,monospace\">           \n",
              "q5_0: ──■──\n",
              "        │  \n",
              "q5_1: ──■──\n",
              "      ┌─┴─┐\n",
              "q5_2: ┤ X ├\n",
              "      └───┘</pre>"
            ]
          },
          "metadata": {},
          "execution_count": 50
        }
      ],
      "source": [
        "qc = QuantumCircuit(q)\n",
        "qc.ccx(q[0], q[1], q[2])\n",
        "qc.draw()"
      ]
    },
    {
      "cell_type": "code",
      "execution_count": 51,
      "metadata": {
        "ExecuteTime": {
          "end_time": "2021-07-31T05:13:33.704467Z",
          "start_time": "2021-07-31T05:13:33.686210Z"
        },
        "id": "8udp6G3-aw7u",
        "outputId": "029dddd6-28cd-44af-b88c-3850efff385b",
        "colab": {
          "base_uri": "https://localhost:8080/"
        }
      },
      "outputs": [
        {
          "output_type": "stream",
          "name": "stdout",
          "text": [
            "Operator([[1.+0.j, 0.+0.j, 0.+0.j, 0.+0.j, 0.+0.j, 0.+0.j, 0.+0.j, 0.+0.j],\n",
            "          [0.+0.j, 1.+0.j, 0.+0.j, 0.+0.j, 0.+0.j, 0.+0.j, 0.+0.j, 0.+0.j],\n",
            "          [0.+0.j, 0.+0.j, 1.+0.j, 0.+0.j, 0.+0.j, 0.+0.j, 0.+0.j, 0.+0.j],\n",
            "          [0.+0.j, 0.+0.j, 0.+0.j, 0.+0.j, 0.+0.j, 0.+0.j, 0.+0.j, 1.+0.j],\n",
            "          [0.+0.j, 0.+0.j, 0.+0.j, 0.+0.j, 1.+0.j, 0.+0.j, 0.+0.j, 0.+0.j],\n",
            "          [0.+0.j, 0.+0.j, 0.+0.j, 0.+0.j, 0.+0.j, 1.+0.j, 0.+0.j, 0.+0.j],\n",
            "          [0.+0.j, 0.+0.j, 0.+0.j, 0.+0.j, 0.+0.j, 0.+0.j, 1.+0.j, 0.+0.j],\n",
            "          [0.+0.j, 0.+0.j, 0.+0.j, 1.+0.j, 0.+0.j, 0.+0.j, 0.+0.j, 0.+0.j]],\n",
            "         input_dims=(2, 2, 2), output_dims=(2, 2, 2))\n"
          ]
        }
      ],
      "source": [
        "job = backend.run(transpile(qc, backend))\n",
        "job.result().get_unitary(qc, decimals=3)"
      ]
    },
    {
      "cell_type": "markdown",
      "metadata": {
        "id": "HQmbmen8aw7u"
      },
      "source": [
        "### Controlled swap gate (Fredkin Gate)\n",
        "\n",
        "The [Fredkin gate](https://en.wikipedia.org/wiki/Quantum_logic_gate#Fredkin_(CSWAP)_gate), or the *controlled swap gate*, exchanges the second and third qubits if the first qubit (LSB) is $\\left|1\\right\\rangle$:\n",
        "\n",
        "$$ \\left|abc\\right\\rangle \\rightarrow \\begin{cases} \\left|bac\\right\\rangle~~\\text{if}~c=1 \\cr \\left|abc\\right\\rangle~~\\text{if}~c=0 \\end{cases}.$$\n",
        "\n",
        "In matrix form, the Fredkin gate is\n",
        "\n",
        "$$\n",
        "C_{\\mathrm{SWAP}} =\n",
        "\\begin{pmatrix}\n",
        "1 & 0 & 0 & 0 & 0 & 0 & 0 & 0\\\\\n",
        "0 & 1 & 0 & 0 & 0 & 0 & 0 & 0\\\\\n",
        "0 & 0 & 1 & 0 & 0 & 0 & 0 & 0\\\\\n",
        "0 & 0 & 0 & 0 & 0 & 1 & 0 & 0\\\\\n",
        "0 & 0 & 0 & 0 & 1 & 0 & 0 & 0\\\\\n",
        "0 & 0 & 0 & 1 & 0 & 0 & 0 & 0\\\\\n",
        "0 & 0 & 0 & 0 & 0 & 0 & 1 & 0\\\\\n",
        "0 & 0 & 0 & 0 & 0 & 0 & 0 & 1\n",
        "\\end{pmatrix}.\n",
        "$$"
      ]
    },
    {
      "cell_type": "code",
      "execution_count": 52,
      "metadata": {
        "ExecuteTime": {
          "end_time": "2021-07-31T05:13:35.557144Z",
          "start_time": "2021-07-31T05:13:35.551515Z"
        },
        "id": "lhgJf21law7u",
        "outputId": "59657020-ebb1-4183-ef7c-86e0dd598038",
        "colab": {
          "base_uri": "https://localhost:8080/",
          "height": 125
        }
      },
      "outputs": [
        {
          "output_type": "execute_result",
          "data": {
            "text/plain": [
              "         \n",
              "q5_0: ─■─\n",
              "       │ \n",
              "q5_1: ─X─\n",
              "       │ \n",
              "q5_2: ─X─\n",
              "         "
            ],
            "text/html": [
              "<pre style=\"word-wrap: normal;white-space: pre;background: #fff0;line-height: 1.1;font-family: &quot;Courier New&quot;,Courier,monospace\">         \n",
              "q5_0: ─■─\n",
              "       │ \n",
              "q5_1: ─X─\n",
              "       │ \n",
              "q5_2: ─X─\n",
              "         </pre>"
            ]
          },
          "metadata": {},
          "execution_count": 52
        }
      ],
      "source": [
        "qc = QuantumCircuit(q)\n",
        "qc.cswap(q[0], q[1], q[2])\n",
        "qc.draw()"
      ]
    },
    {
      "cell_type": "code",
      "execution_count": 53,
      "metadata": {
        "ExecuteTime": {
          "end_time": "2021-07-31T05:13:38.233786Z",
          "start_time": "2021-07-31T05:13:38.215070Z"
        },
        "id": "_E906Xviaw7u",
        "outputId": "d2bc0a0e-3fc6-4182-f42d-85155ea0cba4",
        "colab": {
          "base_uri": "https://localhost:8080/"
        }
      },
      "outputs": [
        {
          "output_type": "stream",
          "name": "stdout",
          "text": [
            "Operator([[1.+0.j, 0.+0.j, 0.+0.j, 0.+0.j, 0.+0.j, 0.+0.j, 0.+0.j, 0.+0.j],\n",
            "          [0.+0.j, 1.+0.j, 0.+0.j, 0.+0.j, 0.+0.j, 0.+0.j, 0.+0.j, 0.+0.j],\n",
            "          [0.+0.j, 0.+0.j, 1.+0.j, 0.+0.j, 0.+0.j, 0.+0.j, 0.+0.j, 0.+0.j],\n",
            "          [0.+0.j, 0.+0.j, 0.+0.j, 0.+0.j, 0.+0.j, 1.+0.j, 0.+0.j, 0.+0.j],\n",
            "          [0.+0.j, 0.+0.j, 0.+0.j, 0.+0.j, 1.+0.j, 0.+0.j, 0.+0.j, 0.+0.j],\n",
            "          [0.+0.j, 0.+0.j, 0.+0.j, 1.+0.j, 0.+0.j, 0.+0.j, 0.+0.j, 0.+0.j],\n",
            "          [0.+0.j, 0.+0.j, 0.+0.j, 0.+0.j, 0.+0.j, 0.+0.j, 1.+0.j, 0.+0.j],\n",
            "          [0.+0.j, 0.+0.j, 0.+0.j, 0.+0.j, 0.+0.j, 0.+0.j, 0.+0.j, 1.+0.j]],\n",
            "         input_dims=(2, 2, 2), output_dims=(2, 2, 2))\n"
          ]
        }
      ],
      "source": [
        "job = backend.run(transpile(qc, backend))\n",
        "job.result().get_unitary(qc, decimals=3)"
      ]
    },
    {
      "cell_type": "markdown",
      "metadata": {
        "id": "jyTc1XBWRmxA"
      },
      "source": [
        "### Inverse\n",
        "\n",
        "In Qiskit, individual gates as well as the whole circuit may get inversed. It is implemented by using the .inverse() method for single gates.\n",
        "\n"
      ]
    },
    {
      "cell_type": "code",
      "source": [
        "from qiskit.circuit.library import HGate\n",
        "from qiskit.circuit.library import RXGate, RZGate\n",
        "import numpy as np\n",
        "qc = QuantumCircuit(q)\n",
        "qc.rx(pi/2, q[0])\n",
        "qc.rx(pi/2, q[0]).inverse()\n",
        "qc.h(q[0])\n",
        "#qc.draw('text')\n",
        "\n",
        "qc_inv = qc.inverse()\n",
        "qc_inv.draw('text')"
      ],
      "metadata": {
        "id": "zR3_8ZL0SurA",
        "colab": {
          "base_uri": "https://localhost:8080/",
          "height": 94
        },
        "outputId": "c69cfa30-1059-4e41-9a44-eb6e51725ea4"
      },
      "execution_count": 30,
      "outputs": [
        {
          "output_type": "execute_result",
          "data": {
            "text/plain": [
              "      ┌───┐┌─────────┐┌──────────┐\n",
              "q2_0: ┤ H ├┤ Rx(π/2) ├┤ Rx(-π/2) ├\n",
              "      └───┘└─────────┘└──────────┘\n",
              "q2_1: ────────────────────────────\n",
              "                                  "
            ],
            "text/html": [
              "<pre style=\"word-wrap: normal;white-space: pre;background: #fff0;line-height: 1.1;font-family: &quot;Courier New&quot;,Courier,monospace\">      ┌───┐┌─────────┐┌──────────┐\n",
              "q2_0: ┤ H ├┤ Rx(π/2) ├┤ Rx(-π/2) ├\n",
              "      └───┘└─────────┘└──────────┘\n",
              "q2_1: ────────────────────────────\n",
              "                                  </pre>"
            ]
          },
          "metadata": {},
          "execution_count": 30
        }
      ]
    },
    {
      "cell_type": "markdown",
      "metadata": {
        "id": "zAdFk-Kbaw7u"
      },
      "source": [
        "## Non-unitary operations <a name=\"non_unitary\"/>\n",
        "\n",
        "Now that we have gone through all the unitary operations in quantum circuits, we also have access to non-unitary operations. These include measurements, reset of qubits, and classical conditional operations."
      ]
    },
    {
      "cell_type": "code",
      "execution_count": 55,
      "metadata": {
        "ExecuteTime": {
          "end_time": "2021-07-31T05:13:39.580221Z",
          "start_time": "2021-07-31T05:13:39.576248Z"
        },
        "id": "1v8wWH9Waw7u"
      },
      "outputs": [],
      "source": [
        "q = QuantumRegister(1)\n",
        "c = ClassicalRegister(1)"
      ]
    },
    {
      "cell_type": "markdown",
      "metadata": {
        "id": "k3Em8FKeaw7u"
      },
      "source": [
        "### Measurements\n",
        "\n",
        "We don't have access to all the information when we make a measurement in a quantum computer. The quantum state is projected onto the standard basis. Below are two examples showing a circuit that is prepared in a basis state and the quantum computer prepared in a superposition state."
      ]
    },
    {
      "cell_type": "code",
      "execution_count": 56,
      "metadata": {
        "ExecuteTime": {
          "end_time": "2021-07-31T05:13:40.203535Z",
          "start_time": "2021-07-31T05:13:40.197117Z"
        },
        "id": "o1WaiIwPaw7u",
        "outputId": "47f00205-269e-4357-cf34-00bb629e978e",
        "colab": {
          "base_uri": "https://localhost:8080/",
          "height": 94
        }
      },
      "outputs": [
        {
          "output_type": "execute_result",
          "data": {
            "text/plain": [
              "      ┌─┐\n",
              "  q6: ┤M├\n",
              "      └╥┘\n",
              "c0: 1/═╩═\n",
              "       0 "
            ],
            "text/html": [
              "<pre style=\"word-wrap: normal;white-space: pre;background: #fff0;line-height: 1.1;font-family: &quot;Courier New&quot;,Courier,monospace\">      ┌─┐\n",
              "  q6: ┤M├\n",
              "      └╥┘\n",
              "c0: 1/═╩═\n",
              "       0 </pre>"
            ]
          },
          "metadata": {},
          "execution_count": 56
        }
      ],
      "source": [
        "qc = QuantumCircuit(q, c)\n",
        "qc.measure(q, c)\n",
        "qc.draw()"
      ]
    },
    {
      "cell_type": "code",
      "execution_count": 57,
      "metadata": {
        "ExecuteTime": {
          "end_time": "2021-07-31T05:13:47.891765Z",
          "start_time": "2021-07-31T05:13:47.879060Z"
        },
        "id": "MHtVOiQcaw7v",
        "outputId": "146e4dec-5e3e-45c0-cde8-08520fd89789",
        "colab": {
          "base_uri": "https://localhost:8080/"
        }
      },
      "outputs": [
        {
          "output_type": "execute_result",
          "data": {
            "text/plain": [
              "{'0': 1024}"
            ]
          },
          "metadata": {},
          "execution_count": 57
        }
      ],
      "source": [
        "backend = Aer.get_backend('qasm_simulator')\n",
        "job = backend.run(transpile(qc, backend))\n",
        "job.result().get_counts(qc)"
      ]
    },
    {
      "cell_type": "markdown",
      "metadata": {
        "id": "Uu3vRsRbaw7v"
      },
      "source": [
        " The simulator predicts that 100 percent of the time the classical register returns 0."
      ]
    },
    {
      "cell_type": "code",
      "execution_count": 58,
      "metadata": {
        "ExecuteTime": {
          "end_time": "2021-07-31T05:13:49.501725Z",
          "start_time": "2021-07-31T05:13:49.495404Z"
        },
        "id": "pa0HjW09aw7v",
        "outputId": "c0bbdfd1-2f4e-4ca8-fa61-548786957045",
        "colab": {
          "base_uri": "https://localhost:8080/",
          "height": 94
        }
      },
      "outputs": [
        {
          "output_type": "execute_result",
          "data": {
            "text/plain": [
              "      ┌───┐┌─┐\n",
              "  q6: ┤ H ├┤M├\n",
              "      └───┘└╥┘\n",
              "c0: 1/══════╩═\n",
              "            0 "
            ],
            "text/html": [
              "<pre style=\"word-wrap: normal;white-space: pre;background: #fff0;line-height: 1.1;font-family: &quot;Courier New&quot;,Courier,monospace\">      ┌───┐┌─┐\n",
              "  q6: ┤ H ├┤M├\n",
              "      └───┘└╥┘\n",
              "c0: 1/══════╩═\n",
              "            0 </pre>"
            ]
          },
          "metadata": {},
          "execution_count": 58
        }
      ],
      "source": [
        "qc = QuantumCircuit(q, c)\n",
        "qc.h(q)\n",
        "qc.measure(q, c)\n",
        "qc.draw()"
      ]
    },
    {
      "cell_type": "code",
      "execution_count": 59,
      "metadata": {
        "ExecuteTime": {
          "end_time": "2021-07-31T05:13:51.913804Z",
          "start_time": "2021-07-31T05:13:51.902540Z"
        },
        "id": "gFqqaVJbaw7v",
        "outputId": "95711488-c505-414f-fa75-8afbcf40208d",
        "colab": {
          "base_uri": "https://localhost:8080/"
        }
      },
      "outputs": [
        {
          "output_type": "execute_result",
          "data": {
            "text/plain": [
              "{'1': 499, '0': 525}"
            ]
          },
          "metadata": {},
          "execution_count": 59
        }
      ],
      "source": [
        "job = backend.run(transpile(qc, backend))\n",
        "job.result().get_counts(qc)"
      ]
    },
    {
      "cell_type": "markdown",
      "metadata": {
        "id": "u_PrQ4tWaw7v"
      },
      "source": [
        " The simulator predicts that 50 percent of the time the classical register returns 0 or 1."
      ]
    },
    {
      "cell_type": "markdown",
      "metadata": {
        "id": "oCjaYb4taw7v"
      },
      "source": [
        "### Reset\n",
        "It is also possible to `reset` qubits to the $\\left|0\\right\\rangle$ state in the middle of computation. Note that `reset` is not a Gate operation, since it is irreversible."
      ]
    },
    {
      "cell_type": "code",
      "execution_count": 60,
      "metadata": {
        "ExecuteTime": {
          "end_time": "2021-07-31T05:13:55.048748Z",
          "start_time": "2021-07-31T05:13:55.043325Z"
        },
        "id": "NzfGpnjPaw7v",
        "outputId": "ba15730a-c1e5-4ab5-981d-2812c0be443c",
        "colab": {
          "base_uri": "https://localhost:8080/",
          "height": 94
        }
      },
      "outputs": [
        {
          "output_type": "execute_result",
          "data": {
            "text/plain": [
              "           ┌─┐\n",
              "  q6: ─|0>─┤M├\n",
              "           └╥┘\n",
              "c0: 1/══════╩═\n",
              "            0 "
            ],
            "text/html": [
              "<pre style=\"word-wrap: normal;white-space: pre;background: #fff0;line-height: 1.1;font-family: &quot;Courier New&quot;,Courier,monospace\">           ┌─┐\n",
              "  q6: ─|0>─┤M├\n",
              "           └╥┘\n",
              "c0: 1/══════╩═\n",
              "            0 </pre>"
            ]
          },
          "metadata": {},
          "execution_count": 60
        }
      ],
      "source": [
        "qc = QuantumCircuit(q, c)\n",
        "qc.reset(q[0])\n",
        "qc.measure(q, c)\n",
        "qc.draw()"
      ]
    },
    {
      "cell_type": "code",
      "execution_count": 61,
      "metadata": {
        "ExecuteTime": {
          "end_time": "2021-07-31T05:13:57.317513Z",
          "start_time": "2021-07-31T05:13:57.305706Z"
        },
        "id": "oM2QtvlIaw7v",
        "outputId": "3bed3756-2ff3-4714-e4cc-1a5eac046812",
        "colab": {
          "base_uri": "https://localhost:8080/"
        }
      },
      "outputs": [
        {
          "output_type": "execute_result",
          "data": {
            "text/plain": [
              "{'0': 1024}"
            ]
          },
          "metadata": {},
          "execution_count": 61
        }
      ],
      "source": [
        "job = backend.run(transpile(qc, backend))\n",
        "job.result().get_counts(qc)"
      ]
    },
    {
      "cell_type": "code",
      "execution_count": 62,
      "metadata": {
        "ExecuteTime": {
          "end_time": "2021-07-31T05:13:57.866910Z",
          "start_time": "2021-07-31T05:13:57.860240Z"
        },
        "id": "dBFIxkS0aw7v",
        "outputId": "f40358fa-4de7-46cb-e61b-8b434cadd1f4",
        "colab": {
          "base_uri": "https://localhost:8080/",
          "height": 94
        }
      },
      "outputs": [
        {
          "output_type": "execute_result",
          "data": {
            "text/plain": [
              "      ┌───┐     ┌─┐\n",
              "  q6: ┤ H ├─|0>─┤M├\n",
              "      └───┘     └╥┘\n",
              "c0: 1/═══════════╩═\n",
              "                 0 "
            ],
            "text/html": [
              "<pre style=\"word-wrap: normal;white-space: pre;background: #fff0;line-height: 1.1;font-family: &quot;Courier New&quot;,Courier,monospace\">      ┌───┐     ┌─┐\n",
              "  q6: ┤ H ├─|0>─┤M├\n",
              "      └───┘     └╥┘\n",
              "c0: 1/═══════════╩═\n",
              "                 0 </pre>"
            ]
          },
          "metadata": {},
          "execution_count": 62
        }
      ],
      "source": [
        "qc = QuantumCircuit(q, c)\n",
        "qc.h(q)\n",
        "qc.reset(q[0])\n",
        "qc.measure(q, c)\n",
        "qc.draw()"
      ]
    },
    {
      "cell_type": "code",
      "execution_count": 63,
      "metadata": {
        "ExecuteTime": {
          "end_time": "2021-07-31T05:14:01.210349Z",
          "start_time": "2021-07-31T05:14:01.065350Z"
        },
        "id": "qlUAxQlSaw7v",
        "outputId": "87ab17b5-1a70-4d92-c6ec-c13893e938c4",
        "colab": {
          "base_uri": "https://localhost:8080/"
        }
      },
      "outputs": [
        {
          "output_type": "execute_result",
          "data": {
            "text/plain": [
              "{'0': 1024}"
            ]
          },
          "metadata": {},
          "execution_count": 63
        }
      ],
      "source": [
        "job = backend.run(transpile(qc, backend))\n",
        "job.result().get_counts(qc)"
      ]
    },
    {
      "cell_type": "markdown",
      "metadata": {
        "id": "AL1FwH7Saw7w"
      },
      "source": [
        "Here we see that for both of these circuits the simulator always predicts that the output is 100 percent in the 0 state."
      ]
    },
    {
      "cell_type": "markdown",
      "metadata": {
        "id": "kXrmfjEcaw7w"
      },
      "source": [
        "### Conditional operations\n",
        "It is also possible to do operations conditioned on the state of the classical register"
      ]
    },
    {
      "cell_type": "code",
      "execution_count": 64,
      "metadata": {
        "ExecuteTime": {
          "end_time": "2021-07-31T05:14:03.421890Z",
          "start_time": "2021-07-31T05:14:03.416090Z"
        },
        "id": "Ud7y0WKWaw7w",
        "outputId": "0371c28c-a661-4271-e813-a07d38793768",
        "colab": {
          "base_uri": "https://localhost:8080/",
          "height": 164
        }
      },
      "outputs": [
        {
          "output_type": "stream",
          "name": "stderr",
          "text": [
            "<ipython-input-64-d93522f893c6>:2: DeprecationWarning: The method ``qiskit.circuit.instructionset.InstructionSet.c_if()`` is deprecated as of qiskit 1.3.0. It will be removed in 2.0.0.\n",
            "  qc.x(q[0]).c_if(c, 0)\n"
          ]
        },
        {
          "output_type": "execute_result",
          "data": {
            "text/plain": [
              "       ┌───┐ ┌─┐\n",
              "  q6: ─┤ X ├─┤M├\n",
              "       └─╥─┘ └╥┘\n",
              "      ┌──╨──┐ ║ \n",
              "c0: 1/╡ 0x0 ╞═╩═\n",
              "      └─────┘ 0 "
            ],
            "text/html": [
              "<pre style=\"word-wrap: normal;white-space: pre;background: #fff0;line-height: 1.1;font-family: &quot;Courier New&quot;,Courier,monospace\">       ┌───┐ ┌─┐\n",
              "  q6: ─┤ X ├─┤M├\n",
              "       └─╥─┘ └╥┘\n",
              "      ┌──╨──┐ ║ \n",
              "c0: 1/╡ 0x0 ╞═╩═\n",
              "      └─────┘ 0 </pre>"
            ]
          },
          "metadata": {},
          "execution_count": 64
        }
      ],
      "source": [
        "qc = QuantumCircuit(q, c)\n",
        "qc.x(q[0]).c_if(c, 0)\n",
        "qc.measure(q,c)\n",
        "qc.draw()"
      ]
    },
    {
      "cell_type": "markdown",
      "metadata": {
        "id": "r00DADDDaw7w"
      },
      "source": [
        "Here the classical bit always takes the value 0 so the qubit state is always flipped."
      ]
    },
    {
      "cell_type": "code",
      "execution_count": 65,
      "metadata": {
        "ExecuteTime": {
          "end_time": "2021-07-31T05:14:05.763405Z",
          "start_time": "2021-07-31T05:14:05.753665Z"
        },
        "id": "iy6qusrLaw7w",
        "outputId": "6b224a85-31f0-4470-daa3-58bdc75e85ba",
        "colab": {
          "base_uri": "https://localhost:8080/"
        }
      },
      "outputs": [
        {
          "output_type": "execute_result",
          "data": {
            "text/plain": [
              "{'1': 1024}"
            ]
          },
          "metadata": {},
          "execution_count": 65
        }
      ],
      "source": [
        "job = backend.run(transpile(qc, backend))\n",
        "job.result().get_counts(qc)"
      ]
    },
    {
      "cell_type": "code",
      "execution_count": 66,
      "metadata": {
        "ExecuteTime": {
          "end_time": "2021-07-31T05:14:07.187387Z",
          "start_time": "2021-07-31T05:14:07.180366Z"
        },
        "id": "zWc9ewtUaw7w",
        "outputId": "f06dab7b-5d73-47c1-8ccc-afa312797253",
        "colab": {
          "base_uri": "https://localhost:8080/",
          "height": 164
        }
      },
      "outputs": [
        {
          "output_type": "stream",
          "name": "stderr",
          "text": [
            "<ipython-input-66-0e4f42cc5c78>:4: DeprecationWarning: The method ``qiskit.circuit.instructionset.InstructionSet.c_if()`` is deprecated as of qiskit 1.3.0. It will be removed in 2.0.0.\n",
            "  qc.x(q[0]).c_if(c, 0)\n"
          ]
        },
        {
          "output_type": "execute_result",
          "data": {
            "text/plain": [
              "      ┌───┐┌─┐ ┌───┐ ┌─┐\n",
              "  q6: ┤ H ├┤M├─┤ X ├─┤M├\n",
              "      └───┘└╥┘ └─╥─┘ └╥┘\n",
              "            ║ ┌──╨──┐ ║ \n",
              "c0: 1/══════╩═╡ 0x0 ╞═╩═\n",
              "            0 └─────┘ 0 "
            ],
            "text/html": [
              "<pre style=\"word-wrap: normal;white-space: pre;background: #fff0;line-height: 1.1;font-family: &quot;Courier New&quot;,Courier,monospace\">      ┌───┐┌─┐ ┌───┐ ┌─┐\n",
              "  q6: ┤ H ├┤M├─┤ X ├─┤M├\n",
              "      └───┘└╥┘ └─╥─┘ └╥┘\n",
              "            ║ ┌──╨──┐ ║ \n",
              "c0: 1/══════╩═╡ 0x0 ╞═╩═\n",
              "            0 └─────┘ 0 </pre>"
            ]
          },
          "metadata": {},
          "execution_count": 66
        }
      ],
      "source": [
        "qc = QuantumCircuit(q, c)\n",
        "qc.h(q)\n",
        "qc.measure(q,c)\n",
        "qc.x(q[0]).c_if(c, 0)\n",
        "qc.measure(q,c)\n",
        "qc.draw()"
      ]
    },
    {
      "cell_type": "code",
      "execution_count": 67,
      "metadata": {
        "ExecuteTime": {
          "end_time": "2021-07-31T05:14:09.366351Z",
          "start_time": "2021-07-31T05:14:09.199972Z"
        },
        "id": "0GgIgIjIaw7w",
        "outputId": "9c4653b7-a934-4f57-b50a-2f3ec5b3f2fa",
        "colab": {
          "base_uri": "https://localhost:8080/"
        }
      },
      "outputs": [
        {
          "output_type": "execute_result",
          "data": {
            "text/plain": [
              "{'1': 1024}"
            ]
          },
          "metadata": {},
          "execution_count": 67
        }
      ],
      "source": [
        "job = backend.run(transpile(qc, backend))\n",
        "job.result().get_counts(qc)"
      ]
    },
    {
      "cell_type": "markdown",
      "metadata": {
        "id": "i6quFyvJaw7w"
      },
      "source": [
        "Here the classical bit by the first measurement is random but the conditional operation results in the qubit being deterministically put into $\\left|1\\right\\rangle$."
      ]
    },
    {
      "cell_type": "markdown",
      "metadata": {
        "id": "6nR_WJtFaw7x"
      },
      "source": [
        "## Arbitrary initialization <a name=\"initialization\"/>\n",
        "What if we want to initialize a qubit register to an arbitrary state? An arbitrary state for $n$ qubits may be specified by a vector of $2^n$ amplitudes, where the sum of amplitude-norms-squared equals 1. For example, the following three-qubit state can be prepared:\n",
        "\n",
        "$$\\left|\\psi\\right\\rangle = \\frac{i}{4}\\left|000\\right\\rangle + \\frac{1}{\\sqrt{8}}\\left|001\\right\\rangle + \\frac{1+i}{4}\\left|010\\right\\rangle + \\frac{1+2i}{\\sqrt{8}}\\left|101\\right\\rangle + \\frac{1}{4}\\left|110\\right\\rangle$$"
      ]
    },
    {
      "cell_type": "code",
      "execution_count": 68,
      "metadata": {
        "ExecuteTime": {
          "end_time": "2021-07-31T05:14:12.127664Z",
          "start_time": "2021-07-31T05:14:12.118291Z"
        },
        "id": "IFQCydA2aw7x",
        "outputId": "b238dee5-fc34-43ae-ca79-d086760fcc46",
        "colab": {
          "base_uri": "https://localhost:8080/",
          "height": 125
        }
      },
      "outputs": [
        {
          "output_type": "execute_result",
          "data": {
            "text/plain": [
              "      ┌───────────────────────────────────────────────────────────────────┐\n",
              "q7_0: ┤0                                                                  ├\n",
              "      │                                                                   │\n",
              "q7_1: ┤1 Initialize(0.25j,0.35355,0.25+0.25j,0,0,0.35355+0.70711j,0.25,0) ├\n",
              "      │                                                                   │\n",
              "q7_2: ┤2                                                                  ├\n",
              "      └───────────────────────────────────────────────────────────────────┘"
            ],
            "text/html": [
              "<pre style=\"word-wrap: normal;white-space: pre;background: #fff0;line-height: 1.1;font-family: &quot;Courier New&quot;,Courier,monospace\">      ┌───────────────────────────────────────────────────────────────────┐\n",
              "q7_0: ┤0                                                                  ├\n",
              "      │                                                                   │\n",
              "q7_1: ┤1 Initialize(0.25j,0.35355,0.25+0.25j,0,0,0.35355+0.70711j,0.25,0) ├\n",
              "      │                                                                   │\n",
              "q7_2: ┤2                                                                  ├\n",
              "      └───────────────────────────────────────────────────────────────────┘</pre>"
            ]
          },
          "metadata": {},
          "execution_count": 68
        }
      ],
      "source": [
        "# Initializing a three-qubit quantum state\n",
        "import math\n",
        "desired_vector = [\n",
        "    1 / math.sqrt(16) * complex(0, 1),\n",
        "    1 / math.sqrt(8) * complex(1, 0),\n",
        "    1 / math.sqrt(16) * complex(1, 1),\n",
        "    0,\n",
        "    0,\n",
        "    1 / math.sqrt(8) * complex(1, 2),\n",
        "    1 / math.sqrt(16) * complex(1, 0),\n",
        "    0]\n",
        "\n",
        "\n",
        "q = QuantumRegister(3)\n",
        "\n",
        "qc = QuantumCircuit(q)\n",
        "\n",
        "qc.initialize(desired_vector, [q[0],q[1],q[2]])\n",
        "qc.draw()"
      ]
    },
    {
      "cell_type": "code",
      "execution_count": 69,
      "metadata": {
        "ExecuteTime": {
          "end_time": "2021-07-31T05:14:16.873547Z",
          "start_time": "2021-07-31T05:14:16.800233Z"
        },
        "id": "3KzcgIp4aw7x",
        "outputId": "c8c0b757-7146-4889-cab6-2d2bf6aaf9e4",
        "colab": {
          "base_uri": "https://localhost:8080/"
        }
      },
      "outputs": [
        {
          "output_type": "stream",
          "name": "stdout",
          "text": [
            "Statevector([0.        +0.25j      , 0.35355339+0.j        ,\n",
            "             0.25      +0.25j      , 0.        +0.j        ,\n",
            "             0.        +0.j        , 0.35355339+0.70710678j,\n",
            "             0.25      +0.j        , 0.        +0.j        ],\n",
            "            dims=(2, 2, 2))\n"
          ]
        }
      ],
      "source": [
        "backend = Aer.get_backend('statevector_simulator')\n",
        "job = backend.run(transpile(qc, backend))\n",
        "qc_state = job.result().get_statevector(qc)\n",
        "qc_state"
      ]
    },
    {
      "cell_type": "markdown",
      "metadata": {
        "id": "WAUflpwGaw7x"
      },
      "source": [
        "[Fidelity](https://en.wikipedia.org/wiki/Fidelity_of_quantum_states) is useful to check whether two states are the same or not.\n",
        "For quantum (pure) states $\\left|\\psi_1\\right\\rangle$ and $\\left|\\psi_2\\right\\rangle$, the fidelity is\n",
        "\n",
        "$$\n",
        "F\\left(\\left|\\psi_1\\right\\rangle,\\left|\\psi_2\\right\\rangle\\right) = \\left|\\left\\langle\\psi_1\\middle|\\psi_2\\right\\rangle\\right|^2.\n",
        "$$\n",
        "\n",
        "The fidelity is equal to $1$ if and only if two states are equal."
      ]
    },
    {
      "cell_type": "code",
      "execution_count": 70,
      "metadata": {
        "ExecuteTime": {
          "end_time": "2021-07-31T05:14:19.163449Z",
          "start_time": "2021-07-31T05:14:19.157945Z"
        },
        "id": "SmsvBqbtaw7x",
        "outputId": "8a72940d-fcef-475a-fa75-ddc776ab67d0",
        "colab": {
          "base_uri": "https://localhost:8080/"
        }
      },
      "outputs": [
        {
          "output_type": "execute_result",
          "data": {
            "text/plain": [
              "0.9999999999999996"
            ]
          },
          "metadata": {},
          "execution_count": 70
        }
      ],
      "source": [
        "state_fidelity(desired_vector,qc_state)"
      ]
    },
    {
      "cell_type": "markdown",
      "metadata": {
        "id": "8lTxT_dQaw7x"
      },
      "source": [
        "### Further details:\n",
        "\n",
        "How does the desired state get generated behind the scenes? There are multiple methods for doing this. Qiskit uses a [method proposed by Shende et al](https://arxiv.org/abs/quant-ph/0406176). Here, the idea is to assume the quantum register to have started from our desired state, and construct a circuit that takes it to the $\\left|00..0\\right\\rangle$ state. The initialization circuit is then the reverse of such circuit.\n",
        "\n",
        "To take an arbitrary quantum state to the zero state in the computational basis, we perform an iterative procedure that disentangles qubits from the register one-by-one. We know that any arbitrary single-qubit state $\\left|\\rho\\right\\rangle$ can be taken to the $\\left|0\\right\\rangle$ state using a $\\phi$-degree rotation about the Z axis followed by a $\\theta$-degree rotation about the Y axis:\n",
        "\n",
        "$$R_y(-\\theta)R_z(-\\phi)\\left|\\rho\\right\\rangle = re^{it}\\left|0\\right\\rangle$$\n",
        "\n",
        "Since now we are dealing with $n$ qubits instead of just 1, we must factorize the state vector to separate the Least Significant Bit (LSB):\n",
        "\n",
        "$$\\begin{align*}\n",
        " \\left|\\psi\\right\\rangle =& \\alpha_{0_0}\\left|00..00\\right\\rangle + \\alpha_{0_1}\\left|00..01\\right\\rangle + \\alpha_{1_0}\\left|00..10\\right\\rangle + \\alpha_{1_1}\\left|00..11\\right\\rangle + ... \\\\&+ \\alpha_{(2^{n-1}-1)_0}\\left|11..10\\right\\rangle + \\alpha_{(2^{n-1}-1)_1}\\left|11..11\\right\\rangle \\\\\n",
        "=& \\left|00..0\\right\\rangle (\\alpha_{0_0}\\left|0\\right\\rangle + \\alpha_{0_1}\\left|1\\right\\rangle) + \\left|00..1\\right\\rangle (\\alpha_{1_0}\\left|0\\right\\rangle + \\alpha_{1_1}\\left|1\\right\\rangle) + ... \\\\&+ \\left|11..1\\right\\rangle (\\alpha_{(2^{n-1}-1)_0}(\\left|0\\right\\rangle + \\alpha_{(2^{n-1}-1)_1}\\left|1\\right\\rangle) \\\\\n",
        "=& \\left|00..0\\right\\rangle\\left|\\rho_0\\right\\rangle + \\left|00..1\\right\\rangle\\left|\\rho_1\\right\\rangle + ... + \\left|11..1\\right\\rangle\\left|\\rho_{2^{n-1}-1}\\right\\rangle\n",
        "\\end{align*}$$\n",
        "\n",
        "Now each of the single-qubit states $\\left|\\rho_0\\right\\rangle, ..., \\left|\\rho_{2^{n-1}-1}\\right\\rangle$ can be taken to $\\left|0\\right\\rangle$ by finding appropriate $\\phi$ and $\\theta$ angles per the equation above. Doing this simultaneously on all states amounts to the following unitary, which disentangles the LSB:\n",
        "\n",
        "$$U = \\begin{pmatrix}\n",
        "R_{y}(-\\theta_0)R_{z}(-\\phi_0) & & & &\\\\  \n",
        "& R_{y}(-\\theta_1)R_{z}(-\\phi_1) & & &\\\\\n",
        "& . & & &\\\\\n",
        "& & . & &\\\\\n",
        "& & & & R_y(-\\theta_{2^{n-1}-1})R_z(-\\phi_{2^{n-1}-1})\n",
        "\\end{pmatrix} $$\n",
        "\n",
        "Hence,\n",
        "\n",
        "$$U\\left|\\psi\\right\\rangle = \\begin{pmatrix} r_0e^{it_0}\\\\ r_1e^{it_1}\\\\ . \\\\ . \\\\ r_{2^{n-1}-1}e^{it_{2^{n-1}-1}} \\end{pmatrix}\\otimes\\left|0\\right\\rangle$$\n",
        "\n",
        "\n",
        "U can be implemented as a \"quantum multiplexor\" gate, since it is a block diagonal matrix. In the quantum multiplexor formalism, a block diagonal matrix of size $2^n \\times 2^n$, and consisting of $2^s$ blocks, is equivalent to a multiplexor with $s$ select qubits and $n-s$ data qubits. Depending on the state of the select qubits, the corresponding blocks are applied to the data qubits. A multiplexor of this kind can be implemented after recursive decomposition to primitive gates of cx, rz and ry."
      ]
    },
    {
      "cell_type": "code",
      "execution_count": 71,
      "metadata": {
        "ExecuteTime": {
          "end_time": "2021-07-31T05:14:22.630626Z",
          "start_time": "2021-07-31T05:14:21.651868Z"
        },
        "id": "z0HNaxlMaw7x"
      },
      "outputs": [],
      "source": [
        "#import qiskit.tools.jupyter\n",
        "#%qiskit_version_table\n",
        "#%qiskit_copyright"
      ]
    },
    {
      "cell_type": "code",
      "execution_count": 71,
      "metadata": {
        "id": "dgNiByqvaw7y"
      },
      "outputs": [],
      "source": []
    }
  ],
  "metadata": {
    "anaconda-cloud": {},
    "kernelspec": {
      "display_name": "Python 3",
      "language": "python",
      "name": "python3"
    },
    "language_info": {
      "codemirror_mode": {
        "name": "ipython",
        "version": 3
      },
      "file_extension": ".py",
      "mimetype": "text/x-python",
      "name": "python",
      "nbconvert_exporter": "python",
      "pygments_lexer": "ipython3",
      "version": "3.7.7"
    },
    "varInspector": {
      "cols": {
        "lenName": 16,
        "lenType": 16,
        "lenVar": 40
      },
      "kernels_config": {
        "python": {
          "delete_cmd_postfix": "",
          "delete_cmd_prefix": "del ",
          "library": "var_list.py",
          "varRefreshCmd": "print(var_dic_list())"
        },
        "r": {
          "delete_cmd_postfix": ") ",
          "delete_cmd_prefix": "rm(",
          "library": "var_list.r",
          "varRefreshCmd": "cat(var_dic_list()) "
        }
      },
      "types_to_exclude": [
        "module",
        "function",
        "builtin_function_or_method",
        "instance",
        "_Feature"
      ],
      "window_display": false
    },
    "colab": {
      "provenance": []
    }
  },
  "nbformat": 4,
  "nbformat_minor": 0
}